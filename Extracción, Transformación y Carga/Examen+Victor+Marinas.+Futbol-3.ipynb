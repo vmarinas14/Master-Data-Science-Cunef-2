{
 "cells": [
  {
   "cell_type": "markdown",
   "metadata": {},
   "source": [
    "## Examen Victor Marinas\n",
    "\n",
    "## Partidos de Futbol:"
   ]
  },
  {
   "cell_type": "markdown",
   "metadata": {},
   "source": [
    "## Inicializar spark context y cargar los datos desde el fichero."
   ]
  },
  {
   "cell_type": "code",
   "execution_count": 1,
   "metadata": {
    "collapsed": true
   },
   "outputs": [],
   "source": [
    "from pyspark.sql import Row\n",
    "from pyspark import SparkContext\n",
    "import numpy as np\n",
    "import pandas as pd\n",
    "sc= SparkContext()\n",
    "\n"
   ]
  },
  {
   "cell_type": "code",
   "execution_count": 2,
   "metadata": {
    "collapsed": true
   },
   "outputs": [],
   "source": [
    "datos = sc.textFile(\"DataSetPartidos.txt\")"
   ]
  },
  {
   "cell_type": "code",
   "execution_count": 3,
   "metadata": {
    "collapsed": false
   },
   "outputs": [
    {
     "data": {
      "text/plain": [
       "['1::1970-71::1::Athletic Club::Barcelona::1::1::12/09/1970::21942000.0',\n",
       " '2::1970-71::1::Las Palmas::Atletico de Madrid::1::1::12/09/1970::21942000.0',\n",
       " '3::1970-71::1::Real Madrid::Valencia::2::0::12/09/1970::21942000.0',\n",
       " '4::1970-71::1::Celta de Vigo::Sporting de Gijon::2::0::13/09/1970::22028400.0',\n",
       " '5::1970-71::1::Elche::Granada::1::1::13/09/1970::22028400.0']"
      ]
     },
     "execution_count": 3,
     "metadata": {},
     "output_type": "execute_result"
    }
   ],
   "source": [
    "# Observamos que los datos están separados por :: \n",
    "\n",
    "datos.take(5)"
   ]
  },
  {
   "cell_type": "code",
   "execution_count": 12,
   "metadata": {
    "collapsed": false
   },
   "outputs": [
    {
     "data": {
      "text/plain": [
       "[['1',\n",
       "  '1970-71',\n",
       "  '1',\n",
       "  'Athletic Club',\n",
       "  'Barcelona',\n",
       "  '1',\n",
       "  '1',\n",
       "  '12/09/1970',\n",
       "  '21942000.0']]"
      ]
     },
     "execution_count": 12,
     "metadata": {},
     "output_type": "execute_result"
    }
   ],
   "source": [
    "#Realizamos el parseado eliminando la separacion por  ::\n",
    "\n",
    "datos_split = datos.map(lambda x: x.split(\"::\"))\n",
    "\n",
    "datos_split.take(1)\n",
    "\n"
   ]
  },
  {
   "cell_type": "code",
   "execution_count": 21,
   "metadata": {
    "collapsed": false
   },
   "outputs": [],
   "source": [
    "from  pyspark.sql import Row\n",
    "\n",
    "#Importante aqui, cogemos la base de datos inicial, que no ha sido parseada, en este caso se llama datos\n",
    "\n",
    "datos_futbol = datos.\\\n",
    "    map(lambda x: x.split(\"::\")).\\\n",
    "    map(lambda x: Row( temporada = x[1],\n",
    "                     jornada = x[2],\n",
    "                     equipo_local = x[3],\n",
    "                     equipo_visitante = x[4],\n",
    "                     gol_local = int(x[5]),\n",
    "                     gol_visit = int(x[6]) \n",
    "                     ))\n",
    "\n",
    "\n",
    "\n",
    "# Importante en los numeros, poner int"
   ]
  },
  {
   "cell_type": "code",
   "execution_count": 23,
   "metadata": {
    "collapsed": false
   },
   "outputs": [
    {
     "data": {
      "text/plain": [
       "[Row(equipo_local='Athletic Club', equipo_visitante='Barcelona', gol_local=1, gol_visit=1, jornada='1', temporada='1970-71')]"
      ]
     },
     "execution_count": 23,
     "metadata": {},
     "output_type": "execute_result"
    }
   ],
   "source": [
    "datos_futbol.take(1)"
   ]
  },
  {
   "cell_type": "markdown",
   "metadata": {},
   "source": [
    "## Tercera pregunta: Calcular el número total de goles que ha marcado el Sporting de Gijón."
   ]
  },
  {
   "cell_type": "code",
   "execution_count": null,
   "metadata": {
    "collapsed": true
   },
   "outputs": [],
   "source": [
    "# Habria que diferenciar los goles que han metido de Local y los de visitante:\n",
    "\n",
    "# Creamos una tabla con los equipos local, y marcador local\n",
    "\n",
    "#Filtramos por Sporting"
   ]
  },
  {
   "cell_type": "code",
   "execution_count": 32,
   "metadata": {
    "collapsed": false
   },
   "outputs": [
    {
     "data": {
      "text/plain": [
       "[('Sporting de Gijon', 3),\n",
       " ('Sporting de Gijon', 0),\n",
       " ('Sporting de Gijon', 0),\n",
       " ('Sporting de Gijon', 3),\n",
       " ('Sporting de Gijon', 3)]"
      ]
     },
     "execution_count": 32,
     "metadata": {},
     "output_type": "execute_result"
    }
   ],
   "source": [
    "sporting_local = datos_futbol.map(lambda x: (x[0],x[2])).filter(lambda x:'Sporting de Gijon' in x[0])\n",
    "\n",
    "sporting_local.take(5)"
   ]
  },
  {
   "cell_type": "code",
   "execution_count": 40,
   "metadata": {
    "collapsed": false
   },
   "outputs": [
    {
     "data": {
      "text/plain": [
       "[('Sporting de Gijon', 1275)]"
      ]
     },
     "execution_count": 40,
     "metadata": {},
     "output_type": "execute_result"
    }
   ],
   "source": [
    "# Hacemos un sumatorio de los goles:\n",
    "\n",
    "\n",
    "suma_local = sporting_local.reduceByKey(lambda x, y: x + y)\n",
    "\n",
    "suma_local.take(5)\n",
    "\n",
    "\n"
   ]
  },
  {
   "cell_type": "markdown",
   "metadata": {},
   "source": [
    "# Si nos preguntaran por la media por partido"
   ]
  },
  {
   "cell_type": "code",
   "execution_count": 50,
   "metadata": {
    "collapsed": false
   },
   "outputs": [
    {
     "data": {
      "text/plain": [
       "[('Sporting de Gijon', 853)]"
      ]
     },
     "execution_count": 50,
     "metadata": {},
     "output_type": "execute_result"
    }
   ],
   "source": [
    "# Primero seleccionamos la primera fila que contiene el Sporting como local.\n",
    "\n",
    "# Hacemos un sumatorio de los partidos de local\n",
    "\n",
    "\n",
    "count_partidos = sporting_local.map(lambda x: (x[0],1))\n",
    "\n",
    "count_partidos_2 = count_partidos.reduceByKey(lambda x, y: x + y)\n",
    "\n",
    "count_partidos_2.take(5)"
   ]
  },
  {
   "cell_type": "markdown",
   "metadata": {},
   "source": [
    "# Juntariamos los dos datasets con la funcion Join"
   ]
  },
  {
   "cell_type": "code",
   "execution_count": 52,
   "metadata": {
    "collapsed": false
   },
   "outputs": [
    {
     "data": {
      "text/plain": [
       "[('Sporting de Gijon', (1275, 853))]"
      ]
     },
     "execution_count": 52,
     "metadata": {},
     "output_type": "execute_result"
    }
   ],
   "source": [
    "join = suma_local.join(count_partidos_2)\n",
    "\n",
    "join.take(5)"
   ]
  },
  {
   "cell_type": "code",
   "execution_count": 55,
   "metadata": {
    "collapsed": false
   },
   "outputs": [
    {
     "data": {
      "text/plain": [
       "[('Sporting de Gijon', 1.49)]"
      ]
     },
     "execution_count": 55,
     "metadata": {},
     "output_type": "execute_result"
    }
   ],
   "source": [
    "media_local = join.map(lambda x: (x[0], round(x[1][0]/x[1][1],2)))\n",
    "\n",
    "media_local.take(1)"
   ]
  },
  {
   "cell_type": "markdown",
   "metadata": {},
   "source": [
    "\n",
    "# 1.49 goles marca el Sporting de Gijón de Media como local."
   ]
  },
  {
   "cell_type": "code",
   "execution_count": null,
   "metadata": {
    "collapsed": true
   },
   "outputs": [],
   "source": []
  },
  {
   "cell_type": "code",
   "execution_count": null,
   "metadata": {
    "collapsed": true
   },
   "outputs": [],
   "source": [
    "# Creamos una tabla con los equipos visitantes, y marcador visitante"
   ]
  },
  {
   "cell_type": "code",
   "execution_count": 39,
   "metadata": {
    "collapsed": false
   },
   "outputs": [
    {
     "data": {
      "text/plain": [
       "[('Barcelona', 1),\n",
       " ('Atletico de Madrid', 1),\n",
       " ('Valencia', 0),\n",
       " ('Sporting de Gijon', 0),\n",
       " ('Granada', 1)]"
      ]
     },
     "execution_count": 39,
     "metadata": {},
     "output_type": "execute_result"
    }
   ],
   "source": [
    "sporting_visit = datos_futbol.map(lambda x: (x[1],x[3]))\n",
    "\n",
    "\n",
    "sporting_visit.take(5)\n",
    "\n",
    "\n"
   ]
  },
  {
   "cell_type": "code",
   "execution_count": 42,
   "metadata": {
    "collapsed": false
   },
   "outputs": [
    {
     "data": {
      "text/plain": [
       "[('Sporting de Gijon', 0),\n",
       " ('Sporting de Gijon', 0),\n",
       " ('Sporting de Gijon', 1),\n",
       " ('Sporting de Gijon', 1),\n",
       " ('Sporting de Gijon', 1)]"
      ]
     },
     "execution_count": 42,
     "metadata": {},
     "output_type": "execute_result"
    }
   ],
   "source": [
    "#Filtramos por Sporting\n",
    "\n",
    "#Ponemos 0, porque ahora hemos creado un nuevo dataframe 0 nombre equipo y 1 goles visitante\n",
    "\n",
    "sporting_visit_2 = sporting_visit.filter(lambda x: \"Sporting de Gijon\" in x[0])\n",
    "\n",
    "\n",
    "sporting_visit_2.take(5)\n"
   ]
  },
  {
   "cell_type": "code",
   "execution_count": 43,
   "metadata": {
    "collapsed": false
   },
   "outputs": [
    {
     "data": {
      "text/plain": [
       "[('Sporting de Gijon', 767)]"
      ]
     },
     "execution_count": 43,
     "metadata": {},
     "output_type": "execute_result"
    }
   ],
   "source": [
    "goles_visit = sporting_visit_2.reduceByKey(lambda x, y: x + y)\n",
    "\n",
    "goles_visit.take(5)"
   ]
  },
  {
   "cell_type": "markdown",
   "metadata": {},
   "source": [
    "**En total ha metido 1275 goles de local y 767 de visitante**\n",
    "\n",
    "**En total 2042 goles**"
   ]
  },
  {
   "cell_type": "markdown",
   "metadata": {},
   "source": [
    "## Cuarta pregunta: ¿ En que temporada se marcaron más goles?"
   ]
  },
  {
   "cell_type": "code",
   "execution_count": null,
   "metadata": {
    "collapsed": true
   },
   "outputs": [],
   "source": [
    "# Creamos una variable que se va a llamar goles_partido"
   ]
  },
  {
   "cell_type": "code",
   "execution_count": 56,
   "metadata": {
    "collapsed": false
   },
   "outputs": [
    {
     "data": {
      "text/plain": [
       "[Row(equipo_local='Athletic Club', equipo_visitante='Barcelona', gol_local=1, gol_visit=1, jornada='1', temporada='1970-71')]"
      ]
     },
     "execution_count": 56,
     "metadata": {},
     "output_type": "execute_result"
    }
   ],
   "source": [
    "datos_futbol.take(1)"
   ]
  },
  {
   "cell_type": "code",
   "execution_count": 181,
   "metadata": {
    "collapsed": false
   },
   "outputs": [
    {
     "data": {
      "text/plain": [
       "[Row(equipo_local='Athletic Club', equipo_visitante='Barcelona', gol_local=1, gol_visit=1, goles_partido=2, jornada='1', temporada='1970-71')]"
      ]
     },
     "execution_count": 181,
     "metadata": {},
     "output_type": "execute_result"
    }
   ],
   "source": [
    "datos_futbol_2 = datos.\\\n",
    "    map(lambda x: x.split(\"::\")).\\\n",
    "    map(lambda x: Row( temporada = str(x[1]),\n",
    "                     jornada = x[2],\n",
    "                     equipo_local = x[3],\n",
    "                     equipo_visitante = x[4],\n",
    "                     gol_local = int(x[5]),\n",
    "                     gol_visit = int(x[6]),\n",
    "                     goles_partido = int(x[5])+int(x[6]) \n",
    "                     ))\n",
    "    \n",
    "datos_futbol_2.take(1)    "
   ]
  },
  {
   "cell_type": "code",
   "execution_count": 182,
   "metadata": {
    "collapsed": false
   },
   "outputs": [
    {
     "data": {
      "text/plain": [
       "[('1970-71', '1'),\n",
       " ('1970-71', '1'),\n",
       " ('1970-71', '1'),\n",
       " ('1970-71', '1'),\n",
       " ('1970-71', '1')]"
      ]
     },
     "execution_count": 182,
     "metadata": {},
     "output_type": "execute_result"
    }
   ],
   "source": [
    "# Hemos seleccionado los goles de  local y visitante y las temporadas\n",
    "\n",
    "\n",
    "goles_temporada = datos_futbol_2.map(lambda x: (x[6],x[5]))\n",
    "\n",
    "goles_temporada.take(5)"
   ]
  },
  {
   "cell_type": "code",
   "execution_count": 189,
   "metadata": {
    "collapsed": true
   },
   "outputs": [],
   "source": [
    "def get_temporada(x):\n",
    "    return x[5:7] + \" Temporada\""
   ]
  },
  {
   "cell_type": "code",
   "execution_count": 190,
   "metadata": {
    "collapsed": false
   },
   "outputs": [
    {
     "data": {
      "text/plain": [
       "'75 Temporada'"
      ]
     },
     "execution_count": 190,
     "metadata": {},
     "output_type": "execute_result"
    }
   ],
   "source": [
    "get_temporada(\"1974-75\")"
   ]
  },
  {
   "cell_type": "code",
   "execution_count": 192,
   "metadata": {
    "collapsed": false
   },
   "outputs": [
    {
     "data": {
      "text/plain": [
       "[('1970-71', '1'),\n",
       " ('1970-71', '1'),\n",
       " ('1970-71', '1'),\n",
       " ('1970-71', '1'),\n",
       " ('1970-71', '1')]"
      ]
     },
     "execution_count": 192,
     "metadata": {},
     "output_type": "execute_result"
    }
   ],
   "source": [
    "goles_temporada = datos_futbol_2.map(lambda x: (x[6],x[5]))\n",
    "\n",
    "goles_temporada.take(5)"
   ]
  },
  {
   "cell_type": "code",
   "execution_count": 194,
   "metadata": {
    "collapsed": false
   },
   "outputs": [
    {
     "data": {
      "text/plain": [
       "[('71 Temporada', '1'),\n",
       " ('71 Temporada', '1'),\n",
       " ('71 Temporada', '1'),\n",
       " ('71 Temporada', '1'),\n",
       " ('71 Temporada', '1')]"
      ]
     },
     "execution_count": 194,
     "metadata": {},
     "output_type": "execute_result"
    }
   ],
   "source": [
    "temporada_goleadora = goles_temporada.\\\n",
    "                    map(lambda x: (get_temporada(x[0]), x[1]))\n",
    "    \n",
    "    \n",
    "temporada_goleadora.take(5)"
   ]
  },
  {
   "cell_type": "code",
   "execution_count": 196,
   "metadata": {
    "collapsed": false
   },
   "outputs": [
    {
     "data": {
      "text/plain": [
       "[('92 Temporada',\n",
       "  '11111111112222222222333333333344444444445555555555666666666677777777778888888888999999999910101010101010101010111111111111111111111212121212121212121213131313131313131313141414141414141414141515151515151515151516161616161616161616171717171717171717171818181818181818181819191919191919191919202020202020202020202121212121212121212122222222222222222222232323232323232323232424242424242424242425252525252525252525262626262626262626262727272727272727272728282828282828282828292929292929292929293030303030303030303031313131313131313131323232323232323232323333333333333333333334343434343434343434353535353535353535353636363636363636363637373737373737373737383838383838383838381111111111222222222233333333334444444444555555555566666666667777777777888888888899999999991010101010101010101011111111111111111111121212121212121212121313131313131313131314141414141414141414151515151515151515151616161616161616161617171717171717171717181818181818181818181919191919191919191920202020202020202020212121212121212121212222222222222222222223232323232323232323242424242424242424242525252525252525252526262626262626262626272727272727272727272828282828282828282829292929292929292929303030303030303030303131313131313131313132323232323232323232333333333333333333333434343434343434343435353535353535353535363636363636363636363737373737373737373738383838383838383838'),\n",
       " ('93 Temporada',\n",
       "  '11111111112222222222333333333344444444445555555555666666666677777777778888888888999999999910101010101010101010111111111111111111111212121212121212121213131313131313131313141414141414141414141515151515151515151516161616161616161616171717171717171717171818181818181818181819191919191919191919202020202020202020202121212121212121212122222222222222222222232323232323232323232424242424242424242425252525252525252525262626262626262626262727272727272727272728282828282828282828292929292929292929293030303030303030303031313131313131313131323232323232323232323333333333333333333334343434343434343434353535353535353535353636363636363636363637373737373737373737383838383838383838381111111111222222222233333333334444444444555555555566666666667777777777888888888899999999991010101010101010101011111111111111111111121212121212121212121313131313131313131314141414141414141414151515151515151515151616161616161616161617171717171717171717181818181818181818181919191919191919191920202020202020202020212121212121212121212222222222222222222223232323232323232323242424242424242424242525252525252525252526262626262626262626272727272727272727272828282828282828282829292929292929292929303030303030303030303131313131313131313132323232323232323232333333333333333333333434343434343434343435353535353535353535363636363636363636363737373737373737373738383838383838383838'),\n",
       " ('80 Temporada',\n",
       "  '1111111112222222223333333334444444445555555556666666667777777778888888889999999991010101010101010101111111111111111111212121212121212121313131313131313131414141414141414141515151515151515151616161616161616161717171717171717171818181818181818181919191919191919192020202020202020202121212121212121212222222222222222222323232323232323232424242424242424242525252525252525252626262626262626262727272727272727272828282828282828282929292929292929293030303030303030303131313131313131313232323232323232323333333333333333333434343434343434341111111111222222222233333333334444444444555555555566666666667777777777888888888899999999991010101010101010101011111111111111111111121212121212121212121313131313131313131314141414141414141414151515151515151515151616161616161616161617171717171717171717181818181818181818181919191919191919191920202020202020202020212121212121212121212222222222222222222223232323232323232323242424242424242424242525252525252525252526262626262626262626272727272727272727272828282828282828282829292929292929292929303030303030303030303131313131313131313132323232323232323232333333333333333333333434343434343434343435353535353535353535363636363636363636363737373737373737373738383838383838383838'),\n",
       " ('14 Temporada',\n",
       "  '1111111111222222222233333333334444444444555555555566666666667777777777888888888899999999991010101010101010101011111111111111111111121212121212121212121313131313131313131314141414141414141414151515151515151515151616161616161616161617171717171717171717181818181818181818181919191919191919191920202020202020202020212121212121212121212222222222222222222223232323232323232323242424242424242424242525252525252525252526262626262626262626272727272727272727272828282828282828282829292929292929292929303030303030303030303131313131313131313132323232323232323232333333333333333333333434343434343434343435353535353535353535363636363636363636363737373737373737373738383838383838383838111111111112222222222233333333333444444444445555555555566666666666777777777778888888888899999999999101010101010101010101011111111111111111111111212121212121212121212131313131313131313131314141414141414141414141515151515151515151515161616161616161616161617171717171717171717171818181818181818181818191919191919191919191920202020202020202020202121212121212121212121222222222222222222222223232323232323232323232424242424242424242424252525252525252525252526262626262626262626262727272727272727272727282828282828282828282829292929292929292929293030303030303030303030313131313131313131313132323232323232323232323333333333333333333333343434343434343434343435353535353535353535353636363636363636363636373737373737373737373738383838383838383838383939393939393939393939404040404040404040404041414141414141414141414242424242424242424242'),\n",
       " ('94 Temporada',\n",
       "  '11111111112222222222333333333344444444445555555555666666666677777777778888888888999999999910101010101010101010111111111111111111111212121212121212121213131313131313131313141414141414141414141515151515151515151516161616161616161616171717171717171717171818181818181818181819191919191919191919202020202020202020202121212121212121212122222222222222222222232323232323232323232424242424242424242425252525252525252525262626262626262626262727272727272727272728282828282828282828292929292929292929293030303030303030303031313131313131313131323232323232323232323333333333333333333334343434343434343434353535353535353535353636363636363636363637373737373737373737383838383838383838381111111111222222222233333333334444444444555555555566666666667777777777888888888899999999991010101010101010101011111111111111111111121212121212121212121313131313131313131314141414141414141414151515151515151515151616161616161616161617171717171717171717181818181818181818181919191919191919191920202020202020202020212121212121212121212222222222222222222223232323232323232323242424242424242424242525252525252525252526262626262626262626272727272727272727272828282828282828282829292929292929292929303030303030303030303131313131313131313132323232323232323232333333333333333333333434343434343434343435353535353535353535363636363636363636363737373737373737373738383838383838383838')]"
      ]
     },
     "execution_count": 196,
     "metadata": {},
     "output_type": "execute_result"
    }
   ],
   "source": [
    "temporada_goleadora_2 = temporada_goleadora.reduceByKey(lambda x, y: x + y)\n",
    "\n",
    "\n",
    "\n",
    "    \n",
    "temporada_goleadora_2.take(5)"
   ]
  },
  {
   "cell_type": "code",
   "execution_count": null,
   "metadata": {
    "collapsed": true
   },
   "outputs": [],
   "source": []
  },
  {
   "cell_type": "code",
   "execution_count": null,
   "metadata": {
    "collapsed": true
   },
   "outputs": [],
   "source": [
    "datos_decadas_ordenados = datos_lista_temporada.\\\n",
    "    map(lambda x: (get_decade(x[0]),x[1])).\\\n",
    "    reduceByKey(lambda x,y : x+y).\\\n",
    "    sortBy(lambda x: -x[1])\n",
    "    \n",
    "decadas_goleadoras = datos_decadas_ordenados.\\\n",
    "    take(3)"
   ]
  },
  {
   "cell_type": "code",
   "execution_count": null,
   "metadata": {
    "collapsed": true
   },
   "outputs": [],
   "source": []
  },
  {
   "cell_type": "code",
   "execution_count": null,
   "metadata": {
    "collapsed": true
   },
   "outputs": [],
   "source": []
  },
  {
   "cell_type": "code",
   "execution_count": null,
   "metadata": {
    "collapsed": true
   },
   "outputs": [],
   "source": []
  },
  {
   "cell_type": "code",
   "execution_count": 191,
   "metadata": {
    "collapsed": false
   },
   "outputs": [
    {
     "data": {
      "text/plain": [
       "[('1974-75',\n",
       "  '1111111112222222223333333334444444445555555556666666667777777778888888889999999991010101010101010101111111111111111111212121212121212121313131313131313131414141414141414141515151515151515151616161616161616161717171717171717171818181818181818181919191919191919192020202020202020202121212121212121212222222222222222222323232323232323232424242424242424242525252525252525252626262626262626262727272727272727272828282828282828282929292929292929293030303030303030303131313131313131313232323232323232323333333333333333333434343434343434341111111111222222222233333333334444444444555555555566666666667777777777888888888899999999991010101010101010101011111111111111111111121212121212121212121313131313131313131314141414141414141414151515151515151515151616161616161616161617171717171717171717181818181818181818181919191919191919191920202020202020202020212121212121212121212222222222222222222223232323232323232323242424242424242424242525252525252525252526262626262626262626272727272727272727272828282828282828282829292929292929292929303030303030303030303131313131313131313132323232323232323232333333333333333333333434343434343434343435353535353535353535363636363636363636363737373737373737373738383838383838383838'),\n",
       " ('1979-80',\n",
       "  '1111111112222222223333333334444444445555555556666666667777777778888888889999999991010101010101010101111111111111111111212121212121212121313131313131313131414141414141414141515151515151515151616161616161616161717171717171717171818181818181818181919191919191919192020202020202020202121212121212121212222222222222222222323232323232323232424242424242424242525252525252525252626262626262626262727272727272727272828282828282828282929292929292929293030303030303030303131313131313131313232323232323232323333333333333333333434343434343434341111111111222222222233333333334444444444555555555566666666667777777777888888888899999999991010101010101010101011111111111111111111121212121212121212121313131313131313131314141414141414141414151515151515151515151616161616161616161617171717171717171717181818181818181818181919191919191919191920202020202020202020212121212121212121212222222222222222222223232323232323232323242424242424242424242525252525252525252526262626262626262626272727272727272727272828282828282828282829292929292929292929303030303030303030303131313131313131313132323232323232323232333333333333333333333434343434343434343435353535353535353535363636363636363636363737373737373737373738383838383838383838'),\n",
       " ('1996-97',\n",
       "  '1111111111122222222222333333333334444444444455555555555666666666667777777777788888888888999999999991010101010101010101010111111111111111111111112121212121212121212121313131313131313131313141414141414141414141415151515151515151515151616161616161616161616171717171717171717171718181818181818181818181919191919191919191919202020202020202020202021212121212121212121212222222222222222222222232323232323232323232324242424242424242424242525252525252525252525262626262626262626262627272727272727272727272828282828282828282828292929292929292929292930303030303030303030303131313131313131313131323232323232323232323233333333333333333333333434343434343434343434353535353535353535353536363636363636363636363737373737373737373737383838383838383838383839393939393939393939394040404040404040404040414141414141414141414142424242424242424242421111111111222222222233333333334444444444555555555566666666667777777777888888888899999999991010101010101010101011111111111111111111121212121212121212121313131313131313131314141414141414141414151515151515151515151616161616161616161617171717171717171717181818181818181818181919191919191919191920202020202020202020212121212121212121212222222222222222222223232323232323232323242424242424242424242525252525252525252526262626262626262626272727272727272727272828282828282828282829292929292929292929303030303030303030303131313131313131313132323232323232323232333333333333333333333434343434343434343435353535353535353535363636363636363636363737373737373737373738383838383838383838'),\n",
       " ('2000-01',\n",
       "  '1111111111222222222233333333334444444444555555555566666666667777777777888888888899999999991010101010101010101011111111111111111111121212121212121212121313131313131313131314141414141414141414151515151515151515151616161616161616161617171717171717171717181818181818181818181919191919191919191920202020202020202020212121212121212121212222222222222222222223232323232323232323242424242424242424242525252525252525252526262626262626262626272727272727272727272828282828282828282829292929292929292929303030303030303030303131313131313131313132323232323232323232333333333333333333333434343434343434343435353535353535353535363636363636363636363737373737373737373738383838383838383838111111111112222222222233333333333444444444445555555555566666666666777777777778888888888899999999999101010101010101010101011111111111111111111111212121212121212121212131313131313131313131314141414141414141414141515151515151515151515161616161616161616161617171717171717171717171818181818181818181818191919191919191919191920202020202020202020202121212121212121212121222222222222222222222223232323232323232323232424242424242424242424252525252525252525252526262626262626262626262727272727272727272727282828282828282828282829292929292929292929293030303030303030303030313131313131313131313132323232323232323232323333333333333333333333343434343434343434343435353535353535353535353636363636363636363636373737373737373737373738383838383838383838383939393939393939393939404040404040404040404041414141414141414141414242424242424242424242'),\n",
       " ('2004-05',\n",
       "  '1111111111222222222233333333334444444444555555555566666666667777777777888888888899999999991010101010101010101011111111111111111111121212121212121212121313131313131313131314141414141414141414151515151515151515151616161616161616161617171717171717171717181818181818181818181919191919191919191920202020202020202020212121212121212121212222222222222222222223232323232323232323242424242424242424242525252525252525252526262626262626262626272727272727272727272828282828282828282829292929292929292929303030303030303030303131313131313131313132323232323232323232333333333333333333333434343434343434343435353535353535353535363636363636363636363737373737373737373738383838383838383838111111111112222222222233333333333444444444445555555555566666666666777777777778888888888899999999999101010101010101010101011111111111111111111111212121212121212121212131313131313131313131314141414141414141414141515151515151515151515161616161616161616161617171717171717171717171818181818181818181818191919191919191919191920202020202020202020202121212121212121212121222222222222222222222223232323232323232323232424242424242424242424252525252525252525252526262626262626262626262727272727272727272727282828282828282828282829292929292929292929293030303030303030303030313131313131313131313132323232323232323232323333333333333333333333343434343434343434343435353535353535353535353636363636363636363636373737373737373737373738383838383838383838383939393939393939393939404040404040404040404041414141414141414141414242424242424242424242')]"
      ]
     },
     "execution_count": 191,
     "metadata": {},
     "output_type": "execute_result"
    }
   ],
   "source": [
    "goles_temporada_2 = goles_temporada.reduceByKey(lambda x, y : x + y )\n",
    "\n",
    "goles_temporada_2.take(5)"
   ]
  },
  {
   "cell_type": "code",
   "execution_count": null,
   "metadata": {
    "collapsed": true
   },
   "outputs": [],
   "source": []
  },
  {
   "cell_type": "code",
   "execution_count": 83,
   "metadata": {
    "collapsed": false
   },
   "outputs": [],
   "source": [
    "\n",
    "# Arriba Preguntar"
   ]
  },
  {
   "cell_type": "code",
   "execution_count": null,
   "metadata": {
    "collapsed": true
   },
   "outputs": [],
   "source": [
    "equipo_local = local.reduceByKey(lambda x, y: x + y).filter(lambda x: x[1] > 1400)\n",
    "\n",
    "\n",
    "equipo_local.take(20)"
   ]
  },
  {
   "cell_type": "code",
   "execution_count": null,
   "metadata": {
    "collapsed": true
   },
   "outputs": [],
   "source": []
  },
  {
   "cell_type": "code",
   "execution_count": null,
   "metadata": {
    "collapsed": true
   },
   "outputs": [],
   "source": []
  },
  {
   "cell_type": "code",
   "execution_count": null,
   "metadata": {
    "collapsed": true
   },
   "outputs": [],
   "source": []
  },
  {
   "cell_type": "code",
   "execution_count": null,
   "metadata": {
    "collapsed": true
   },
   "outputs": [],
   "source": []
  },
  {
   "cell_type": "markdown",
   "metadata": {},
   "source": [
    "## Quinta pregunta: ¿Cúal es el equipo que tiene el record de más goles como local? ¿ y cómo visitante?"
   ]
  },
  {
   "cell_type": "code",
   "execution_count": 84,
   "metadata": {
    "collapsed": false
   },
   "outputs": [
    {
     "data": {
      "text/plain": [
       "[('Athletic Club', 1),\n",
       " ('Las Palmas', 1),\n",
       " ('Real Madrid', 2),\n",
       " ('Celta de Vigo', 2),\n",
       " ('Elche', 1)]"
      ]
     },
     "execution_count": 84,
     "metadata": {},
     "output_type": "execute_result"
    }
   ],
   "source": [
    "# Elegimos los equipos locales y goles local\n",
    "\n",
    "\n",
    "local = datos_futbol.map(lambda x: (x[0], x[2]))\n",
    "\n",
    "local.take(5)"
   ]
  },
  {
   "cell_type": "code",
   "execution_count": 107,
   "metadata": {
    "collapsed": false
   },
   "outputs": [
    {
     "data": {
      "text/plain": [
       "[('Athletic Club', 1424),\n",
       " ('Barcelona', 2043),\n",
       " ('Real Madrid', 2054),\n",
       " ('Valencia', 1522),\n",
       " ('Atletico de Madrid', 1566)]"
      ]
     },
     "execution_count": 107,
     "metadata": {},
     "output_type": "execute_result"
    }
   ],
   "source": [
    "# Sumamos con reduceByKey los goles por equipo\n",
    "\n",
    "\n",
    "# Y filtramos por goles mayores de 1400, para ver los más goleadores\n",
    "\n",
    "\n",
    "\n",
    "equipo_local = local.reduceByKey(lambda x, y: x + y).filter(lambda x: x[1] > 1400)\n",
    "\n",
    "\n",
    "equipo_local.take(20)"
   ]
  },
  {
   "cell_type": "markdown",
   "metadata": {},
   "source": [
    "# Equipo más goleador como local es el Real Madrid con 2054 goles"
   ]
  },
  {
   "cell_type": "code",
   "execution_count": null,
   "metadata": {
    "collapsed": true
   },
   "outputs": [],
   "source": [
    "# Elegimos los equipos visitantes y goles visitantes"
   ]
  },
  {
   "cell_type": "code",
   "execution_count": 108,
   "metadata": {
    "collapsed": false
   },
   "outputs": [
    {
     "data": {
      "text/plain": [
       "[('Barcelona', 1),\n",
       " ('Atletico de Madrid', 1),\n",
       " ('Valencia', 0),\n",
       " ('Sporting de Gijon', 0),\n",
       " ('Granada', 1)]"
      ]
     },
     "execution_count": 108,
     "metadata": {},
     "output_type": "execute_result"
    }
   ],
   "source": [
    "\n",
    "visitante = datos_futbol.map(lambda x: (x[1], x[3]))\n",
    "\n",
    "visitante.take(5)"
   ]
  },
  {
   "cell_type": "code",
   "execution_count": 110,
   "metadata": {
    "collapsed": false
   },
   "outputs": [
    {
     "data": {
      "text/plain": [
       "[('Barcelona', 1296), ('Real Madrid', 1296)]"
      ]
     },
     "execution_count": 110,
     "metadata": {},
     "output_type": "execute_result"
    }
   ],
   "source": [
    "equipo_visitante = visitante.reduceByKey(lambda x, y: x + y).filter(lambda x: x[1] > 1000)\n",
    "\n",
    "\n",
    "equipo_visitante.take(20)"
   ]
  },
  {
   "cell_type": "markdown",
   "metadata": {},
   "source": [
    "# Como Visitante el Madrid y el Barça empatan a 1296 goles"
   ]
  },
  {
   "cell_type": "code",
   "execution_count": null,
   "metadata": {
    "collapsed": true
   },
   "outputs": [],
   "source": []
  },
  {
   "cell_type": "markdown",
   "metadata": {},
   "source": [
    "## Sexta pregunta: ¿Cúales son las 3 décadas en las que más goles se metieron?"
   ]
  },
  {
   "cell_type": "code",
   "execution_count": null,
   "metadata": {
    "collapsed": true
   },
   "outputs": [],
   "source": []
  },
  {
   "cell_type": "code",
   "execution_count": null,
   "metadata": {
    "collapsed": true
   },
   "outputs": [],
   "source": []
  },
  {
   "cell_type": "markdown",
   "metadata": {},
   "source": [
    "##  Séptima pregunta: ¿Cúal es la media de victorias de los equipos que han estado menos de 10 temporadas en primera división?"
   ]
  },
  {
   "cell_type": "code",
   "execution_count": null,
   "metadata": {
    "collapsed": true
   },
   "outputs": [],
   "source": []
  },
  {
   "cell_type": "code",
   "execution_count": null,
   "metadata": {
    "collapsed": true
   },
   "outputs": [],
   "source": []
  },
  {
   "cell_type": "markdown",
   "metadata": {},
   "source": [
    "##  Octava pregunta: ¿Cúal es la media de goles como visitante por partido?"
   ]
  },
  {
   "cell_type": "code",
   "execution_count": 111,
   "metadata": {
    "collapsed": false
   },
   "outputs": [
    {
     "data": {
      "text/plain": [
       "[Row(equipo_local='Athletic Club', equipo_visitante='Barcelona', gol_local=1, gol_visit=1, jornada='1', temporada='1970-71')]"
      ]
     },
     "execution_count": 111,
     "metadata": {},
     "output_type": "execute_result"
    }
   ],
   "source": [
    "datos_futbol.take(1)"
   ]
  },
  {
   "cell_type": "code",
   "execution_count": 165,
   "metadata": {
    "collapsed": false
   },
   "outputs": [
    {
     "data": {
      "text/plain": [
       "[('Athletic Club', 1),\n",
       " ('Las Palmas', 1),\n",
       " ('Real Madrid', 0),\n",
       " ('Celta de Vigo', 0),\n",
       " ('Elche', 1)]"
      ]
     },
     "execution_count": 165,
     "metadata": {},
     "output_type": "execute_result"
    }
   ],
   "source": [
    "# Revisar\n",
    "\n",
    "\n",
    "goles_partido_visitante = datos_futbol.map(lambda x: (x[0],x[3]))\n",
    "\n",
    "\n",
    "goles_partido_visitante.take(5)"
   ]
  },
  {
   "cell_type": "code",
   "execution_count": 160,
   "metadata": {
    "collapsed": true
   },
   "outputs": [],
   "source": [
    "total_goles_visitante = goles_partido_visitante.reduceByKey(lambda x, y: x + y)"
   ]
  },
  {
   "cell_type": "code",
   "execution_count": 161,
   "metadata": {
    "collapsed": false
   },
   "outputs": [
    {
     "data": {
      "text/plain": [
       "[('Athletic Club', 794),\n",
       " ('Almeria', 335),\n",
       " ('Orihuela', 15),\n",
       " ('Moscardo', 12),\n",
       " ('Cartagena', 99),\n",
       " ('Tenerife', 674),\n",
       " ('Palamos', 101),\n",
       " ('Linares CF', 78),\n",
       " ('Sevilla', 734),\n",
       " ('Leganes', 236),\n",
       " ('Hercules', 574),\n",
       " ('Sevilla Atletico', 60),\n",
       " ('Figueres', 118),\n",
       " ('Sporting de Gijon', 816),\n",
       " ('Girona', 138),\n",
       " ('Lorca Deportiva', 45),\n",
       " ('CD Malaga', 326),\n",
       " ('Mallorca B', 27),\n",
       " ('Extremadura', 139),\n",
       " ('Real Union', 24)]"
      ]
     },
     "execution_count": 161,
     "metadata": {},
     "output_type": "execute_result"
    }
   ],
   "source": [
    "# Obtenemos los goles por temporada, siendo visitante\n",
    "\n",
    "total_goles_visitante.take(20)"
   ]
  },
  {
   "cell_type": "code",
   "execution_count": 163,
   "metadata": {
    "collapsed": false
   },
   "outputs": [
    {
     "data": {
      "text/plain": [
       "[('1974-75', 686),\n",
       " ('1979-80', 686),\n",
       " ('1996-97', 842),\n",
       " ('2000-01', 842),\n",
       " ('2004-05', 842),\n",
       " ('1972-73', 686),\n",
       " ('1991-92', 760),\n",
       " ('1994-95', 760),\n",
       " ('2003-04', 842),\n",
       " ('1984-85', 686),\n",
       " ('1986-87', 795),\n",
       " ('1970-71', 620),\n",
       " ('1971-72', 686),\n",
       " ('1997-98', 842),\n",
       " ('2009-10', 842),\n",
       " ('2014-2015', 735),\n",
       " ('1989-90', 760),\n",
       " ('1987-88', 760),\n",
       " ('1985-86', 686),\n",
       " ('1982-83', 686),\n",
       " ('1992-93', 760),\n",
       " ('1981-82', 686),\n",
       " ('1998-99', 842),\n",
       " ('2011-12', 842),\n",
       " ('2007-08', 842),\n",
       " ('1973-74', 686),\n",
       " ('2001-02', 842),\n",
       " ('1977-78', 686),\n",
       " ('2010-11', 842),\n",
       " ('1975-76', 686),\n",
       " ('2006-07', 842),\n",
       " ('1980-81', 686),\n",
       " ('1995-96', 842),\n",
       " ('2013-14', 842),\n",
       " ('1999-00', 842),\n",
       " ('2008-09', 842),\n",
       " ('1993-94', 760),\n",
       " ('1978-79', 686),\n",
       " ('2012-13', 842),\n",
       " ('2005-06', 842),\n",
       " ('2002-03', 842),\n",
       " ('1983-84', 686),\n",
       " ('1988-89', 760),\n",
       " ('1990-91', 760),\n",
       " ('1976-77', 686)]"
      ]
     },
     "execution_count": 163,
     "metadata": {},
     "output_type": "execute_result"
    }
   ],
   "source": [
    "# Necesitamos saber el numero de partidos  que se jugaron en total:\n",
    "\n",
    "\n",
    "# Vemos el numero de partidos que se jugaron por temporada\n",
    "\n",
    "numero_partidos = datos_futbol.map(lambda x: (x[5],1))\n",
    "\n",
    "numero_partidos_2 = numero_partidos.reduceByKey(lambda x, y: x + y)\n",
    "\n",
    "\n",
    "numero_partidos_2.take(80)\n",
    "\n",
    "\n"
   ]
  },
  {
   "cell_type": "code",
   "execution_count": 166,
   "metadata": {
    "collapsed": false
   },
   "outputs": [
    {
     "data": {
      "text/plain": [
       "34518"
      ]
     },
     "execution_count": 166,
     "metadata": {},
     "output_type": "execute_result"
    }
   ],
   "source": [
    "\n",
    "\n",
    "datos_futbol.count()"
   ]
  },
  {
   "cell_type": "code",
   "execution_count": null,
   "metadata": {
    "collapsed": false
   },
   "outputs": [],
   "source": []
  },
  {
   "cell_type": "code",
   "execution_count": null,
   "metadata": {
    "collapsed": true
   },
   "outputs": [],
   "source": []
  }
 ],
 "metadata": {
  "kernelspec": {
   "display_name": "Python 3",
   "language": "python",
   "name": "python3"
  },
  "language_info": {
   "codemirror_mode": {
    "name": "ipython",
    "version": 3
   },
   "file_extension": ".py",
   "mimetype": "text/x-python",
   "name": "python",
   "nbconvert_exporter": "python",
   "pygments_lexer": "ipython3",
   "version": "3.5.2"
  }
 },
 "nbformat": 4,
 "nbformat_minor": 2
}
