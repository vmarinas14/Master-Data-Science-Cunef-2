{
 "cells": [
  {
   "cell_type": "markdown",
   "metadata": {},
   "source": [
    "# Victor Marinas González"
   ]
  },
  {
   "cell_type": "markdown",
   "metadata": {},
   "source": [
    "# Examen ETL: SPARK 12+1/02"
   ]
  },
  {
   "cell_type": "markdown",
   "metadata": {},
   "source": [
    "Se podrá utilizar toda la información que se encuentra en el campus. \n",
    "\n",
    "Se va a trabajar sobre varios ficheros de datos:\n",
    "\n",
    "Usuarios: id_usuario::sexo::edad::id_profesion::codigo_postal\n",
    "\n",
    "Peliculas: id_pelicula::titulo (año)::tipo1|tipo2|tipo3\n",
    "\n",
    "Ratings: id_pelicula::id_usuario::puntuacion::fecha_timestamp\n",
    "\n",
    "A cada una de las preguntas hay que responder explicando brevemente que se pretende hacer antes de lanzar el código.\n",
    "\n",
    "Al documento lo llamareís con vuestro nombre y apellido. Debeís enviarlo a mi correo de CUNEF antes del final del examen.\n",
    "\n",
    "El lenguaje para trabajar con Spark podrá ser python o R indistintamente."
   ]
  },
  {
   "cell_type": "code",
   "execution_count": 77,
   "metadata": {
    "collapsed": true
   },
   "outputs": [],
   "source": [
    "# Nota: Carga de las puntuaciones\n",
    "# Función para parsear la fecha\n",
    "\n",
    "from datetime import datetime\n",
    "dateparse = lambda x: datetime.fromtimestamp(float(x))"
   ]
  },
  {
   "cell_type": "markdown",
   "metadata": {},
   "source": [
    "## Primera tarea: Inicializar spark context y cargar los datos desde los ficheros."
   ]
  },
  {
   "cell_type": "code",
   "execution_count": null,
   "metadata": {
    "collapsed": true
   },
   "outputs": [],
   "source": [
    "# Importamos la librería correspondiente  y cargamos  el Spark context\n",
    "\n",
    "from pyspark import SparkContext\n",
    "\n",
    "sc = SparkContext()"
   ]
  },
  {
   "cell_type": "code",
   "execution_count": 79,
   "metadata": {
    "collapsed": true
   },
   "outputs": [],
   "source": [
    "# Cargamos las bases de datos :\n",
    "\n",
    "\n",
    "movies_data = sc.textFile('./movies.dat.txt')\n",
    "ratings_data = sc.textFile('./ratings.dat.txt')\n",
    "users_data = sc.textFile('./users.dat.txt')"
   ]
  },
  {
   "cell_type": "code",
   "execution_count": 125,
   "metadata": {
    "collapsed": false
   },
   "outputs": [],
   "source": [
    "#Realizamos el parseado eliminando la separacion por  ::\n",
    "\n",
    "movies_data_split = movies_data.map(lambda x: x.split('::'))\n",
    "ratings_data_split = ratings_data.map(lambda x: x.split(\"::\")).map(lambda x: [x[0], x[1], int(x[2]), datetime.fromtimestamp(float(x[3])).year])\n",
    "users_data_split = users_data.map(lambda x: x.split('::'))"
   ]
  },
  {
   "cell_type": "code",
   "execution_count": 126,
   "metadata": {
    "collapsed": false
   },
   "outputs": [
    {
     "data": {
      "text/plain": [
       "[['1', 'Toy Story (1995)', \"Animation|Children's|Comedy\"]]"
      ]
     },
     "execution_count": 126,
     "metadata": {},
     "output_type": "execute_result"
    }
   ],
   "source": [
    "movies_data_split.take(1)"
   ]
  },
  {
   "cell_type": "code",
   "execution_count": 127,
   "metadata": {
    "collapsed": false
   },
   "outputs": [
    {
     "data": {
      "text/plain": [
       "[['1', '1193', 5, 2000]]"
      ]
     },
     "execution_count": 127,
     "metadata": {},
     "output_type": "execute_result"
    }
   ],
   "source": [
    "ratings_data_split.take(1)"
   ]
  },
  {
   "cell_type": "code",
   "execution_count": 128,
   "metadata": {
    "collapsed": false
   },
   "outputs": [
    {
     "data": {
      "text/plain": [
       "[['1', 'F', '1', '10', '48067']]"
      ]
     },
     "execution_count": 128,
     "metadata": {},
     "output_type": "execute_result"
    }
   ],
   "source": [
    "users_data_split.take(1)"
   ]
  },
  {
   "cell_type": "code",
   "execution_count": 129,
   "metadata": {
    "collapsed": false
   },
   "outputs": [],
   "source": [
    "#Parseamos la base de datos de users, utilizando la funcion row, para que quede una fila debajo de la anterior.\n",
    "\n",
    "from pyspark.sql import Row\n",
    "\n",
    "\n",
    "users_data_row = users_data.map(lambda x: x.split('::')).\\\n",
    "    map(lambda x: Row(IDUsuario = x[0],\n",
    "                     Sexo = x[1],\n",
    "                     Edad = int(x[2]),\n",
    "                     CodigoPostal = int(x[4]),\n",
    "                     Id_Profesion = x[3]))\n",
    "    \n",
    "\n"
   ]
  },
  {
   "cell_type": "code",
   "execution_count": 86,
   "metadata": {
    "collapsed": false
   },
   "outputs": [
    {
     "data": {
      "text/plain": [
       "[Row(CodigoPostal=48067, Edad=1, IDUsuario='1', Id_Profesion='10', Sexo='F')]"
      ]
     },
     "execution_count": 86,
     "metadata": {},
     "output_type": "execute_result"
    }
   ],
   "source": [
    "users_data_row.take(1)"
   ]
  },
  {
   "cell_type": "code",
   "execution_count": 90,
   "metadata": {
    "collapsed": false
   },
   "outputs": [],
   "source": [
    "# Parseo la base de datos movies,  Primero hacemos un remplazamiento, despues con split separamos por :: (con split)\n",
    "# Utilizamos la funcion Row, para que ponga cada fila debajo de la anterior.\n",
    "\n",
    "from pyspark.sql import Row\n",
    "\n",
    "movies_data_row = movies_data.map(lambda x: x.replace('|', '::')).\\\n",
    "    map(lambda x: x.split('::')).\\\n",
    "    map(lambda x: Row(id_pelicula = x[0],\n",
    "                     titulo = x[1],\n",
    "                     año = str(x[1][-6:]),\n",
    "                     tipo_1 = x[2],\n",
    "                     tipo_2 = x[3],\n",
    "                     tipo_3 = x[4]))\n",
    "    \n"
   ]
  },
  {
   "cell_type": "code",
   "execution_count": 91,
   "metadata": {
    "collapsed": false
   },
   "outputs": [
    {
     "data": {
      "text/plain": [
       "[Row(año='(1995)', id_pelicula='1', tipo_1='Animation', tipo_2=\"Children's\", tipo_3='Comedy', titulo='Toy Story (1995)')]"
      ]
     },
     "execution_count": 91,
     "metadata": {},
     "output_type": "execute_result"
    }
   ],
   "source": [
    "movies_data_row.take(1)"
   ]
  },
  {
   "cell_type": "code",
   "execution_count": 92,
   "metadata": {
    "collapsed": true
   },
   "outputs": [],
   "source": [
    "# Parseamos  la base de datos (Ratings). Separaramos  por :: (con split)\n",
    "# Utilizamos Row, por el mismo motivo que en movies.\n",
    "\n",
    "\n",
    "from pyspark.sql import Row\n",
    "\n",
    "ratings_data_row = ratings_data.map(lambda x: x.split('::')).\\\n",
    "    map(lambda x: Row(id_pelicula = x[0],\n",
    "                     id_usuario = x[1],\n",
    "                     puntuacion = x[2],\n",
    "                     fecha = dateparse(x[3])))\n"
   ]
  },
  {
   "cell_type": "code",
   "execution_count": 93,
   "metadata": {
    "collapsed": false
   },
   "outputs": [
    {
     "data": {
      "text/plain": [
       "[Row(fecha=datetime.datetime(2000, 12, 31, 22, 12, 40), id_pelicula='1', id_usuario='1193', puntuacion='5')]"
      ]
     },
     "execution_count": 93,
     "metadata": {},
     "output_type": "execute_result"
    }
   ],
   "source": [
    "ratings_data_row.take(1)"
   ]
  },
  {
   "cell_type": "markdown",
   "metadata": {},
   "source": [
    "## Segunda tarea: Media de puntuaciones globales por año. ¿Hay algún año significativamente distinto?"
   ]
  },
  {
   "cell_type": "code",
   "execution_count": null,
   "metadata": {
    "collapsed": true
   },
   "outputs": [],
   "source": [
    "# Primer paso, en la base de datos Ratings, tenemos que filtrar por  la puntuacion y la fecha (año)"
   ]
  },
  {
   "cell_type": "code",
   "execution_count": 137,
   "metadata": {
    "collapsed": false
   },
   "outputs": [
    {
     "data": {
      "text/plain": [
       "[(2000, 5), (2000, 3), (2000, 3), (2000, 4), (2001, 5)]"
      ]
     },
     "execution_count": 137,
     "metadata": {},
     "output_type": "execute_result"
    }
   ],
   "source": [
    "ratings_2 = ratings_data_split.map(lambda x: (x[3],x[2]))\n",
    "\n",
    "ratings_2.take(5)"
   ]
  },
  {
   "cell_type": "code",
   "execution_count": 138,
   "metadata": {
    "collapsed": false
   },
   "outputs": [
    {
     "data": {
      "text/plain": [
       "[(2000, 3248432), (2002, 83171), (2001, 239037), (2003, 11673)]"
      ]
     },
     "execution_count": 138,
     "metadata": {},
     "output_type": "execute_result"
    }
   ],
   "source": [
    "# Sumamos las puntuaciones por años.\n",
    "\n",
    "ratings_suma = ratings_2.reduceByKey(lambda x, y: x + y)\n",
    "\n",
    "ratings_suma.take(5)"
   ]
  },
  {
   "cell_type": "code",
   "execution_count": 139,
   "metadata": {
    "collapsed": false
   },
   "outputs": [
    {
     "data": {
      "text/plain": [
       "[(2000, 904757), (2002, 24046), (2001, 68058), (2003, 3348)]"
      ]
     },
     "execution_count": 139,
     "metadata": {},
     "output_type": "execute_result"
    }
   ],
   "source": [
    "# Necesitamos contar el numero de personas que votaron, para obtener la media\n",
    "\n",
    "count_ratings = ratings_2.map(lambda x: (x[0],1))\n",
    "\n",
    "count_ratings_2 = count_ratings.reduceByKey(lambda x, y: x + y)\n",
    "\n",
    "count_ratings_2.take(5)\n"
   ]
  },
  {
   "cell_type": "code",
   "execution_count": null,
   "metadata": {
    "collapsed": true
   },
   "outputs": [],
   "source": []
  },
  {
   "cell_type": "code",
   "execution_count": 149,
   "metadata": {
    "collapsed": false
   },
   "outputs": [],
   "source": [
    "# Cogemos solo el año\n",
    "\n",
    "ratings_3 = ratings_2.map(lambda x: x[0]).distinct().collect()\n",
    "\n"
   ]
  },
  {
   "cell_type": "code",
   "execution_count": 152,
   "metadata": {
    "collapsed": false
   },
   "outputs": [
    {
     "data": {
      "text/plain": [
       "[(2000, (3248432, 904757)),\n",
       " (2002, (83171, 24046)),\n",
       " (2001, (239037, 68058)),\n",
       " (2003, (11673, 3348))]"
      ]
     },
     "execution_count": 152,
     "metadata": {},
     "output_type": "execute_result"
    }
   ],
   "source": [
    "# Juntamos las dos tablas, que hemos creado anteriormente.\n",
    "\n",
    "join = ratings_suma.join(count_ratings_2)\n",
    "\n",
    "join.take(5)\n",
    "\n",
    "\n",
    "# Obtenemos el año,  la suma de puntuaciones y las nº de personas que hayn votado\n"
   ]
  },
  {
   "cell_type": "code",
   "execution_count": 156,
   "metadata": {
    "collapsed": false
   },
   "outputs": [
    {
     "data": {
      "text/plain": [
       "[(2000, 3.6), (2002, 3.5), (2001, 3.5), (2003, 3.5)]"
      ]
     },
     "execution_count": 156,
     "metadata": {},
     "output_type": "execute_result"
    }
   ],
   "source": [
    "#Calculamos la media de la suma de puntuaciones / nº de personas\n",
    "\n",
    "mean = join.map(lambda x: (x[0], round(x[1][0]/x[1][1],1)))\n",
    "\n",
    "mean.take(5)"
   ]
  },
  {
   "cell_type": "markdown",
   "metadata": {},
   "source": [
    "Podemos observa que la media de puntuaciones por año es:\n",
    "\n",
    "**Año 2000, media 3.6**\n",
    "\n",
    "**Año 2001, media 3.5**\n",
    "\n",
    "**Año 2002, media 3.5**\n",
    "\n",
    "**Año 2003, media 3.5**\n",
    "\n",
    "Podemos concluir que la media estos ultimos años es similar."
   ]
  },
  {
   "cell_type": "markdown",
   "metadata": {},
   "source": [
    "## Tercera pregunta: ¿Cuál es la película más votada por los mayores de 60? "
   ]
  },
  {
   "cell_type": "code",
   "execution_count": 100,
   "metadata": {
    "collapsed": false
   },
   "outputs": [
    {
     "data": {
      "text/plain": [
       "[['1', 'F', '1', '10', '48067']]"
      ]
     },
     "execution_count": 100,
     "metadata": {},
     "output_type": "execute_result"
    }
   ],
   "source": [
    "users_data_split.take(1)"
   ]
  },
  {
   "cell_type": "code",
   "execution_count": 101,
   "metadata": {
    "collapsed": false
   },
   "outputs": [
    {
     "data": {
      "text/plain": [
       "[('1', 1), ('2', 56), ('3', 25), ('4', 45), ('5', 25)]"
      ]
     },
     "execution_count": 101,
     "metadata": {},
     "output_type": "execute_result"
    }
   ],
   "source": [
    "#Cogemos solo la primera y la segunda columna (id y edad)\n",
    "\n",
    "mayores_60 = users_data_split.map(lambda x: (x[0], int(x[2])))\n",
    "mayores_60.take(5)"
   ]
  },
  {
   "cell_type": "code",
   "execution_count": 102,
   "metadata": {
    "collapsed": false
   },
   "outputs": [],
   "source": [
    "#Filtramos la segunda columna por mayores de 60\n",
    "\n",
    "mayores_60_2 = mayores_60.filter(lambda x: x[1] > 60)\n",
    "\n"
   ]
  },
  {
   "cell_type": "code",
   "execution_count": 103,
   "metadata": {
    "collapsed": false
   },
   "outputs": [
    {
     "data": {
      "text/plain": [
       "[]"
      ]
     },
     "execution_count": 103,
     "metadata": {},
     "output_type": "execute_result"
    }
   ],
   "source": [
    "mayores_60_2.take(5)"
   ]
  },
  {
   "cell_type": "code",
   "execution_count": 104,
   "metadata": {
    "collapsed": true
   },
   "outputs": [],
   "source": [
    "# No hay nadie mayor de 60 años...."
   ]
  },
  {
   "cell_type": "markdown",
   "metadata": {},
   "source": [
    "## Cuarta pregunta: ¿Cuál es la puntuación media de las peliculas de acción del año 2000?"
   ]
  },
  {
   "cell_type": "code",
   "execution_count": 105,
   "metadata": {
    "collapsed": false
   },
   "outputs": [
    {
     "data": {
      "text/plain": [
       "[['1', 'Toy Story (1995)', \"Animation|Children's|Comedy\"]]"
      ]
     },
     "execution_count": 105,
     "metadata": {},
     "output_type": "execute_result"
    }
   ],
   "source": [
    "#Vemos la estructura de la tabla\n",
    "\n",
    "movies_data_split.take(1)"
   ]
  },
  {
   "cell_type": "code",
   "execution_count": 106,
   "metadata": {
    "collapsed": true
   },
   "outputs": [],
   "source": [
    "# Queremos filtrar  la columna 3, por \"acción\":\n",
    "\n",
    "movies_accion = movies_data_split.filter(lambda x: \"Action\" in x[2])\n"
   ]
  },
  {
   "cell_type": "code",
   "execution_count": 107,
   "metadata": {
    "collapsed": false
   },
   "outputs": [
    {
     "data": {
      "text/plain": [
       "[['6', 'Heat (1995)', 'Action|Crime|Thriller'],\n",
       " ['9', 'Sudden Death (1995)', 'Action'],\n",
       " ['10', 'GoldenEye (1995)', 'Action|Adventure|Thriller'],\n",
       " ['15', 'Cutthroat Island (1995)', 'Action|Adventure|Romance'],\n",
       " ['20', 'Money Train (1995)', 'Action']]"
      ]
     },
     "execution_count": 107,
     "metadata": {},
     "output_type": "execute_result"
    }
   ],
   "source": [
    "movies_accion.take(5)"
   ]
  },
  {
   "cell_type": "code",
   "execution_count": 130,
   "metadata": {
    "collapsed": false
   },
   "outputs": [],
   "source": [
    "# Filtramos la tabla Ratings por el año 2000.\n",
    "\n",
    "ano_2000 = ratings_data_split.filter(lambda x: x[3] == 2000)"
   ]
  },
  {
   "cell_type": "code",
   "execution_count": 131,
   "metadata": {
    "collapsed": false
   },
   "outputs": [
    {
     "data": {
      "text/plain": [
       "[['1', '1193', 5, 2000],\n",
       " ['1', '661', 3, 2000],\n",
       " ['1', '914', 3, 2000],\n",
       " ['1', '3408', 4, 2000],\n",
       " ['1', '1197', 3, 2000]]"
      ]
     },
     "execution_count": 131,
     "metadata": {},
     "output_type": "execute_result"
    }
   ],
   "source": [
    "ano_2000.take(5)"
   ]
  },
  {
   "cell_type": "code",
   "execution_count": 134,
   "metadata": {
    "collapsed": true
   },
   "outputs": [],
   "source": [
    "ano_2000_2 = ano_2000.map(lambda x: (x[0], x[2]))\n",
    "\n",
    "ano_2000_3 = ano_2000_2.reduceByKey(lambda x, y: x + y)\n"
   ]
  },
  {
   "cell_type": "code",
   "execution_count": 135,
   "metadata": {
    "collapsed": false
   },
   "outputs": [
    {
     "data": {
      "text/plain": [
       "[('1440', 456), ('4986', 118), ('2265', 845), ('3076', 84), ('5023', 401)]"
      ]
     },
     "execution_count": 135,
     "metadata": {},
     "output_type": "execute_result"
    }
   ],
   "source": [
    "\n",
    "\n",
    "ano_2000_3.take(5)"
   ]
  },
  {
   "cell_type": "code",
   "execution_count": null,
   "metadata": {
    "collapsed": true
   },
   "outputs": [],
   "source": []
  },
  {
   "cell_type": "code",
   "execution_count": null,
   "metadata": {
    "collapsed": true
   },
   "outputs": [],
   "source": []
  },
  {
   "cell_type": "code",
   "execution_count": null,
   "metadata": {
    "collapsed": true
   },
   "outputs": [],
   "source": []
  },
  {
   "cell_type": "code",
   "execution_count": null,
   "metadata": {
    "collapsed": true
   },
   "outputs": [],
   "source": []
  },
  {
   "cell_type": "markdown",
   "metadata": {},
   "source": [
    "## Quinta pregunta: ¿ Cuál es el año en que mayor número de usuarios votaron?"
   ]
  },
  {
   "cell_type": "code",
   "execution_count": 136,
   "metadata": {
    "collapsed": true
   },
   "outputs": [],
   "source": [
    "# Utilizaremos el Dataset Ratings para obtener el año y con reducebyKey sumaremos todos los votos por año\n"
   ]
  },
  {
   "cell_type": "code",
   "execution_count": 42,
   "metadata": {
    "collapsed": true
   },
   "outputs": [],
   "source": [
    "año_mayor = ratings_data_split.map(lambda x: (dateparse(x[3]).year, 1)).\\\n",
    "    reduceByKey(lambda a, b: a + b).persist()"
   ]
  },
  {
   "cell_type": "code",
   "execution_count": 43,
   "metadata": {
    "collapsed": false
   },
   "outputs": [
    {
     "data": {
      "text/plain": [
       "[(2000, 904757), (2002, 24046), (2001, 68058), (2003, 3348)]"
      ]
     },
     "execution_count": 43,
     "metadata": {},
     "output_type": "execute_result"
    }
   ],
   "source": [
    "año_mayor.collect()"
   ]
  },
  {
   "cell_type": "markdown",
   "metadata": {},
   "source": [
    "**En el año 2000, con 904.757 votos.**"
   ]
  },
  {
   "cell_type": "markdown",
   "metadata": {},
   "source": [
    "## Sexta pregunta: ¿ Cuál es la película con mejor puntación media?"
   ]
  },
  {
   "cell_type": "markdown",
   "metadata": {},
   "source": [
    "Tendriamos que seleccionar de  la base de datos,el id de la pelicula y su puntuación, del datasets Ratings\n",
    "\n",
    "el Segundo paso seria coger de movies, el id de la pelicula (que es el elemento en común) y el titulo\n",
    "\n",
    "Y juntariamos las dos tablas, y sabriamos la pelicula con mayor puntuación media\n",
    "\n"
   ]
  },
  {
   "cell_type": "code",
   "execution_count": 160,
   "metadata": {
    "collapsed": false
   },
   "outputs": [
    {
     "data": {
      "text/plain": [
       "[['1', '1193', 5, 2000],\n",
       " ['1', '661', 3, 2000],\n",
       " ['1', '914', 3, 2000],\n",
       " ['1', '3408', 4, 2000],\n",
       " ['1', '2355', 5, 2001]]"
      ]
     },
     "execution_count": 160,
     "metadata": {},
     "output_type": "execute_result"
    }
   ],
   "source": [
    "ratings_data_split.take(5)"
   ]
  },
  {
   "cell_type": "code",
   "execution_count": 161,
   "metadata": {
    "collapsed": false
   },
   "outputs": [
    {
     "data": {
      "text/plain": [
       "[['1', 'Toy Story (1995)', \"Animation|Children's|Comedy\"],\n",
       " ['2', 'Jumanji (1995)', \"Adventure|Children's|Fantasy\"],\n",
       " ['3', 'Grumpier Old Men (1995)', 'Comedy|Romance'],\n",
       " ['4', 'Waiting to Exhale (1995)', 'Comedy|Drama'],\n",
       " ['5', 'Father of the Bride Part II (1995)', 'Comedy']]"
      ]
     },
     "execution_count": 161,
     "metadata": {},
     "output_type": "execute_result"
    }
   ],
   "source": [
    "movies_data_split.take(5)"
   ]
  },
  {
   "cell_type": "code",
   "execution_count": null,
   "metadata": {
    "collapsed": true
   },
   "outputs": [],
   "source": [
    "# En Ratings seleccionamos el id_pelicula x[0] y la puntuación x[2]"
   ]
  },
  {
   "cell_type": "code",
   "execution_count": 162,
   "metadata": {
    "collapsed": true
   },
   "outputs": [],
   "source": [
    "ratings_ej6 = ratings_data_split.map(lambda x: (x[0], x[2]))"
   ]
  },
  {
   "cell_type": "code",
   "execution_count": 163,
   "metadata": {
    "collapsed": false
   },
   "outputs": [
    {
     "data": {
      "text/plain": [
       "[('1440', 456), ('4986', 118), ('2265', 845), ('3076', 84), ('5023', 401)]"
      ]
     },
     "execution_count": 163,
     "metadata": {},
     "output_type": "execute_result"
    }
   ],
   "source": [
    "#Con el ReduceByKey lo que hacemos es sumar las puntuaciones, de la cada id_pelicula\n",
    "\n",
    "#. Ejemplo: la pelicula con id 1440, ha recibido en total 456 puntos\n",
    "\n",
    "ratings_ej6_2 = ratings_ej6.reduceByKey(lambda x,y: x + y)\n",
    "\n",
    "ratings_ej6_2.take(5)"
   ]
  },
  {
   "cell_type": "code",
   "execution_count": null,
   "metadata": {
    "collapsed": true
   },
   "outputs": [],
   "source": [
    "# Queremos ver cuantas veces se repite el id_pelicula para obtener la media de cada pelicula.\n",
    "\n",
    "# Lo hicimos en el Ejercicio 4"
   ]
  },
  {
   "cell_type": "code",
   "execution_count": 164,
   "metadata": {
    "collapsed": true
   },
   "outputs": [],
   "source": [
    "ratings_ej6_conteo = ratings_data_split.map(lambda x: (x[0], 1))\n",
    "\n",
    "\n"
   ]
  },
  {
   "cell_type": "code",
   "execution_count": 166,
   "metadata": {
    "collapsed": false
   },
   "outputs": [
    {
     "data": {
      "text/plain": [
       "[('1440', 136), ('4986', 27), ('2265', 232), ('3076', 22), ('5023', 120)]"
      ]
     },
     "execution_count": 166,
     "metadata": {},
     "output_type": "execute_result"
    }
   ],
   "source": [
    "#Con el ReduceByKey lo que hacemos es contar el numero de  id_pelicula\n",
    "\n",
    "# Ejemplo la pelicula con id 1440, ha sido votada 136 veces\n",
    "\n",
    "ratings_ej6_conteo_2 = ratings_ej6_conteo.reduceByKey(lambda x, y: x + y)\n",
    "\n",
    "ratings_ej6_conteo_2.take(5)"
   ]
  },
  {
   "cell_type": "code",
   "execution_count": null,
   "metadata": {
    "collapsed": true
   },
   "outputs": [],
   "source": [
    "# El siguiente paso será unir las dos bases de datos, para saber la media por pelicula.\n",
    "\n",
    "# Redondeamos a dos decimales"
   ]
  },
  {
   "cell_type": "code",
   "execution_count": 168,
   "metadata": {
    "collapsed": false
   },
   "outputs": [
    {
     "data": {
      "text/plain": [
       "[('1440', 3.35),\n",
       " ('4986', 4.37),\n",
       " ('2265', 3.64),\n",
       " ('3076', 3.82),\n",
       " ('5023', 3.34)]"
      ]
     },
     "execution_count": 168,
     "metadata": {},
     "output_type": "execute_result"
    }
   ],
   "source": [
    "# Obtenemos a la izq el id_pelicula y a la derecha su puntuacion media\n",
    "\n",
    "# Ejemplo la pelicula con id 1440, tiene una puntuacion media de 3.35 puntos\n",
    "\n",
    "final_ej6 = ratings_ej6_2.join(ratings_ej6_conteo_2)\n",
    "\n",
    "media = final_ej6.map(lambda x: (x[0], round(x[1][0] / x[1][1], 2)))\n",
    "\n",
    "media.take(5)"
   ]
  },
  {
   "cell_type": "code",
   "execution_count": 169,
   "metadata": {
    "collapsed": false
   },
   "outputs": [
    {
     "data": {
      "text/plain": [
       "[('1', 'Toy Story (1995)'),\n",
       " ('2', 'Jumanji (1995)'),\n",
       " ('3', 'Grumpier Old Men (1995)'),\n",
       " ('4', 'Waiting to Exhale (1995)'),\n",
       " ('5', 'Father of the Bride Part II (1995)')]"
      ]
     },
     "execution_count": 169,
     "metadata": {},
     "output_type": "execute_result"
    }
   ],
   "source": [
    "# Seleccionamos las dos variables en la tabla movies (id_pelicula y nombre de la pelicula)\n",
    "\n",
    "movies_ej6 = movies_data_split.map(lambda x: (x[0], x[1]))\n",
    "\n",
    "movies_ej6.take(5)"
   ]
  },
  {
   "cell_type": "code",
   "execution_count": 170,
   "metadata": {
    "collapsed": false
   },
   "outputs": [
    {
     "data": {
      "text/plain": [
       "[('1440', ('Amos & Andrew (1993)', 3.35)),\n",
       " ('1805', ('Wild Things (1998)', 4.09)),\n",
       " ('145', ('Bad Boys (1995)', 3.0)),\n",
       " ('1308', ('I Shot a Man in Vegas (1995)', 3.61)),\n",
       " ('3726', ('Assault on Precinct 13 (1976)', 3.47))]"
      ]
     },
     "execution_count": 170,
     "metadata": {},
     "output_type": "execute_result"
    }
   ],
   "source": [
    "# Juntamos las dos tablas:\n",
    "\n",
    "peliculas_media = movies_ej6.join(media)\n",
    "\n",
    "peliculas_media.take(5)"
   ]
  },
  {
   "cell_type": "code",
   "execution_count": null,
   "metadata": {
    "collapsed": true
   },
   "outputs": [],
   "source": [
    "# Una vez tenemos el dataset, queremos ver cual es la peliculas más valorada"
   ]
  },
  {
   "cell_type": "code",
   "execution_count": 173,
   "metadata": {
    "collapsed": false
   },
   "outputs": [
    {
     "data": {
      "text/plain": [
       "('New Jersey Drive (1995)', 4.96)"
      ]
     },
     "execution_count": 173,
     "metadata": {},
     "output_type": "execute_result"
    }
   ],
   "source": [
    "peliculas_media.map(lambda x: x[1]).max(lambda x: x[1])"
   ]
  },
  {
   "cell_type": "markdown",
   "metadata": {},
   "source": [
    "** La Pelicula más valorada por los espectadores fue New Jersey Drive con un 4.96 sobre 5 **"
   ]
  },
  {
   "cell_type": "code",
   "execution_count": null,
   "metadata": {
    "collapsed": true
   },
   "outputs": [],
   "source": []
  },
  {
   "cell_type": "code",
   "execution_count": null,
   "metadata": {
    "collapsed": true
   },
   "outputs": [],
   "source": [
    "Extra Practica:"
   ]
  },
  {
   "cell_type": "code",
   "execution_count": 174,
   "metadata": {
    "collapsed": false
   },
   "outputs": [
    {
     "data": {
      "text/plain": [
       "('Hamlet (2000)', 1.02)"
      ]
     },
     "execution_count": 174,
     "metadata": {},
     "output_type": "execute_result"
    }
   ],
   "source": [
    "peliculas_media.map(lambda x: x[1]).min(lambda x: x[1])"
   ]
  },
  {
   "cell_type": "markdown",
   "metadata": {},
   "source": [
    "**La pelicula peor valorada fue Hamlet con una puntuacion de 1.02**"
   ]
  },
  {
   "cell_type": "code",
   "execution_count": null,
   "metadata": {
    "collapsed": true
   },
   "outputs": [],
   "source": []
  }
 ],
 "metadata": {
  "kernelspec": {
   "display_name": "Python 3",
   "language": "python",
   "name": "python3"
  },
  "language_info": {
   "codemirror_mode": {
    "name": "ipython",
    "version": 3
   },
   "file_extension": ".py",
   "mimetype": "text/x-python",
   "name": "python",
   "nbconvert_exporter": "python",
   "pygments_lexer": "ipython3",
   "version": "3.5.2"
  }
 },
 "nbformat": 4,
 "nbformat_minor": 2
}
