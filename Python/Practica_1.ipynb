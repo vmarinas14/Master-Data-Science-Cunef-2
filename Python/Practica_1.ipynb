{
 "cells": [
  {
   "cell_type": "markdown",
   "metadata": {},
   "source": [
    "### Realizado por Victor Marinas"
   ]
  },
  {
   "cell_type": "markdown",
   "metadata": {},
   "source": [
    "## Tráfico de Madrid"
   ]
  },
  {
   "cell_type": "markdown",
   "metadata": {},
   "source": [
    "El dataset ['trafico_madrid.csv'](./datos/trafico_madrid.csv) contiene datos de tráfico. Distintos sensores de control de tráfico de la Comunidad de Madrid proporcionan datos sobre la intensidad de tráfico cada 15 minutos."
   ]
  },
  {
   "cell_type": "markdown",
   "metadata": {},
   "source": [
    "__Descripción de los datos de tráfico__\n",
    "\n",
    "\n",
    "* `idelem`: Identificación  única  del  Punto  de  Medida  en  los  sistemas  de  control  del tráfico del Ayuntamiento de Madrid. \n",
    "* `fecha`: fecha en formato Año, mes, día, hora, minutos, segundos\n",
    "* `intensidad`: Intensidad   del   Punto   de   Medida   en\n",
    "   el   periodo   de   15   minutos  (vehículos/hora). \n",
    "* `vmed`: Velocidad  media  de  los  vehículos  en  el periodo  de  15  minutos  (Km./h). Sólo para puntos de medida interurbanos M30. \n",
    "* `error`: Indicación de si ha habido al menos una\n",
    " muestra errónea o sustituida en el periodo de 15 minutos. \n",
    "    * `N`: no ha habido errores ni sustituciones \n",
    "    * `E`: los parámetros de calidad de alguna de las muestras integradas no son óptimos. \n",
    "* `periodo_integracion`: Número   de   muestras   recibidas   y   consideradas"
   ]
  },
  {
   "cell_type": "markdown",
   "metadata": {},
   "source": [
    "__1.  Crear un dataframe de Pandas con las primeras 100 filas del fichero.__"
   ]
  },
  {
   "cell_type": "code",
   "execution_count": 2,
   "metadata": {
    "ExecuteTime": {
     "end_time": "2018-10-17T10:00:10.248730Z",
     "start_time": "2018-10-17T10:00:10.244760Z"
    }
   },
   "outputs": [
    {
     "data": {
      "text/html": [
       "<div>\n",
       "<style scoped>\n",
       "    .dataframe tbody tr th:only-of-type {\n",
       "        vertical-align: middle;\n",
       "    }\n",
       "\n",
       "    .dataframe tbody tr th {\n",
       "        vertical-align: top;\n",
       "    }\n",
       "\n",
       "    .dataframe thead th {\n",
       "        text-align: right;\n",
       "    }\n",
       "</style>\n",
       "<table border=\"1\" class=\"dataframe\">\n",
       "  <thead>\n",
       "    <tr style=\"text-align: right;\">\n",
       "      <th></th>\n",
       "      <th>idelem</th>\n",
       "      <th>identif</th>\n",
       "      <th>tipo_elem</th>\n",
       "      <th>intensidad</th>\n",
       "      <th>ocupacion</th>\n",
       "      <th>carga</th>\n",
       "      <th>vmed</th>\n",
       "      <th>error</th>\n",
       "      <th>periodo_integracion</th>\n",
       "    </tr>\n",
       "    <tr>\n",
       "      <th>fecha</th>\n",
       "      <th></th>\n",
       "      <th></th>\n",
       "      <th></th>\n",
       "      <th></th>\n",
       "      <th></th>\n",
       "      <th></th>\n",
       "      <th></th>\n",
       "      <th></th>\n",
       "      <th></th>\n",
       "    </tr>\n",
       "  </thead>\n",
       "  <tbody>\n",
       "    <tr>\n",
       "      <th>2017-02-18 07:30:00</th>\n",
       "      <td>3621</td>\n",
       "      <td>17016</td>\n",
       "      <td>PUNTOS MEDIDA URBANOS</td>\n",
       "      <td>207</td>\n",
       "      <td>0</td>\n",
       "      <td>8.0</td>\n",
       "      <td>0</td>\n",
       "      <td>N</td>\n",
       "      <td>15</td>\n",
       "    </tr>\n",
       "    <tr>\n",
       "      <th>2017-02-07 00:00:00</th>\n",
       "      <td>3973</td>\n",
       "      <td>06033</td>\n",
       "      <td>PUNTOS MEDIDA URBANOS</td>\n",
       "      <td>134</td>\n",
       "      <td>1</td>\n",
       "      <td>6.0</td>\n",
       "      <td>0</td>\n",
       "      <td>N</td>\n",
       "      <td>13</td>\n",
       "    </tr>\n",
       "    <tr>\n",
       "      <th>2017-02-11 22:45:00</th>\n",
       "      <td>4064</td>\n",
       "      <td>10018</td>\n",
       "      <td>PUNTOS MEDIDA URBANOS</td>\n",
       "      <td>169</td>\n",
       "      <td>3</td>\n",
       "      <td>NaN</td>\n",
       "      <td>0</td>\n",
       "      <td>NaN</td>\n",
       "      <td>15</td>\n",
       "    </tr>\n",
       "    <tr>\n",
       "      <th>2017-02-08 00:00:00</th>\n",
       "      <td>6375</td>\n",
       "      <td>59021</td>\n",
       "      <td>PUNTOS MEDIDA URBANOS</td>\n",
       "      <td>53</td>\n",
       "      <td>1</td>\n",
       "      <td>7.0</td>\n",
       "      <td>0</td>\n",
       "      <td>N</td>\n",
       "      <td>14</td>\n",
       "    </tr>\n",
       "    <tr>\n",
       "      <th>2017-02-23 20:45:00</th>\n",
       "      <td>6691</td>\n",
       "      <td>PM12121</td>\n",
       "      <td>--</td>\n",
       "      <td>2428</td>\n",
       "      <td>5</td>\n",
       "      <td>37.0</td>\n",
       "      <td>81</td>\n",
       "      <td>NaN</td>\n",
       "      <td>15</td>\n",
       "    </tr>\n",
       "  </tbody>\n",
       "</table>\n",
       "</div>"
      ],
      "text/plain": [
       "                     idelem  identif              tipo_elem  intensidad  \\\n",
       "fecha                                                                     \n",
       "2017-02-18 07:30:00    3621    17016  PUNTOS MEDIDA URBANOS         207   \n",
       "2017-02-07 00:00:00    3973    06033  PUNTOS MEDIDA URBANOS         134   \n",
       "2017-02-11 22:45:00    4064    10018  PUNTOS MEDIDA URBANOS         169   \n",
       "2017-02-08 00:00:00    6375    59021  PUNTOS MEDIDA URBANOS          53   \n",
       "2017-02-23 20:45:00    6691  PM12121                     --        2428   \n",
       "\n",
       "                     ocupacion  carga  vmed error  periodo_integracion  \n",
       "fecha                                                                   \n",
       "2017-02-18 07:30:00          0    8.0     0     N                   15  \n",
       "2017-02-07 00:00:00          1    6.0     0     N                   13  \n",
       "2017-02-11 22:45:00          3    NaN     0   NaN                   15  \n",
       "2017-02-08 00:00:00          1    7.0     0     N                   14  \n",
       "2017-02-23 20:45:00          5   37.0    81   NaN                   15  "
      ]
     },
     "execution_count": 2,
     "metadata": {},
     "output_type": "execute_result"
    }
   ],
   "source": [
    "# Sol:\n",
    "import pandas as pd\n",
    "import numpy as np\n",
    "datos=pd.read_csv('./datos/trafico_madrid.csv',nrows=100,sep=',',index_col=1)\n",
    "datos.head()\n",
    "#Sólo cogemos 100 filas, el separador son , y hemos colocado la fecha como índice"
   ]
  },
  {
   "cell_type": "code",
   "execution_count": 2,
   "metadata": {},
   "outputs": [
    {
     "data": {
      "text/plain": [
       "'C:\\\\Users\\\\danit\\\\Documents\\\\CUNEF\\\\MASTER\\\\PHYTON\\\\TEMA 6\\\\Ejercicios_Tema_7'"
      ]
     },
     "execution_count": 2,
     "metadata": {},
     "output_type": "execute_result"
    }
   ],
   "source": [
    "%pwd #Ver donde está el directorio de trabajo"
   ]
  },
  {
   "cell_type": "markdown",
   "metadata": {},
   "source": [
    "__2. Utiliza el parámetro `chunksize` disponible en la función `read_csv` para leer los datos en bloques de 1000 filas. Crear un dataframe solo con las filas que cumplan que el valor de la variable  `intensidad` sea superior a 1000.\n",
    "¿Cuántas filas tiene el dataframe creado?__\n"
   ]
  },
  {
   "cell_type": "code",
   "execution_count": 3,
   "metadata": {
    "ExecuteTime": {
     "end_time": "2018-10-17T09:41:48.781259Z",
     "start_time": "2018-10-17T09:41:48.762874Z"
    }
   },
   "outputs": [
    {
     "data": {
      "text/plain": [
       "(11531, 10)"
      ]
     },
     "execution_count": 3,
     "metadata": {},
     "output_type": "execute_result"
    }
   ],
   "source": [
    "# Sol: \n",
    "lista=[]\n",
    "bloq1000=pd.read_csv('./datos/trafico_madrid.csv', chunksize=1000)\n",
    "for minitabla in bloq1000:\n",
    "    res=minitabla[minitabla.intensidad>1000]\n",
    "    lista.append(res)\n",
    "    \n",
    "tabla=pd.concat(lista)\n",
    "tabla.shape #El resultado es una tabla de 11531 filas por 10 columnas"
   ]
  },
  {
   "cell_type": "code",
   "execution_count": 4,
   "metadata": {},
   "outputs": [
    {
     "data": {
      "text/plain": [
       "idelem                   int64\n",
       "fecha                   object\n",
       "identif                 object\n",
       "tipo_elem               object\n",
       "intensidad               int64\n",
       "ocupacion                int64\n",
       "carga                  float64\n",
       "vmed                     int64\n",
       "error                   object\n",
       "periodo_integracion      int64\n",
       "dtype: object"
      ]
     },
     "execution_count": 4,
     "metadata": {},
     "output_type": "execute_result"
    }
   ],
   "source": [
    "tabla.shape #Nos dice las dimensiones de la tabla\n",
    "tabla.dtypes #Nos dice el tipo de cada columna\n"
   ]
  },
  {
   "cell_type": "markdown",
   "metadata": {},
   "source": [
    "--------"
   ]
  },
  {
   "cell_type": "markdown",
   "metadata": {},
   "source": [
    "__3. Crea un dataframe con los datos del fichero  ['trafico_madrid.csv'](trafico_madrid.csv). El dataframe creado debe tener solo las columnas `idelem`,  `fecha` y  `vmed`.__\n"
   ]
  },
  {
   "cell_type": "code",
   "execution_count": 5,
   "metadata": {},
   "outputs": [
    {
     "data": {
      "text/html": [
       "<div>\n",
       "<style scoped>\n",
       "    .dataframe tbody tr th:only-of-type {\n",
       "        vertical-align: middle;\n",
       "    }\n",
       "\n",
       "    .dataframe tbody tr th {\n",
       "        vertical-align: top;\n",
       "    }\n",
       "\n",
       "    .dataframe thead th {\n",
       "        text-align: right;\n",
       "    }\n",
       "</style>\n",
       "<table border=\"1\" class=\"dataframe\">\n",
       "  <thead>\n",
       "    <tr style=\"text-align: right;\">\n",
       "      <th></th>\n",
       "      <th>idelem</th>\n",
       "      <th>fecha</th>\n",
       "      <th>vmed</th>\n",
       "    </tr>\n",
       "  </thead>\n",
       "  <tbody>\n",
       "    <tr>\n",
       "      <th>0</th>\n",
       "      <td>3621</td>\n",
       "      <td>2017-02-18 07:30:00</td>\n",
       "      <td>0</td>\n",
       "    </tr>\n",
       "    <tr>\n",
       "      <th>1</th>\n",
       "      <td>3973</td>\n",
       "      <td>2017-02-07 00:00:00</td>\n",
       "      <td>0</td>\n",
       "    </tr>\n",
       "    <tr>\n",
       "      <th>2</th>\n",
       "      <td>4064</td>\n",
       "      <td>2017-02-11 22:45:00</td>\n",
       "      <td>0</td>\n",
       "    </tr>\n",
       "    <tr>\n",
       "      <th>3</th>\n",
       "      <td>6375</td>\n",
       "      <td>2017-02-08 00:00:00</td>\n",
       "      <td>0</td>\n",
       "    </tr>\n",
       "    <tr>\n",
       "      <th>4</th>\n",
       "      <td>6691</td>\n",
       "      <td>2017-02-23 20:45:00</td>\n",
       "      <td>81</td>\n",
       "    </tr>\n",
       "  </tbody>\n",
       "</table>\n",
       "</div>"
      ],
      "text/plain": [
       "   idelem                fecha  vmed\n",
       "0    3621  2017-02-18 07:30:00     0\n",
       "1    3973  2017-02-07 00:00:00     0\n",
       "2    4064  2017-02-11 22:45:00     0\n",
       "3    6375  2017-02-08 00:00:00     0\n",
       "4    6691  2017-02-23 20:45:00    81"
      ]
     },
     "execution_count": 5,
     "metadata": {},
     "output_type": "execute_result"
    }
   ],
   "source": [
    "datos3=pd.read_csv('./datos/trafico_madrid.csv',sep=',')\n",
    "datos4=datos3.loc[:,['idelem','fecha','vmed']]\n",
    "datos4.head()"
   ]
  },
  {
   "cell_type": "markdown",
   "metadata": {},
   "source": [
    "__4. Utiliza el parámetro `chunksize` disponible en la función `read_csv` para leer los datos en bloques de 1000 filas. Crear un dataframe solo con las filas que cumplan que el valor de la variable  `tipo_elem` sea 'PUNTOS MEDIDA M-30' y la variable `carga` sea menor que 10.\n",
    "¿Cuántas filas tiene el dataframe creado?__"
   ]
  },
  {
   "cell_type": "code",
   "execution_count": 9,
   "metadata": {},
   "outputs": [
    {
     "data": {
      "text/plain": [
       "(4717, 10)"
      ]
     },
     "execution_count": 9,
     "metadata": {},
     "output_type": "execute_result"
    }
   ],
   "source": [
    "lista2=[]\n",
    "bloq2=pd.read_csv('./datos/trafico_madrid.csv', chunksize=1000)\n",
    "for tablapeq in bloq2:\n",
    "    resultado=tablapeq[(tablapeq.carga<10)&(tablapeq.tipo_elem=='PUNTOS MEDIDA M-30')]\n",
    "    lista2.append(resultado)\n",
    "    \n",
    "tabla2=pd.concat(lista2)\n",
    "tabla2.shape #4717 filas y 10 columnas"
   ]
  }
 ],
 "metadata": {
  "anaconda-cloud": {},
  "kernelspec": {
   "display_name": "Python 3",
   "language": "python",
   "name": "python3"
  },
  "language_info": {
   "codemirror_mode": {
    "name": "ipython",
    "version": 3
   },
   "file_extension": ".py",
   "mimetype": "text/x-python",
   "name": "python",
   "nbconvert_exporter": "python",
   "pygments_lexer": "ipython3",
   "version": "3.7.4"
  },
  "nbTranslate": {
   "displayLangs": [
    "en",
    "es"
   ],
   "hotkey": "alt-t",
   "langInMainMenu": true,
   "sourceLang": "es",
   "targetLang": "en",
   "useGoogleTranslate": true
  },
  "toc": {
   "nav_menu": {
    "height": "12px",
    "width": "252px"
   },
   "number_sections": true,
   "sideBar": true,
   "skip_h1_title": false,
   "title_cell": "Table of Contents",
   "title_sidebar": "Contents",
   "toc_cell": false,
   "toc_position": {
    "height": "428px",
    "left": "0px",
    "right": "907.333px",
    "top": "121px",
    "width": "231px"
   },
   "toc_section_display": "block",
   "toc_window_display": false
  }
 },
 "nbformat": 4,
 "nbformat_minor": 1
}
