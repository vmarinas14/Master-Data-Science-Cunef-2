{
 "cells": [
  {
   "cell_type": "markdown",
   "metadata": {},
   "source": [
    "## Repaso Victor Marinas \n",
    "\n",
    "## Python:"
   ]
  },
  {
   "cell_type": "markdown",
   "metadata": {},
   "source": [
    "El dataset `BlackFriday.csv` contiene 550.000 registros sobre las ventas realizadas en un comercio. Cada registro contiene información del cliente (sexo, si está casado o no, edad, etc.) e información de la compra que ha realizado en el comercio (importe de la compra, tipo de producto, etc.).\n",
    "\n",
    "* `User_ID`                : Código de usuario\n",
    "* `Product_ID`             : Código de producto\n",
    "* `Sexo`                   : Hombre(M), Mujer(F)\n",
    "* `Edad`                   : Franja de edad del usuario\n",
    "* `Occupation`              \n",
    "* `Cat_ciudad`             : Categoría de la ciudad de residencia del usuario\n",
    "* `Years_en _la_ciudad`    : Número de años que el usario lleva residiendo en la ciudad\n",
    "* `Estado_civil`           : Casado(1), soltero(0)\n",
    "* `Product_Category_1`       : Categoría 1 del producto \n",
    "* `Product_Category_2`     : Categoría 2 del producto\n",
    "* `Product_Category_3`     : Categoría 3 del producto\n",
    "* `Imp_Compra`             : Importe o precio del producto\n",
    "\n",
    "Por otro lado, el dataset `BlackFriday_Products.xlsx` contiene la descripción de cada uno de los productos junto con su valoración en un rango del 1 al 5.\n",
    "\n",
    "* `Product`                : Código de producto\n",
    "* `Descripción`            : Descripción del producto\n",
    "* `average_product_rating` : valoración media del producto en un rango del 1 al 5\n",
    "\n",
    "\n",
    "Carga los datos de los datasets  `BlackFriday.csv` y `BlackFriday_Products.xlsx` en dos dataframes llamados `ventas` y `productos` respectivamente."
   ]
  },
  {
   "cell_type": "code",
   "execution_count": 1,
   "metadata": {},
   "outputs": [],
   "source": [
    "# Carga de los datasets\n",
    "\n",
    "#  pd.read_csv, pd.read_excel o pd.read_table : PARA CREAR UN __DF__\n",
    "\n",
    "\n",
    "import pandas as pd\n",
    "import numpy as np\n",
    "\n",
    "ventas = pd.read_csv('BlackFriday.csv')\n",
    "productos = pd.read_excel('BlackFriday_Products.xlsx')"
   ]
  },
  {
   "cell_type": "markdown",
   "metadata": {},
   "source": [
    "# Funcion .HEAD"
   ]
  },
  {
   "cell_type": "code",
   "execution_count": 2,
   "metadata": {},
   "outputs": [
    {
     "data": {
      "text/html": [
       "<div>\n",
       "<style scoped>\n",
       "    .dataframe tbody tr th:only-of-type {\n",
       "        vertical-align: middle;\n",
       "    }\n",
       "\n",
       "    .dataframe tbody tr th {\n",
       "        vertical-align: top;\n",
       "    }\n",
       "\n",
       "    .dataframe thead th {\n",
       "        text-align: right;\n",
       "    }\n",
       "</style>\n",
       "<table border=\"1\" class=\"dataframe\">\n",
       "  <thead>\n",
       "    <tr style=\"text-align: right;\">\n",
       "      <th></th>\n",
       "      <th>User_ID</th>\n",
       "      <th>Product_ID</th>\n",
       "      <th>Sexo</th>\n",
       "      <th>Edad</th>\n",
       "      <th>Occupation</th>\n",
       "      <th>Cat_ciudad</th>\n",
       "      <th>Years_en _la_ciudad</th>\n",
       "      <th>Estado_civil</th>\n",
       "      <th>Product_Category_1</th>\n",
       "      <th>Product_Category_2</th>\n",
       "      <th>Product_Category_3</th>\n",
       "      <th>Imp_Compra</th>\n",
       "    </tr>\n",
       "  </thead>\n",
       "  <tbody>\n",
       "    <tr>\n",
       "      <td>0</td>\n",
       "      <td>1000001</td>\n",
       "      <td>P00069042</td>\n",
       "      <td>F</td>\n",
       "      <td>0-17</td>\n",
       "      <td>10</td>\n",
       "      <td>A</td>\n",
       "      <td>2</td>\n",
       "      <td>0</td>\n",
       "      <td>3</td>\n",
       "      <td>NaN</td>\n",
       "      <td>NaN</td>\n",
       "      <td>8370</td>\n",
       "    </tr>\n",
       "    <tr>\n",
       "      <td>1</td>\n",
       "      <td>1000001</td>\n",
       "      <td>P00248942</td>\n",
       "      <td>F</td>\n",
       "      <td>0-17</td>\n",
       "      <td>10</td>\n",
       "      <td>A</td>\n",
       "      <td>2</td>\n",
       "      <td>0</td>\n",
       "      <td>1</td>\n",
       "      <td>6.0</td>\n",
       "      <td>14.0</td>\n",
       "      <td>15200</td>\n",
       "    </tr>\n",
       "    <tr>\n",
       "      <td>2</td>\n",
       "      <td>1000001</td>\n",
       "      <td>P00087842</td>\n",
       "      <td>F</td>\n",
       "      <td>0-17</td>\n",
       "      <td>10</td>\n",
       "      <td>A</td>\n",
       "      <td>2</td>\n",
       "      <td>0</td>\n",
       "      <td>12</td>\n",
       "      <td>NaN</td>\n",
       "      <td>NaN</td>\n",
       "      <td>1422</td>\n",
       "    </tr>\n",
       "    <tr>\n",
       "      <td>3</td>\n",
       "      <td>1000001</td>\n",
       "      <td>P00085442</td>\n",
       "      <td>F</td>\n",
       "      <td>0-17</td>\n",
       "      <td>10</td>\n",
       "      <td>A</td>\n",
       "      <td>2</td>\n",
       "      <td>0</td>\n",
       "      <td>12</td>\n",
       "      <td>14.0</td>\n",
       "      <td>NaN</td>\n",
       "      <td>1057</td>\n",
       "    </tr>\n",
       "    <tr>\n",
       "      <td>4</td>\n",
       "      <td>1000002</td>\n",
       "      <td>P00285442</td>\n",
       "      <td>M</td>\n",
       "      <td>55+</td>\n",
       "      <td>16</td>\n",
       "      <td>C</td>\n",
       "      <td>4+</td>\n",
       "      <td>0</td>\n",
       "      <td>8</td>\n",
       "      <td>NaN</td>\n",
       "      <td>NaN</td>\n",
       "      <td>7969</td>\n",
       "    </tr>\n",
       "  </tbody>\n",
       "</table>\n",
       "</div>"
      ],
      "text/plain": [
       "   User_ID Product_ID Sexo  Edad  Occupation Cat_ciudad Years_en _la_ciudad  \\\n",
       "0  1000001  P00069042    F  0-17          10          A                   2   \n",
       "1  1000001  P00248942    F  0-17          10          A                   2   \n",
       "2  1000001  P00087842    F  0-17          10          A                   2   \n",
       "3  1000001  P00085442    F  0-17          10          A                   2   \n",
       "4  1000002  P00285442    M   55+          16          C                  4+   \n",
       "\n",
       "   Estado_civil  Product_Category_1  Product_Category_2  Product_Category_3  \\\n",
       "0             0                   3                 NaN                 NaN   \n",
       "1             0                   1                 6.0                14.0   \n",
       "2             0                  12                 NaN                 NaN   \n",
       "3             0                  12                14.0                 NaN   \n",
       "4             0                   8                 NaN                 NaN   \n",
       "\n",
       "   Imp_Compra  \n",
       "0        8370  \n",
       "1       15200  \n",
       "2        1422  \n",
       "3        1057  \n",
       "4        7969  "
      ]
     },
     "execution_count": 2,
     "metadata": {},
     "output_type": "execute_result"
    }
   ],
   "source": [
    "ventas.head(5)"
   ]
  },
  {
   "cell_type": "code",
   "execution_count": 3,
   "metadata": {},
   "outputs": [
    {
     "data": {
      "text/html": [
       "<div>\n",
       "<style scoped>\n",
       "    .dataframe tbody tr th:only-of-type {\n",
       "        vertical-align: middle;\n",
       "    }\n",
       "\n",
       "    .dataframe tbody tr th {\n",
       "        vertical-align: top;\n",
       "    }\n",
       "\n",
       "    .dataframe thead th {\n",
       "        text-align: right;\n",
       "    }\n",
       "</style>\n",
       "<table border=\"1\" class=\"dataframe\">\n",
       "  <thead>\n",
       "    <tr style=\"text-align: right;\">\n",
       "      <th></th>\n",
       "      <th>Product</th>\n",
       "      <th>Description</th>\n",
       "      <th>average_product_rating</th>\n",
       "    </tr>\n",
       "  </thead>\n",
       "  <tbody>\n",
       "    <tr>\n",
       "      <td>0</td>\n",
       "      <td>P00173842</td>\n",
       "      <td>Southpole® Allover Aztec Jogger Pants</td>\n",
       "      <td>1 out of 5</td>\n",
       "    </tr>\n",
       "    <tr>\n",
       "      <td>1</td>\n",
       "      <td>P00054442</td>\n",
       "      <td>a.n.a® Drape Front Jacket - Tall</td>\n",
       "      <td>1 out of 5</td>\n",
       "    </tr>\n",
       "    <tr>\n",
       "      <td>2</td>\n",
       "      <td>P00110042</td>\n",
       "      <td>Bacova La Mer Bath Rug</td>\n",
       "      <td>1 out of 5</td>\n",
       "    </tr>\n",
       "    <tr>\n",
       "      <td>3</td>\n",
       "      <td>P00284342</td>\n",
       "      <td>Van Heusen® Pullover Sweater</td>\n",
       "      <td>1 out of 5</td>\n",
       "    </tr>\n",
       "    <tr>\n",
       "      <td>4</td>\n",
       "      <td>P00203242</td>\n",
       "      <td>Stylus™ Keyhole Hipster Swim Bottoms</td>\n",
       "      <td>1 out of 5</td>\n",
       "    </tr>\n",
       "  </tbody>\n",
       "</table>\n",
       "</div>"
      ],
      "text/plain": [
       "     Product                            Description average_product_rating\n",
       "0  P00173842  Southpole® Allover Aztec Jogger Pants             1 out of 5\n",
       "1  P00054442       a.n.a® Drape Front Jacket - Tall             1 out of 5\n",
       "2  P00110042                 Bacova La Mer Bath Rug             1 out of 5\n",
       "3  P00284342           Van Heusen® Pullover Sweater             1 out of 5\n",
       "4  P00203242   Stylus™ Keyhole Hipster Swim Bottoms             1 out of 5"
      ]
     },
     "execution_count": 3,
     "metadata": {},
     "output_type": "execute_result"
    }
   ],
   "source": [
    "productos.head(5)"
   ]
  },
  {
   "cell_type": "markdown",
   "metadata": {},
   "source": [
    "## Funcion .TAIL\n",
    "\n",
    "### Muestra los ultimos elementos de la tabla"
   ]
  },
  {
   "cell_type": "code",
   "execution_count": 4,
   "metadata": {
    "scrolled": true
   },
   "outputs": [
    {
     "data": {
      "text/html": [
       "<div>\n",
       "<style scoped>\n",
       "    .dataframe tbody tr th:only-of-type {\n",
       "        vertical-align: middle;\n",
       "    }\n",
       "\n",
       "    .dataframe tbody tr th {\n",
       "        vertical-align: top;\n",
       "    }\n",
       "\n",
       "    .dataframe thead th {\n",
       "        text-align: right;\n",
       "    }\n",
       "</style>\n",
       "<table border=\"1\" class=\"dataframe\">\n",
       "  <thead>\n",
       "    <tr style=\"text-align: right;\">\n",
       "      <th></th>\n",
       "      <th>User_ID</th>\n",
       "      <th>Product_ID</th>\n",
       "      <th>Sexo</th>\n",
       "      <th>Edad</th>\n",
       "      <th>Occupation</th>\n",
       "      <th>Cat_ciudad</th>\n",
       "      <th>Years_en _la_ciudad</th>\n",
       "      <th>Estado_civil</th>\n",
       "      <th>Product_Category_1</th>\n",
       "      <th>Product_Category_2</th>\n",
       "      <th>Product_Category_3</th>\n",
       "      <th>Imp_Compra</th>\n",
       "    </tr>\n",
       "  </thead>\n",
       "  <tbody>\n",
       "    <tr>\n",
       "      <td>537572</td>\n",
       "      <td>1004737</td>\n",
       "      <td>P00193542</td>\n",
       "      <td>M</td>\n",
       "      <td>36-45</td>\n",
       "      <td>16</td>\n",
       "      <td>C</td>\n",
       "      <td>1</td>\n",
       "      <td>0</td>\n",
       "      <td>1</td>\n",
       "      <td>2.0</td>\n",
       "      <td>NaN</td>\n",
       "      <td>11664</td>\n",
       "    </tr>\n",
       "    <tr>\n",
       "      <td>537573</td>\n",
       "      <td>1004737</td>\n",
       "      <td>P00111142</td>\n",
       "      <td>M</td>\n",
       "      <td>36-45</td>\n",
       "      <td>16</td>\n",
       "      <td>C</td>\n",
       "      <td>1</td>\n",
       "      <td>0</td>\n",
       "      <td>1</td>\n",
       "      <td>15.0</td>\n",
       "      <td>16.0</td>\n",
       "      <td>19196</td>\n",
       "    </tr>\n",
       "    <tr>\n",
       "      <td>537574</td>\n",
       "      <td>1004737</td>\n",
       "      <td>P00345942</td>\n",
       "      <td>M</td>\n",
       "      <td>36-45</td>\n",
       "      <td>16</td>\n",
       "      <td>C</td>\n",
       "      <td>1</td>\n",
       "      <td>0</td>\n",
       "      <td>8</td>\n",
       "      <td>15.0</td>\n",
       "      <td>NaN</td>\n",
       "      <td>8043</td>\n",
       "    </tr>\n",
       "    <tr>\n",
       "      <td>537575</td>\n",
       "      <td>1004737</td>\n",
       "      <td>P00285842</td>\n",
       "      <td>M</td>\n",
       "      <td>36-45</td>\n",
       "      <td>16</td>\n",
       "      <td>C</td>\n",
       "      <td>1</td>\n",
       "      <td>0</td>\n",
       "      <td>5</td>\n",
       "      <td>NaN</td>\n",
       "      <td>NaN</td>\n",
       "      <td>7172</td>\n",
       "    </tr>\n",
       "    <tr>\n",
       "      <td>537576</td>\n",
       "      <td>1004737</td>\n",
       "      <td>P00118242</td>\n",
       "      <td>M</td>\n",
       "      <td>36-45</td>\n",
       "      <td>16</td>\n",
       "      <td>C</td>\n",
       "      <td>1</td>\n",
       "      <td>0</td>\n",
       "      <td>5</td>\n",
       "      <td>8.0</td>\n",
       "      <td>NaN</td>\n",
       "      <td>6875</td>\n",
       "    </tr>\n",
       "  </tbody>\n",
       "</table>\n",
       "</div>"
      ],
      "text/plain": [
       "        User_ID Product_ID Sexo   Edad  Occupation Cat_ciudad  \\\n",
       "537572  1004737  P00193542    M  36-45          16          C   \n",
       "537573  1004737  P00111142    M  36-45          16          C   \n",
       "537574  1004737  P00345942    M  36-45          16          C   \n",
       "537575  1004737  P00285842    M  36-45          16          C   \n",
       "537576  1004737  P00118242    M  36-45          16          C   \n",
       "\n",
       "       Years_en _la_ciudad  Estado_civil  Product_Category_1  \\\n",
       "537572                   1             0                   1   \n",
       "537573                   1             0                   1   \n",
       "537574                   1             0                   8   \n",
       "537575                   1             0                   5   \n",
       "537576                   1             0                   5   \n",
       "\n",
       "        Product_Category_2  Product_Category_3  Imp_Compra  \n",
       "537572                 2.0                 NaN       11664  \n",
       "537573                15.0                16.0       19196  \n",
       "537574                15.0                 NaN        8043  \n",
       "537575                 NaN                 NaN        7172  \n",
       "537576                 8.0                 NaN        6875  "
      ]
     },
     "execution_count": 4,
     "metadata": {},
     "output_type": "execute_result"
    }
   ],
   "source": [
    "ventas.tail(5)"
   ]
  },
  {
   "cell_type": "markdown",
   "metadata": {},
   "source": [
    "## Funcion .SAMPLE\n",
    "\n",
    "#### Muestra filas aleatorias de la muestra:"
   ]
  },
  {
   "cell_type": "code",
   "execution_count": 5,
   "metadata": {},
   "outputs": [
    {
     "data": {
      "text/html": [
       "<div>\n",
       "<style scoped>\n",
       "    .dataframe tbody tr th:only-of-type {\n",
       "        vertical-align: middle;\n",
       "    }\n",
       "\n",
       "    .dataframe tbody tr th {\n",
       "        vertical-align: top;\n",
       "    }\n",
       "\n",
       "    .dataframe thead th {\n",
       "        text-align: right;\n",
       "    }\n",
       "</style>\n",
       "<table border=\"1\" class=\"dataframe\">\n",
       "  <thead>\n",
       "    <tr style=\"text-align: right;\">\n",
       "      <th></th>\n",
       "      <th>User_ID</th>\n",
       "      <th>Product_ID</th>\n",
       "      <th>Sexo</th>\n",
       "      <th>Edad</th>\n",
       "      <th>Occupation</th>\n",
       "      <th>Cat_ciudad</th>\n",
       "      <th>Years_en _la_ciudad</th>\n",
       "      <th>Estado_civil</th>\n",
       "      <th>Product_Category_1</th>\n",
       "      <th>Product_Category_2</th>\n",
       "      <th>Product_Category_3</th>\n",
       "      <th>Imp_Compra</th>\n",
       "    </tr>\n",
       "  </thead>\n",
       "  <tbody>\n",
       "    <tr>\n",
       "      <td>276260</td>\n",
       "      <td>1000594</td>\n",
       "      <td>P00360042</td>\n",
       "      <td>F</td>\n",
       "      <td>55+</td>\n",
       "      <td>13</td>\n",
       "      <td>B</td>\n",
       "      <td>3</td>\n",
       "      <td>0</td>\n",
       "      <td>8</td>\n",
       "      <td>NaN</td>\n",
       "      <td>NaN</td>\n",
       "      <td>10077</td>\n",
       "    </tr>\n",
       "    <tr>\n",
       "      <td>432821</td>\n",
       "      <td>1000655</td>\n",
       "      <td>P00161442</td>\n",
       "      <td>F</td>\n",
       "      <td>26-35</td>\n",
       "      <td>2</td>\n",
       "      <td>B</td>\n",
       "      <td>2</td>\n",
       "      <td>0</td>\n",
       "      <td>5</td>\n",
       "      <td>14.0</td>\n",
       "      <td>NaN</td>\n",
       "      <td>5241</td>\n",
       "    </tr>\n",
       "    <tr>\n",
       "      <td>423021</td>\n",
       "      <td>1005099</td>\n",
       "      <td>P00114942</td>\n",
       "      <td>M</td>\n",
       "      <td>18-25</td>\n",
       "      <td>0</td>\n",
       "      <td>B</td>\n",
       "      <td>3</td>\n",
       "      <td>0</td>\n",
       "      <td>1</td>\n",
       "      <td>15.0</td>\n",
       "      <td>16.0</td>\n",
       "      <td>15835</td>\n",
       "    </tr>\n",
       "    <tr>\n",
       "      <td>491167</td>\n",
       "      <td>1003669</td>\n",
       "      <td>P00182642</td>\n",
       "      <td>M</td>\n",
       "      <td>26-35</td>\n",
       "      <td>14</td>\n",
       "      <td>A</td>\n",
       "      <td>2</td>\n",
       "      <td>0</td>\n",
       "      <td>2</td>\n",
       "      <td>4.0</td>\n",
       "      <td>9.0</td>\n",
       "      <td>16361</td>\n",
       "    </tr>\n",
       "    <tr>\n",
       "      <td>485459</td>\n",
       "      <td>1002826</td>\n",
       "      <td>P00104942</td>\n",
       "      <td>M</td>\n",
       "      <td>36-45</td>\n",
       "      <td>12</td>\n",
       "      <td>A</td>\n",
       "      <td>4+</td>\n",
       "      <td>1</td>\n",
       "      <td>5</td>\n",
       "      <td>NaN</td>\n",
       "      <td>NaN</td>\n",
       "      <td>8706</td>\n",
       "    </tr>\n",
       "  </tbody>\n",
       "</table>\n",
       "</div>"
      ],
      "text/plain": [
       "        User_ID Product_ID Sexo   Edad  Occupation Cat_ciudad  \\\n",
       "276260  1000594  P00360042    F    55+          13          B   \n",
       "432821  1000655  P00161442    F  26-35           2          B   \n",
       "423021  1005099  P00114942    M  18-25           0          B   \n",
       "491167  1003669  P00182642    M  26-35          14          A   \n",
       "485459  1002826  P00104942    M  36-45          12          A   \n",
       "\n",
       "       Years_en _la_ciudad  Estado_civil  Product_Category_1  \\\n",
       "276260                   3             0                   8   \n",
       "432821                   2             0                   5   \n",
       "423021                   3             0                   1   \n",
       "491167                   2             0                   2   \n",
       "485459                  4+             1                   5   \n",
       "\n",
       "        Product_Category_2  Product_Category_3  Imp_Compra  \n",
       "276260                 NaN                 NaN       10077  \n",
       "432821                14.0                 NaN        5241  \n",
       "423021                15.0                16.0       15835  \n",
       "491167                 4.0                 9.0       16361  \n",
       "485459                 NaN                 NaN        8706  "
      ]
     },
     "execution_count": 5,
     "metadata": {},
     "output_type": "execute_result"
    }
   ],
   "source": [
    "ventas.sample(5)"
   ]
  },
  {
   "cell_type": "markdown",
   "metadata": {},
   "source": [
    "# Funcion .UNIQUE"
   ]
  },
  {
   "cell_type": "code",
   "execution_count": 6,
   "metadata": {},
   "outputs": [
    {
     "data": {
      "text/plain": [
       "array(['F', 'M'], dtype=object)"
      ]
     },
     "execution_count": 6,
     "metadata": {},
     "output_type": "execute_result"
    }
   ],
   "source": [
    "#Para ver los elementos dentro de una columna: UTILIZAMOS .UNIQUE\n",
    "\n",
    "\n",
    "ventas.Sexo.unique()"
   ]
  },
  {
   "cell_type": "code",
   "execution_count": 7,
   "metadata": {},
   "outputs": [
    {
     "data": {
      "text/plain": [
       "array(['A', 'C', 'B'], dtype=object)"
      ]
     },
     "execution_count": 7,
     "metadata": {},
     "output_type": "execute_result"
    }
   ],
   "source": [
    "ventas.Cat_ciudad.unique()"
   ]
  },
  {
   "cell_type": "markdown",
   "metadata": {},
   "source": [
    "# Funcion VALUE_COUNTS\n",
    "\n",
    "## Para contar elementos dentro de una columna"
   ]
  },
  {
   "cell_type": "code",
   "execution_count": 8,
   "metadata": {},
   "outputs": [
    {
     "data": {
      "text/plain": [
       "M    405380\n",
       "F    132197\n",
       "Name: Sexo, dtype: int64"
      ]
     },
     "execution_count": 8,
     "metadata": {},
     "output_type": "execute_result"
    }
   ],
   "source": [
    "# Si queremos saber el numero total de Hombres y Mujeres: (Contar valores)\n",
    "\n",
    "\n",
    "ventas.Sexo.value_counts()"
   ]
  },
  {
   "cell_type": "code",
   "execution_count": 9,
   "metadata": {},
   "outputs": [
    {
     "data": {
      "text/plain": [
       "26-35    214690\n",
       "36-45    107499\n",
       "18-25     97634\n",
       "46-50     44526\n",
       "51-55     37618\n",
       "55+       20903\n",
       "0-17      14707\n",
       "Name: Edad, dtype: int64"
      ]
     },
     "execution_count": 9,
     "metadata": {},
     "output_type": "execute_result"
    }
   ],
   "source": [
    "# Si queremos saber la poblacion por edad\n",
    "\n",
    "\n",
    "ventas.Edad.value_counts()"
   ]
  },
  {
   "cell_type": "code",
   "execution_count": 10,
   "metadata": {},
   "outputs": [
    {
     "data": {
      "text/plain": [
       "B    226493\n",
       "C    166446\n",
       "A    144638\n",
       "Name: Cat_ciudad, dtype: int64"
      ]
     },
     "execution_count": 10,
     "metadata": {},
     "output_type": "execute_result"
    }
   ],
   "source": [
    "# La Categoria de la ciudad\n",
    "\n",
    "\n",
    "ventas.Cat_ciudad.value_counts()"
   ]
  },
  {
   "cell_type": "markdown",
   "metadata": {},
   "source": [
    "# Funcion LEN(____)  \n",
    "\n",
    "## Saber el numero de filas de una tabla"
   ]
  },
  {
   "cell_type": "code",
   "execution_count": 11,
   "metadata": {},
   "outputs": [
    {
     "data": {
      "text/plain": [
       "537577"
      ]
     },
     "execution_count": 11,
     "metadata": {},
     "output_type": "execute_result"
    }
   ],
   "source": [
    "len(ventas)"
   ]
  },
  {
   "cell_type": "markdown",
   "metadata": {},
   "source": [
    "## Funcion .INDEX"
   ]
  },
  {
   "cell_type": "code",
   "execution_count": 12,
   "metadata": {},
   "outputs": [
    {
     "data": {
      "text/plain": [
       "RangeIndex(start=0, stop=537577, step=1)"
      ]
     },
     "execution_count": 12,
     "metadata": {},
     "output_type": "execute_result"
    }
   ],
   "source": [
    "# Nos indica el numero de filas que tiene la tabla. == funcion len\n",
    "\n",
    "ventas.index"
   ]
  },
  {
   "cell_type": "code",
   "execution_count": 13,
   "metadata": {},
   "outputs": [
    {
     "data": {
      "text/plain": [
       "RangeIndex(start=0, stop=537577, step=1)"
      ]
     },
     "execution_count": 13,
     "metadata": {},
     "output_type": "execute_result"
    }
   ],
   "source": [
    "ventas.Edad.index"
   ]
  },
  {
   "cell_type": "markdown",
   "metadata": {},
   "source": [
    "# Funcion .VALUES"
   ]
  },
  {
   "cell_type": "code",
   "execution_count": 14,
   "metadata": {},
   "outputs": [
    {
     "data": {
      "text/plain": [
       "array([[1000001, 'P00069042', 'F', ..., nan, nan, 8370],\n",
       "       [1000001, 'P00248942', 'F', ..., 6.0, 14.0, 15200],\n",
       "       [1000001, 'P00087842', 'F', ..., nan, nan, 1422],\n",
       "       ...,\n",
       "       [1004737, 'P00345942', 'M', ..., 15.0, nan, 8043],\n",
       "       [1004737, 'P00285842', 'M', ..., nan, nan, 7172],\n",
       "       [1004737, 'P00118242', 'M', ..., 8.0, nan, 6875]], dtype=object)"
      ]
     },
     "execution_count": 14,
     "metadata": {},
     "output_type": "execute_result"
    }
   ],
   "source": [
    "ventas.values"
   ]
  },
  {
   "cell_type": "code",
   "execution_count": 15,
   "metadata": {},
   "outputs": [
    {
     "data": {
      "text/plain": [
       "array(['F', 'F', 'F', ..., 'M', 'M', 'M'], dtype=object)"
      ]
     },
     "execution_count": 15,
     "metadata": {},
     "output_type": "execute_result"
    }
   ],
   "source": [
    "ventas.Sexo.values"
   ]
  },
  {
   "cell_type": "code",
   "execution_count": 16,
   "metadata": {},
   "outputs": [
    {
     "data": {
      "text/plain": [
       "array(['A', 'A', 'A', ..., 'C', 'C', 'C'], dtype=object)"
      ]
     },
     "execution_count": 16,
     "metadata": {},
     "output_type": "execute_result"
    }
   ],
   "source": [
    "ventas.Cat_ciudad.values"
   ]
  },
  {
   "cell_type": "markdown",
   "metadata": {},
   "source": [
    "## Funcion.  .INFO()\n",
    "\n",
    "Muestra info acerca del objeto DF (num de cols, num de filas, memoria usada..) e info relativa a cada una de las cols (nombre, tipo y numero de valores distintos de NaN)"
   ]
  },
  {
   "cell_type": "code",
   "execution_count": 17,
   "metadata": {},
   "outputs": [
    {
     "name": "stdout",
     "output_type": "stream",
     "text": [
      "<class 'pandas.core.frame.DataFrame'>\n",
      "RangeIndex: 537577 entries, 0 to 537576\n",
      "Data columns (total 12 columns):\n",
      "User_ID                537577 non-null int64\n",
      "Product_ID             537577 non-null object\n",
      "Sexo                   537577 non-null object\n",
      "Edad                   537577 non-null object\n",
      "Occupation             537577 non-null int64\n",
      "Cat_ciudad             537577 non-null object\n",
      "Years_en _la_ciudad    537577 non-null object\n",
      "Estado_civil           537577 non-null int64\n",
      "Product_Category_1     537577 non-null int64\n",
      "Product_Category_2     370591 non-null float64\n",
      "Product_Category_3     164278 non-null float64\n",
      "Imp_Compra             537577 non-null int64\n",
      "dtypes: float64(2), int64(5), object(5)\n",
      "memory usage: 49.2+ MB\n"
     ]
    }
   ],
   "source": [
    "ventas.info()"
   ]
  },
  {
   "cell_type": "markdown",
   "metadata": {},
   "source": [
    "## Funcion DESCRIBE\n",
    "\n",
    "\n",
    "### Para conocer los estadisticos de una columna o tabla"
   ]
  },
  {
   "cell_type": "code",
   "execution_count": 18,
   "metadata": {},
   "outputs": [
    {
     "data": {
      "text/html": [
       "<div>\n",
       "<style scoped>\n",
       "    .dataframe tbody tr th:only-of-type {\n",
       "        vertical-align: middle;\n",
       "    }\n",
       "\n",
       "    .dataframe tbody tr th {\n",
       "        vertical-align: top;\n",
       "    }\n",
       "\n",
       "    .dataframe thead th {\n",
       "        text-align: right;\n",
       "    }\n",
       "</style>\n",
       "<table border=\"1\" class=\"dataframe\">\n",
       "  <thead>\n",
       "    <tr style=\"text-align: right;\">\n",
       "      <th></th>\n",
       "      <th>User_ID</th>\n",
       "      <th>Occupation</th>\n",
       "      <th>Estado_civil</th>\n",
       "      <th>Product_Category_1</th>\n",
       "      <th>Product_Category_2</th>\n",
       "      <th>Product_Category_3</th>\n",
       "      <th>Imp_Compra</th>\n",
       "    </tr>\n",
       "  </thead>\n",
       "  <tbody>\n",
       "    <tr>\n",
       "      <td>count</td>\n",
       "      <td>5.375770e+05</td>\n",
       "      <td>537577.00000</td>\n",
       "      <td>537577.000000</td>\n",
       "      <td>537577.000000</td>\n",
       "      <td>370591.000000</td>\n",
       "      <td>164278.000000</td>\n",
       "      <td>537577.000000</td>\n",
       "    </tr>\n",
       "    <tr>\n",
       "      <td>mean</td>\n",
       "      <td>1.002992e+06</td>\n",
       "      <td>8.08271</td>\n",
       "      <td>0.408797</td>\n",
       "      <td>5.295546</td>\n",
       "      <td>9.842144</td>\n",
       "      <td>12.669840</td>\n",
       "      <td>9333.859853</td>\n",
       "    </tr>\n",
       "    <tr>\n",
       "      <td>std</td>\n",
       "      <td>1.714393e+03</td>\n",
       "      <td>6.52412</td>\n",
       "      <td>0.491612</td>\n",
       "      <td>3.750701</td>\n",
       "      <td>5.087259</td>\n",
       "      <td>4.124341</td>\n",
       "      <td>4981.022133</td>\n",
       "    </tr>\n",
       "    <tr>\n",
       "      <td>min</td>\n",
       "      <td>1.000001e+06</td>\n",
       "      <td>0.00000</td>\n",
       "      <td>0.000000</td>\n",
       "      <td>1.000000</td>\n",
       "      <td>2.000000</td>\n",
       "      <td>3.000000</td>\n",
       "      <td>185.000000</td>\n",
       "    </tr>\n",
       "    <tr>\n",
       "      <td>25%</td>\n",
       "      <td>1.001495e+06</td>\n",
       "      <td>2.00000</td>\n",
       "      <td>0.000000</td>\n",
       "      <td>1.000000</td>\n",
       "      <td>5.000000</td>\n",
       "      <td>9.000000</td>\n",
       "      <td>5866.000000</td>\n",
       "    </tr>\n",
       "    <tr>\n",
       "      <td>50%</td>\n",
       "      <td>1.003031e+06</td>\n",
       "      <td>7.00000</td>\n",
       "      <td>0.000000</td>\n",
       "      <td>5.000000</td>\n",
       "      <td>9.000000</td>\n",
       "      <td>14.000000</td>\n",
       "      <td>8062.000000</td>\n",
       "    </tr>\n",
       "    <tr>\n",
       "      <td>75%</td>\n",
       "      <td>1.004417e+06</td>\n",
       "      <td>14.00000</td>\n",
       "      <td>1.000000</td>\n",
       "      <td>8.000000</td>\n",
       "      <td>15.000000</td>\n",
       "      <td>16.000000</td>\n",
       "      <td>12073.000000</td>\n",
       "    </tr>\n",
       "    <tr>\n",
       "      <td>max</td>\n",
       "      <td>1.006040e+06</td>\n",
       "      <td>20.00000</td>\n",
       "      <td>1.000000</td>\n",
       "      <td>18.000000</td>\n",
       "      <td>18.000000</td>\n",
       "      <td>18.000000</td>\n",
       "      <td>23961.000000</td>\n",
       "    </tr>\n",
       "  </tbody>\n",
       "</table>\n",
       "</div>"
      ],
      "text/plain": [
       "            User_ID    Occupation   Estado_civil  Product_Category_1  \\\n",
       "count  5.375770e+05  537577.00000  537577.000000       537577.000000   \n",
       "mean   1.002992e+06       8.08271       0.408797            5.295546   \n",
       "std    1.714393e+03       6.52412       0.491612            3.750701   \n",
       "min    1.000001e+06       0.00000       0.000000            1.000000   \n",
       "25%    1.001495e+06       2.00000       0.000000            1.000000   \n",
       "50%    1.003031e+06       7.00000       0.000000            5.000000   \n",
       "75%    1.004417e+06      14.00000       1.000000            8.000000   \n",
       "max    1.006040e+06      20.00000       1.000000           18.000000   \n",
       "\n",
       "       Product_Category_2  Product_Category_3     Imp_Compra  \n",
       "count       370591.000000       164278.000000  537577.000000  \n",
       "mean             9.842144           12.669840    9333.859853  \n",
       "std              5.087259            4.124341    4981.022133  \n",
       "min              2.000000            3.000000     185.000000  \n",
       "25%              5.000000            9.000000    5866.000000  \n",
       "50%              9.000000           14.000000    8062.000000  \n",
       "75%             15.000000           16.000000   12073.000000  \n",
       "max             18.000000           18.000000   23961.000000  "
      ]
     },
     "execution_count": 18,
     "metadata": {},
     "output_type": "execute_result"
    }
   ],
   "source": [
    "ventas.describe()"
   ]
  },
  {
   "cell_type": "code",
   "execution_count": 19,
   "metadata": {},
   "outputs": [
    {
     "data": {
      "text/plain": [
       "count    537577.00\n",
       "mean       9333.86\n",
       "std        4981.02\n",
       "min         185.00\n",
       "25%        5866.00\n",
       "50%        8062.00\n",
       "75%       12073.00\n",
       "max       23961.00\n",
       "Name: Imp_Compra, dtype: float64"
      ]
     },
     "execution_count": 19,
     "metadata": {},
     "output_type": "execute_result"
    }
   ],
   "source": [
    "# Si queremos de una columna en particular:\n",
    "\n",
    "\n",
    "round(ventas.Imp_Compra.describe(),2)"
   ]
  },
  {
   "cell_type": "markdown",
   "metadata": {},
   "source": [
    "# Media   --> Funcion MEAN"
   ]
  },
  {
   "cell_type": "code",
   "execution_count": 20,
   "metadata": {},
   "outputs": [
    {
     "data": {
      "text/plain": [
       "9333.86"
      ]
     },
     "execution_count": 20,
     "metadata": {},
     "output_type": "execute_result"
    }
   ],
   "source": [
    "round(ventas.Imp_Compra.mean(),2)"
   ]
  },
  {
   "cell_type": "markdown",
   "metadata": {},
   "source": [
    "# Desviacion Tipica. --> Funcion STD"
   ]
  },
  {
   "cell_type": "code",
   "execution_count": 21,
   "metadata": {},
   "outputs": [
    {
     "data": {
      "text/plain": [
       "4981.02"
      ]
     },
     "execution_count": 21,
     "metadata": {},
     "output_type": "execute_result"
    }
   ],
   "source": [
    "round(ventas.Imp_Compra.std(),2)"
   ]
  },
  {
   "cell_type": "markdown",
   "metadata": {},
   "source": [
    "# Minimo   --> min"
   ]
  },
  {
   "cell_type": "code",
   "execution_count": 22,
   "metadata": {},
   "outputs": [
    {
     "data": {
      "text/plain": [
       "185"
      ]
     },
     "execution_count": 22,
     "metadata": {},
     "output_type": "execute_result"
    }
   ],
   "source": [
    "ventas.Imp_Compra.min()"
   ]
  },
  {
   "cell_type": "markdown",
   "metadata": {},
   "source": [
    "# Maximo   --> max"
   ]
  },
  {
   "cell_type": "code",
   "execution_count": 23,
   "metadata": {},
   "outputs": [
    {
     "data": {
      "text/plain": [
       "23961"
      ]
     },
     "execution_count": 23,
     "metadata": {},
     "output_type": "execute_result"
    }
   ],
   "source": [
    "ventas.Imp_Compra.max()"
   ]
  },
  {
   "cell_type": "markdown",
   "metadata": {},
   "source": [
    "# Contar -->. Count"
   ]
  },
  {
   "cell_type": "code",
   "execution_count": 24,
   "metadata": {},
   "outputs": [
    {
     "data": {
      "text/plain": [
       "537577"
      ]
     },
     "execution_count": 24,
     "metadata": {},
     "output_type": "execute_result"
    }
   ],
   "source": [
    "ventas.Imp_Compra.count()"
   ]
  },
  {
   "cell_type": "markdown",
   "metadata": {},
   "source": [
    "## Crear un dataframe seleccionando las siguientes columnas: \"Sexo\" \"Cat_Ciudad\" y \"Imp_Compra\""
   ]
  },
  {
   "cell_type": "code",
   "execution_count": 25,
   "metadata": {},
   "outputs": [
    {
     "data": {
      "text/html": [
       "<div>\n",
       "<style scoped>\n",
       "    .dataframe tbody tr th:only-of-type {\n",
       "        vertical-align: middle;\n",
       "    }\n",
       "\n",
       "    .dataframe tbody tr th {\n",
       "        vertical-align: top;\n",
       "    }\n",
       "\n",
       "    .dataframe thead th {\n",
       "        text-align: right;\n",
       "    }\n",
       "</style>\n",
       "<table border=\"1\" class=\"dataframe\">\n",
       "  <thead>\n",
       "    <tr style=\"text-align: right;\">\n",
       "      <th></th>\n",
       "      <th>Sexo</th>\n",
       "      <th>Cat_ciudad</th>\n",
       "      <th>Imp_Compra</th>\n",
       "    </tr>\n",
       "  </thead>\n",
       "  <tbody>\n",
       "    <tr>\n",
       "      <td>0</td>\n",
       "      <td>F</td>\n",
       "      <td>A</td>\n",
       "      <td>8370</td>\n",
       "    </tr>\n",
       "    <tr>\n",
       "      <td>1</td>\n",
       "      <td>F</td>\n",
       "      <td>A</td>\n",
       "      <td>15200</td>\n",
       "    </tr>\n",
       "    <tr>\n",
       "      <td>2</td>\n",
       "      <td>F</td>\n",
       "      <td>A</td>\n",
       "      <td>1422</td>\n",
       "    </tr>\n",
       "    <tr>\n",
       "      <td>3</td>\n",
       "      <td>F</td>\n",
       "      <td>A</td>\n",
       "      <td>1057</td>\n",
       "    </tr>\n",
       "    <tr>\n",
       "      <td>4</td>\n",
       "      <td>M</td>\n",
       "      <td>C</td>\n",
       "      <td>7969</td>\n",
       "    </tr>\n",
       "  </tbody>\n",
       "</table>\n",
       "</div>"
      ],
      "text/plain": [
       "  Sexo Cat_ciudad  Imp_Compra\n",
       "0    F          A        8370\n",
       "1    F          A       15200\n",
       "2    F          A        1422\n",
       "3    F          A        1057\n",
       "4    M          C        7969"
      ]
     },
     "execution_count": 25,
     "metadata": {},
     "output_type": "execute_result"
    }
   ],
   "source": [
    "cols = [\"Sexo\", \"Cat_ciudad\" , \"Imp_Compra\"]\n",
    "\n",
    "\n",
    "tabla_2 = pd.DataFrame(ventas, columns = cols)\n",
    "\n",
    "\n",
    "tabla_2.head(5)"
   ]
  },
  {
   "cell_type": "code",
   "execution_count": 26,
   "metadata": {},
   "outputs": [
    {
     "data": {
      "text/plain": [
       "B    226493\n",
       "C    166446\n",
       "A    144638\n",
       "Name: Cat_ciudad, dtype: int64"
      ]
     },
     "execution_count": 26,
     "metadata": {},
     "output_type": "execute_result"
    }
   ],
   "source": [
    "ventas.Cat_ciudad.value_counts()"
   ]
  },
  {
   "cell_type": "markdown",
   "metadata": {},
   "source": [
    "# Eliminar NaN de una tabla\n",
    "\n",
    "\n",
    "## Si hay un Nan en la fila, elimina la fila completa:"
   ]
  },
  {
   "cell_type": "code",
   "execution_count": 27,
   "metadata": {},
   "outputs": [
    {
     "data": {
      "text/html": [
       "<div>\n",
       "<style scoped>\n",
       "    .dataframe tbody tr th:only-of-type {\n",
       "        vertical-align: middle;\n",
       "    }\n",
       "\n",
       "    .dataframe tbody tr th {\n",
       "        vertical-align: top;\n",
       "    }\n",
       "\n",
       "    .dataframe thead th {\n",
       "        text-align: right;\n",
       "    }\n",
       "</style>\n",
       "<table border=\"1\" class=\"dataframe\">\n",
       "  <thead>\n",
       "    <tr style=\"text-align: right;\">\n",
       "      <th></th>\n",
       "      <th>Sexo</th>\n",
       "      <th>Cat_ciudad</th>\n",
       "      <th>Imp_Compra</th>\n",
       "    </tr>\n",
       "  </thead>\n",
       "  <tbody>\n",
       "    <tr>\n",
       "      <td>0</td>\n",
       "      <td>F</td>\n",
       "      <td>A</td>\n",
       "      <td>8370</td>\n",
       "    </tr>\n",
       "    <tr>\n",
       "      <td>1</td>\n",
       "      <td>F</td>\n",
       "      <td>A</td>\n",
       "      <td>15200</td>\n",
       "    </tr>\n",
       "    <tr>\n",
       "      <td>2</td>\n",
       "      <td>F</td>\n",
       "      <td>A</td>\n",
       "      <td>1422</td>\n",
       "    </tr>\n",
       "    <tr>\n",
       "      <td>3</td>\n",
       "      <td>F</td>\n",
       "      <td>A</td>\n",
       "      <td>1057</td>\n",
       "    </tr>\n",
       "    <tr>\n",
       "      <td>4</td>\n",
       "      <td>M</td>\n",
       "      <td>C</td>\n",
       "      <td>7969</td>\n",
       "    </tr>\n",
       "  </tbody>\n",
       "</table>\n",
       "</div>"
      ],
      "text/plain": [
       "  Sexo Cat_ciudad  Imp_Compra\n",
       "0    F          A        8370\n",
       "1    F          A       15200\n",
       "2    F          A        1422\n",
       "3    F          A        1057\n",
       "4    M          C        7969"
      ]
     },
     "execution_count": 27,
     "metadata": {},
     "output_type": "execute_result"
    }
   ],
   "source": [
    "tabla_2 = tabla_2.dropna()\n",
    "\n",
    "tabla_2.head()"
   ]
  },
  {
   "cell_type": "markdown",
   "metadata": {},
   "source": [
    "## Para eliminar NaN, si hay 2 o 3 o el numero que queramos de Nan por FILA"
   ]
  },
  {
   "cell_type": "code",
   "execution_count": 28,
   "metadata": {},
   "outputs": [
    {
     "data": {
      "text/html": [
       "<div>\n",
       "<style scoped>\n",
       "    .dataframe tbody tr th:only-of-type {\n",
       "        vertical-align: middle;\n",
       "    }\n",
       "\n",
       "    .dataframe tbody tr th {\n",
       "        vertical-align: top;\n",
       "    }\n",
       "\n",
       "    .dataframe thead th {\n",
       "        text-align: right;\n",
       "    }\n",
       "</style>\n",
       "<table border=\"1\" class=\"dataframe\">\n",
       "  <thead>\n",
       "    <tr style=\"text-align: right;\">\n",
       "      <th></th>\n",
       "      <th>Sexo</th>\n",
       "      <th>Cat_ciudad</th>\n",
       "      <th>Imp_Compra</th>\n",
       "    </tr>\n",
       "  </thead>\n",
       "  <tbody>\n",
       "    <tr>\n",
       "      <td>0</td>\n",
       "      <td>F</td>\n",
       "      <td>A</td>\n",
       "      <td>8370</td>\n",
       "    </tr>\n",
       "    <tr>\n",
       "      <td>1</td>\n",
       "      <td>F</td>\n",
       "      <td>A</td>\n",
       "      <td>15200</td>\n",
       "    </tr>\n",
       "    <tr>\n",
       "      <td>2</td>\n",
       "      <td>F</td>\n",
       "      <td>A</td>\n",
       "      <td>1422</td>\n",
       "    </tr>\n",
       "    <tr>\n",
       "      <td>3</td>\n",
       "      <td>F</td>\n",
       "      <td>A</td>\n",
       "      <td>1057</td>\n",
       "    </tr>\n",
       "    <tr>\n",
       "      <td>4</td>\n",
       "      <td>M</td>\n",
       "      <td>C</td>\n",
       "      <td>7969</td>\n",
       "    </tr>\n",
       "    <tr>\n",
       "      <td>...</td>\n",
       "      <td>...</td>\n",
       "      <td>...</td>\n",
       "      <td>...</td>\n",
       "    </tr>\n",
       "    <tr>\n",
       "      <td>537572</td>\n",
       "      <td>M</td>\n",
       "      <td>C</td>\n",
       "      <td>11664</td>\n",
       "    </tr>\n",
       "    <tr>\n",
       "      <td>537573</td>\n",
       "      <td>M</td>\n",
       "      <td>C</td>\n",
       "      <td>19196</td>\n",
       "    </tr>\n",
       "    <tr>\n",
       "      <td>537574</td>\n",
       "      <td>M</td>\n",
       "      <td>C</td>\n",
       "      <td>8043</td>\n",
       "    </tr>\n",
       "    <tr>\n",
       "      <td>537575</td>\n",
       "      <td>M</td>\n",
       "      <td>C</td>\n",
       "      <td>7172</td>\n",
       "    </tr>\n",
       "    <tr>\n",
       "      <td>537576</td>\n",
       "      <td>M</td>\n",
       "      <td>C</td>\n",
       "      <td>6875</td>\n",
       "    </tr>\n",
       "  </tbody>\n",
       "</table>\n",
       "<p>537577 rows × 3 columns</p>\n",
       "</div>"
      ],
      "text/plain": [
       "       Sexo Cat_ciudad  Imp_Compra\n",
       "0         F          A        8370\n",
       "1         F          A       15200\n",
       "2         F          A        1422\n",
       "3         F          A        1057\n",
       "4         M          C        7969\n",
       "...     ...        ...         ...\n",
       "537572    M          C       11664\n",
       "537573    M          C       19196\n",
       "537574    M          C        8043\n",
       "537575    M          C        7172\n",
       "537576    M          C        6875\n",
       "\n",
       "[537577 rows x 3 columns]"
      ]
     },
     "execution_count": 28,
     "metadata": {},
     "output_type": "execute_result"
    }
   ],
   "source": [
    "# En este caso si hay 3 o mas NaN en la fila eliminariamos la fila\n",
    "\n",
    "\n",
    "tabla_2.dropna(thresh= 2, axis= 0)  # tener hasta 2 NaN como mucho\n",
    "\n",
    "#thresh: Te dice que al menos tiene que haber ESA cantidad de valores distintos de NaN"
   ]
  },
  {
   "cell_type": "code",
   "execution_count": 29,
   "metadata": {},
   "outputs": [
    {
     "data": {
      "text/plain": [
       "9333.859852635065"
      ]
     },
     "execution_count": 29,
     "metadata": {},
     "output_type": "execute_result"
    }
   ],
   "source": [
    "tabla_2.Imp_Compra.mean()"
   ]
  },
  {
   "cell_type": "markdown",
   "metadata": {},
   "source": [
    "## Queremos calcular la media, max y min   FILTRANDO POR CATEGORIA"
   ]
  },
  {
   "cell_type": "code",
   "execution_count": 30,
   "metadata": {},
   "outputs": [
    {
     "data": {
      "text/html": [
       "<div>\n",
       "<style scoped>\n",
       "    .dataframe tbody tr th:only-of-type {\n",
       "        vertical-align: middle;\n",
       "    }\n",
       "\n",
       "    .dataframe tbody tr th {\n",
       "        vertical-align: top;\n",
       "    }\n",
       "\n",
       "    .dataframe thead tr th {\n",
       "        text-align: left;\n",
       "    }\n",
       "\n",
       "    .dataframe thead tr:last-of-type th {\n",
       "        text-align: right;\n",
       "    }\n",
       "</style>\n",
       "<table border=\"1\" class=\"dataframe\">\n",
       "  <thead>\n",
       "    <tr>\n",
       "      <th></th>\n",
       "      <th></th>\n",
       "      <th colspan=\"3\" halign=\"left\">Imp_Compra</th>\n",
       "    </tr>\n",
       "    <tr>\n",
       "      <th></th>\n",
       "      <th></th>\n",
       "      <th>max</th>\n",
       "      <th>min</th>\n",
       "      <th>media</th>\n",
       "    </tr>\n",
       "    <tr>\n",
       "      <th>Sexo</th>\n",
       "      <th>Cat_ciudad</th>\n",
       "      <th></th>\n",
       "      <th></th>\n",
       "      <th></th>\n",
       "    </tr>\n",
       "  </thead>\n",
       "  <tbody>\n",
       "    <tr>\n",
       "      <td rowspan=\"3\" valign=\"top\">F</td>\n",
       "      <td>A</td>\n",
       "      <td>23948</td>\n",
       "      <td>188</td>\n",
       "      <td>8630.771856</td>\n",
       "    </tr>\n",
       "    <tr>\n",
       "      <td>B</td>\n",
       "      <td>23959</td>\n",
       "      <td>185</td>\n",
       "      <td>8590.518480</td>\n",
       "    </tr>\n",
       "    <tr>\n",
       "      <td>C</td>\n",
       "      <td>23951</td>\n",
       "      <td>190</td>\n",
       "      <td>9264.964642</td>\n",
       "    </tr>\n",
       "    <tr>\n",
       "      <td rowspan=\"3\" valign=\"top\">M</td>\n",
       "      <td>A</td>\n",
       "      <td>23961</td>\n",
       "      <td>185</td>\n",
       "      <td>9061.717739</td>\n",
       "    </tr>\n",
       "    <tr>\n",
       "      <td>B</td>\n",
       "      <td>23960</td>\n",
       "      <td>185</td>\n",
       "      <td>9400.754481</td>\n",
       "    </tr>\n",
       "    <tr>\n",
       "      <td>C</td>\n",
       "      <td>23961</td>\n",
       "      <td>186</td>\n",
       "      <td>10033.197730</td>\n",
       "    </tr>\n",
       "  </tbody>\n",
       "</table>\n",
       "</div>"
      ],
      "text/plain": [
       "                Imp_Compra                   \n",
       "                       max  min         media\n",
       "Sexo Cat_ciudad                              \n",
       "F    A               23948  188   8630.771856\n",
       "     B               23959  185   8590.518480\n",
       "     C               23951  190   9264.964642\n",
       "M    A               23961  185   9061.717739\n",
       "     B               23960  185   9400.754481\n",
       "     C               23961  186  10033.197730"
      ]
     },
     "execution_count": 30,
     "metadata": {},
     "output_type": "execute_result"
    }
   ],
   "source": [
    "## Por Sexo y Cat_ciudad\n",
    "\n",
    "\n",
    "def media(variable):\n",
    "    res = sum(variable)/len(variable)\n",
    "    return res\n",
    "\n",
    "resultados = tabla_2.groupby([\"Sexo\", \"Cat_ciudad\"]).agg([max,min,media])\n",
    "\n",
    "resultados"
   ]
  },
  {
   "cell_type": "code",
   "execution_count": 31,
   "metadata": {},
   "outputs": [
    {
     "data": {
      "text/html": [
       "<div>\n",
       "<style scoped>\n",
       "    .dataframe tbody tr th:only-of-type {\n",
       "        vertical-align: middle;\n",
       "    }\n",
       "\n",
       "    .dataframe tbody tr th {\n",
       "        vertical-align: top;\n",
       "    }\n",
       "\n",
       "    .dataframe thead tr th {\n",
       "        text-align: left;\n",
       "    }\n",
       "\n",
       "    .dataframe thead tr:last-of-type th {\n",
       "        text-align: right;\n",
       "    }\n",
       "</style>\n",
       "<table border=\"1\" class=\"dataframe\">\n",
       "  <thead>\n",
       "    <tr>\n",
       "      <th></th>\n",
       "      <th></th>\n",
       "      <th colspan=\"3\" halign=\"left\">Imp_Compra</th>\n",
       "    </tr>\n",
       "    <tr>\n",
       "      <th></th>\n",
       "      <th></th>\n",
       "      <th>max</th>\n",
       "      <th>min</th>\n",
       "      <th>media</th>\n",
       "    </tr>\n",
       "    <tr>\n",
       "      <th>Cat_ciudad</th>\n",
       "      <th>Sexo</th>\n",
       "      <th></th>\n",
       "      <th></th>\n",
       "      <th></th>\n",
       "    </tr>\n",
       "  </thead>\n",
       "  <tbody>\n",
       "    <tr>\n",
       "      <td rowspan=\"2\" valign=\"top\">A</td>\n",
       "      <td>F</td>\n",
       "      <td>23948</td>\n",
       "      <td>188</td>\n",
       "      <td>8630.771856</td>\n",
       "    </tr>\n",
       "    <tr>\n",
       "      <td>M</td>\n",
       "      <td>23961</td>\n",
       "      <td>185</td>\n",
       "      <td>9061.717739</td>\n",
       "    </tr>\n",
       "    <tr>\n",
       "      <td rowspan=\"2\" valign=\"top\">B</td>\n",
       "      <td>F</td>\n",
       "      <td>23959</td>\n",
       "      <td>185</td>\n",
       "      <td>8590.518480</td>\n",
       "    </tr>\n",
       "    <tr>\n",
       "      <td>M</td>\n",
       "      <td>23960</td>\n",
       "      <td>185</td>\n",
       "      <td>9400.754481</td>\n",
       "    </tr>\n",
       "    <tr>\n",
       "      <td rowspan=\"2\" valign=\"top\">C</td>\n",
       "      <td>F</td>\n",
       "      <td>23951</td>\n",
       "      <td>190</td>\n",
       "      <td>9264.964642</td>\n",
       "    </tr>\n",
       "    <tr>\n",
       "      <td>M</td>\n",
       "      <td>23961</td>\n",
       "      <td>186</td>\n",
       "      <td>10033.197730</td>\n",
       "    </tr>\n",
       "  </tbody>\n",
       "</table>\n",
       "</div>"
      ],
      "text/plain": [
       "                Imp_Compra                   \n",
       "                       max  min         media\n",
       "Cat_ciudad Sexo                              \n",
       "A          F         23948  188   8630.771856\n",
       "           M         23961  185   9061.717739\n",
       "B          F         23959  185   8590.518480\n",
       "           M         23960  185   9400.754481\n",
       "C          F         23951  190   9264.964642\n",
       "           M         23961  186  10033.197730"
      ]
     },
     "execution_count": 31,
     "metadata": {},
     "output_type": "execute_result"
    }
   ],
   "source": [
    "# ENN DIFERENTE ORDEN....\n",
    "\n",
    "def media(variable):\n",
    "    res = sum(variable)/len(variable)\n",
    "    return res\n",
    "\n",
    "resultados = tabla_2.groupby([ \"Cat_ciudad\", \"Sexo\"]).agg([max,min,media])\n",
    "\n",
    "resultados"
   ]
  },
  {
   "cell_type": "code",
   "execution_count": 32,
   "metadata": {},
   "outputs": [
    {
     "data": {
      "text/html": [
       "<div>\n",
       "<style scoped>\n",
       "    .dataframe tbody tr th:only-of-type {\n",
       "        vertical-align: middle;\n",
       "    }\n",
       "\n",
       "    .dataframe tbody tr th {\n",
       "        vertical-align: top;\n",
       "    }\n",
       "\n",
       "    .dataframe thead tr th {\n",
       "        text-align: left;\n",
       "    }\n",
       "\n",
       "    .dataframe thead tr:last-of-type th {\n",
       "        text-align: right;\n",
       "    }\n",
       "</style>\n",
       "<table border=\"1\" class=\"dataframe\">\n",
       "  <thead>\n",
       "    <tr>\n",
       "      <th></th>\n",
       "      <th></th>\n",
       "      <th colspan=\"2\" halign=\"left\">Imp_Compra</th>\n",
       "    </tr>\n",
       "    <tr>\n",
       "      <th></th>\n",
       "      <th></th>\n",
       "      <th>max</th>\n",
       "      <th>min</th>\n",
       "    </tr>\n",
       "    <tr>\n",
       "      <th>Sexo</th>\n",
       "      <th>Cat_ciudad</th>\n",
       "      <th></th>\n",
       "      <th></th>\n",
       "    </tr>\n",
       "  </thead>\n",
       "  <tbody>\n",
       "    <tr>\n",
       "      <td rowspan=\"3\" valign=\"top\">F</td>\n",
       "      <td>A</td>\n",
       "      <td>23948</td>\n",
       "      <td>188</td>\n",
       "    </tr>\n",
       "    <tr>\n",
       "      <td>B</td>\n",
       "      <td>23959</td>\n",
       "      <td>185</td>\n",
       "    </tr>\n",
       "    <tr>\n",
       "      <td>C</td>\n",
       "      <td>23951</td>\n",
       "      <td>190</td>\n",
       "    </tr>\n",
       "    <tr>\n",
       "      <td rowspan=\"3\" valign=\"top\">M</td>\n",
       "      <td>A</td>\n",
       "      <td>23961</td>\n",
       "      <td>185</td>\n",
       "    </tr>\n",
       "    <tr>\n",
       "      <td>B</td>\n",
       "      <td>23960</td>\n",
       "      <td>185</td>\n",
       "    </tr>\n",
       "    <tr>\n",
       "      <td>C</td>\n",
       "      <td>23961</td>\n",
       "      <td>186</td>\n",
       "    </tr>\n",
       "  </tbody>\n",
       "</table>\n",
       "</div>"
      ],
      "text/plain": [
       "                Imp_Compra     \n",
       "                       max  min\n",
       "Sexo Cat_ciudad                \n",
       "F    A               23948  188\n",
       "     B               23959  185\n",
       "     C               23951  190\n",
       "M    A               23961  185\n",
       "     B               23960  185\n",
       "     C               23961  186"
      ]
     },
     "execution_count": 32,
     "metadata": {},
     "output_type": "execute_result"
    }
   ],
   "source": [
    "\n",
    "#Si queremos solo el minimo y maximo por categoria\n",
    "\n",
    "resultados_2 = tabla_2.groupby([ \"Sexo\",  \"Cat_ciudad\"]).agg([max,min ])\n",
    "\n",
    "resultados_2"
   ]
  },
  {
   "cell_type": "markdown",
   "metadata": {},
   "source": [
    "# Correlacciones entre variables : Matriz de Correlacción.\n",
    "\n",
    "\n",
    "## Para hacer la matriz de Corr deben ser todas las variables numericas, las que no sean numericas no las cogerá"
   ]
  },
  {
   "cell_type": "code",
   "execution_count": 33,
   "metadata": {},
   "outputs": [
    {
     "data": {
      "text/html": [
       "<div>\n",
       "<style scoped>\n",
       "    .dataframe tbody tr th:only-of-type {\n",
       "        vertical-align: middle;\n",
       "    }\n",
       "\n",
       "    .dataframe tbody tr th {\n",
       "        vertical-align: top;\n",
       "    }\n",
       "\n",
       "    .dataframe thead th {\n",
       "        text-align: right;\n",
       "    }\n",
       "</style>\n",
       "<table border=\"1\" class=\"dataframe\">\n",
       "  <thead>\n",
       "    <tr style=\"text-align: right;\">\n",
       "      <th></th>\n",
       "      <th>Imp_Compra</th>\n",
       "      <th>Occupation</th>\n",
       "      <th>Estado_civil</th>\n",
       "    </tr>\n",
       "  </thead>\n",
       "  <tbody>\n",
       "    <tr>\n",
       "      <td>0</td>\n",
       "      <td>8370</td>\n",
       "      <td>10</td>\n",
       "      <td>0</td>\n",
       "    </tr>\n",
       "    <tr>\n",
       "      <td>1</td>\n",
       "      <td>15200</td>\n",
       "      <td>10</td>\n",
       "      <td>0</td>\n",
       "    </tr>\n",
       "    <tr>\n",
       "      <td>2</td>\n",
       "      <td>1422</td>\n",
       "      <td>10</td>\n",
       "      <td>0</td>\n",
       "    </tr>\n",
       "    <tr>\n",
       "      <td>3</td>\n",
       "      <td>1057</td>\n",
       "      <td>10</td>\n",
       "      <td>0</td>\n",
       "    </tr>\n",
       "    <tr>\n",
       "      <td>4</td>\n",
       "      <td>7969</td>\n",
       "      <td>16</td>\n",
       "      <td>0</td>\n",
       "    </tr>\n",
       "  </tbody>\n",
       "</table>\n",
       "</div>"
      ],
      "text/plain": [
       "   Imp_Compra  Occupation  Estado_civil\n",
       "0        8370          10             0\n",
       "1       15200          10             0\n",
       "2        1422          10             0\n",
       "3        1057          10             0\n",
       "4        7969          16             0"
      ]
     },
     "execution_count": 33,
     "metadata": {},
     "output_type": "execute_result"
    }
   ],
   "source": [
    "# Creamos un dataframe nuevo con variables numericas\n",
    "\n",
    "cols_2 = [\"Imp_Compra\",\"Occupation\", \"Estado_civil\"]\n",
    "\n",
    "\n",
    "tabla_3 = pd.DataFrame(ventas, columns = cols_2)\n",
    "\n",
    "\n",
    "tabla_3.head(5)"
   ]
  },
  {
   "cell_type": "code",
   "execution_count": 34,
   "metadata": {},
   "outputs": [
    {
     "data": {
      "text/html": [
       "<div>\n",
       "<style scoped>\n",
       "    .dataframe tbody tr th:only-of-type {\n",
       "        vertical-align: middle;\n",
       "    }\n",
       "\n",
       "    .dataframe tbody tr th {\n",
       "        vertical-align: top;\n",
       "    }\n",
       "\n",
       "    .dataframe thead th {\n",
       "        text-align: right;\n",
       "    }\n",
       "</style>\n",
       "<table border=\"1\" class=\"dataframe\">\n",
       "  <thead>\n",
       "    <tr style=\"text-align: right;\">\n",
       "      <th></th>\n",
       "      <th>Imp_Compra</th>\n",
       "      <th>Occupation</th>\n",
       "      <th>Estado_civil</th>\n",
       "    </tr>\n",
       "  </thead>\n",
       "  <tbody>\n",
       "    <tr>\n",
       "      <td>Imp_Compra</td>\n",
       "      <td>1.000000</td>\n",
       "      <td>0.021104</td>\n",
       "      <td>0.000129</td>\n",
       "    </tr>\n",
       "    <tr>\n",
       "      <td>Occupation</td>\n",
       "      <td>0.021104</td>\n",
       "      <td>1.000000</td>\n",
       "      <td>0.024691</td>\n",
       "    </tr>\n",
       "    <tr>\n",
       "      <td>Estado_civil</td>\n",
       "      <td>0.000129</td>\n",
       "      <td>0.024691</td>\n",
       "      <td>1.000000</td>\n",
       "    </tr>\n",
       "  </tbody>\n",
       "</table>\n",
       "</div>"
      ],
      "text/plain": [
       "              Imp_Compra  Occupation  Estado_civil\n",
       "Imp_Compra      1.000000    0.021104      0.000129\n",
       "Occupation      0.021104    1.000000      0.024691\n",
       "Estado_civil    0.000129    0.024691      1.000000"
      ]
     },
     "execution_count": 34,
     "metadata": {},
     "output_type": "execute_result"
    }
   ],
   "source": [
    "# Matriz de Correlacion\n",
    "\n",
    "matriz_corr = tabla_3.corr()\n",
    "\n",
    "matriz_corr"
   ]
  },
  {
   "cell_type": "markdown",
   "metadata": {},
   "source": [
    "# Calcular la Correlacion entre dos columnas:"
   ]
  },
  {
   "cell_type": "code",
   "execution_count": 35,
   "metadata": {},
   "outputs": [
    {
     "data": {
      "text/plain": [
       "0.0211"
      ]
     },
     "execution_count": 35,
     "metadata": {},
     "output_type": "execute_result"
    }
   ],
   "source": [
    "Corr_Series = tabla_3[\"Imp_Compra\"].corr(tabla_3[\"Occupation\"])\n",
    "\n",
    "round(Corr_Series,4)\n",
    "\n",
    "\n",
    "#Comprobamos que es igual que en la matriz de Correlaciones."
   ]
  },
  {
   "cell_type": "markdown",
   "metadata": {},
   "source": [
    "# Eliminar Columna en el Dataframe"
   ]
  },
  {
   "cell_type": "code",
   "execution_count": 36,
   "metadata": {},
   "outputs": [
    {
     "data": {
      "text/html": [
       "<div>\n",
       "<style scoped>\n",
       "    .dataframe tbody tr th:only-of-type {\n",
       "        vertical-align: middle;\n",
       "    }\n",
       "\n",
       "    .dataframe tbody tr th {\n",
       "        vertical-align: top;\n",
       "    }\n",
       "\n",
       "    .dataframe thead th {\n",
       "        text-align: right;\n",
       "    }\n",
       "</style>\n",
       "<table border=\"1\" class=\"dataframe\">\n",
       "  <thead>\n",
       "    <tr style=\"text-align: right;\">\n",
       "      <th></th>\n",
       "      <th>Sexo</th>\n",
       "      <th>Occupation</th>\n",
       "      <th>Cat_ciudad</th>\n",
       "      <th>Estado_civil</th>\n",
       "      <th>Imp_Compra</th>\n",
       "      <th>Edad</th>\n",
       "    </tr>\n",
       "  </thead>\n",
       "  <tbody>\n",
       "    <tr>\n",
       "      <td>0</td>\n",
       "      <td>F</td>\n",
       "      <td>10</td>\n",
       "      <td>A</td>\n",
       "      <td>0</td>\n",
       "      <td>8370</td>\n",
       "      <td>0-17</td>\n",
       "    </tr>\n",
       "    <tr>\n",
       "      <td>1</td>\n",
       "      <td>F</td>\n",
       "      <td>10</td>\n",
       "      <td>A</td>\n",
       "      <td>0</td>\n",
       "      <td>15200</td>\n",
       "      <td>0-17</td>\n",
       "    </tr>\n",
       "    <tr>\n",
       "      <td>2</td>\n",
       "      <td>F</td>\n",
       "      <td>10</td>\n",
       "      <td>A</td>\n",
       "      <td>0</td>\n",
       "      <td>1422</td>\n",
       "      <td>0-17</td>\n",
       "    </tr>\n",
       "    <tr>\n",
       "      <td>3</td>\n",
       "      <td>F</td>\n",
       "      <td>10</td>\n",
       "      <td>A</td>\n",
       "      <td>0</td>\n",
       "      <td>1057</td>\n",
       "      <td>0-17</td>\n",
       "    </tr>\n",
       "    <tr>\n",
       "      <td>4</td>\n",
       "      <td>M</td>\n",
       "      <td>16</td>\n",
       "      <td>C</td>\n",
       "      <td>0</td>\n",
       "      <td>7969</td>\n",
       "      <td>55+</td>\n",
       "    </tr>\n",
       "  </tbody>\n",
       "</table>\n",
       "</div>"
      ],
      "text/plain": [
       "  Sexo  Occupation Cat_ciudad  Estado_civil  Imp_Compra  Edad\n",
       "0    F          10          A             0        8370  0-17\n",
       "1    F          10          A             0       15200  0-17\n",
       "2    F          10          A             0        1422  0-17\n",
       "3    F          10          A             0        1057  0-17\n",
       "4    M          16          C             0        7969   55+"
      ]
     },
     "execution_count": 36,
     "metadata": {},
     "output_type": "execute_result"
    }
   ],
   "source": [
    "# Creamos un dataframe nuevo\n",
    "\n",
    "cols_3 = [\"Sexo\", \"Occupation\", \"Cat_ciudad\",\"Estado_civil\",\"Imp_Compra\", \"Edad\"]\n",
    "\n",
    "\n",
    "new_data = pd.DataFrame(ventas, columns = cols_3)\n",
    "\n",
    "new_data.head(5)"
   ]
  },
  {
   "cell_type": "markdown",
   "metadata": {},
   "source": [
    "# Eliminar con POP, ESTE METODO LO ELIMINA DEL DATAFRAME\n",
    "\n",
    "### En cambio drop no lo elimina del dataframe"
   ]
  },
  {
   "cell_type": "code",
   "execution_count": 37,
   "metadata": {},
   "outputs": [
    {
     "data": {
      "text/html": [
       "<div>\n",
       "<style scoped>\n",
       "    .dataframe tbody tr th:only-of-type {\n",
       "        vertical-align: middle;\n",
       "    }\n",
       "\n",
       "    .dataframe tbody tr th {\n",
       "        vertical-align: top;\n",
       "    }\n",
       "\n",
       "    .dataframe thead th {\n",
       "        text-align: right;\n",
       "    }\n",
       "</style>\n",
       "<table border=\"1\" class=\"dataframe\">\n",
       "  <thead>\n",
       "    <tr style=\"text-align: right;\">\n",
       "      <th></th>\n",
       "      <th>Sexo</th>\n",
       "      <th>Occupation</th>\n",
       "      <th>Cat_ciudad</th>\n",
       "      <th>Estado_civil</th>\n",
       "      <th>Imp_Compra</th>\n",
       "    </tr>\n",
       "  </thead>\n",
       "  <tbody>\n",
       "    <tr>\n",
       "      <td>0</td>\n",
       "      <td>F</td>\n",
       "      <td>10</td>\n",
       "      <td>A</td>\n",
       "      <td>0</td>\n",
       "      <td>8370</td>\n",
       "    </tr>\n",
       "    <tr>\n",
       "      <td>1</td>\n",
       "      <td>F</td>\n",
       "      <td>10</td>\n",
       "      <td>A</td>\n",
       "      <td>0</td>\n",
       "      <td>15200</td>\n",
       "    </tr>\n",
       "    <tr>\n",
       "      <td>2</td>\n",
       "      <td>F</td>\n",
       "      <td>10</td>\n",
       "      <td>A</td>\n",
       "      <td>0</td>\n",
       "      <td>1422</td>\n",
       "    </tr>\n",
       "    <tr>\n",
       "      <td>3</td>\n",
       "      <td>F</td>\n",
       "      <td>10</td>\n",
       "      <td>A</td>\n",
       "      <td>0</td>\n",
       "      <td>1057</td>\n",
       "    </tr>\n",
       "    <tr>\n",
       "      <td>4</td>\n",
       "      <td>M</td>\n",
       "      <td>16</td>\n",
       "      <td>C</td>\n",
       "      <td>0</td>\n",
       "      <td>7969</td>\n",
       "    </tr>\n",
       "  </tbody>\n",
       "</table>\n",
       "</div>"
      ],
      "text/plain": [
       "  Sexo  Occupation Cat_ciudad  Estado_civil  Imp_Compra\n",
       "0    F          10          A             0        8370\n",
       "1    F          10          A             0       15200\n",
       "2    F          10          A             0        1422\n",
       "3    F          10          A             0        1057\n",
       "4    M          16          C             0        7969"
      ]
     },
     "execution_count": 37,
     "metadata": {},
     "output_type": "execute_result"
    }
   ],
   "source": [
    "# Para eliminar una columna \"Edad\"\n",
    "\n",
    "new_data.pop(\"Edad\")\n",
    "\n",
    "new_data.head()\n",
    "\n",
    "\n",
    "#Observamos que hemos eliminado la Columna Edad"
   ]
  },
  {
   "cell_type": "markdown",
   "metadata": {},
   "source": [
    "# Para crear una __COLUMNA NUEVA CALCULADA A PARTIR DE OTRAS COLUMNAS DEL DF__"
   ]
  },
  {
   "cell_type": "code",
   "execution_count": 38,
   "metadata": {},
   "outputs": [],
   "source": [
    "new_data[\"IVA\"] = new_data[\"Imp_Compra\"] * 0.16\n"
   ]
  },
  {
   "cell_type": "code",
   "execution_count": 39,
   "metadata": {},
   "outputs": [
    {
     "data": {
      "text/html": [
       "<div>\n",
       "<style scoped>\n",
       "    .dataframe tbody tr th:only-of-type {\n",
       "        vertical-align: middle;\n",
       "    }\n",
       "\n",
       "    .dataframe tbody tr th {\n",
       "        vertical-align: top;\n",
       "    }\n",
       "\n",
       "    .dataframe thead th {\n",
       "        text-align: right;\n",
       "    }\n",
       "</style>\n",
       "<table border=\"1\" class=\"dataframe\">\n",
       "  <thead>\n",
       "    <tr style=\"text-align: right;\">\n",
       "      <th></th>\n",
       "      <th>Sexo</th>\n",
       "      <th>Occupation</th>\n",
       "      <th>Cat_ciudad</th>\n",
       "      <th>Estado_civil</th>\n",
       "      <th>Imp_Compra</th>\n",
       "      <th>IVA</th>\n",
       "    </tr>\n",
       "  </thead>\n",
       "  <tbody>\n",
       "    <tr>\n",
       "      <td>0</td>\n",
       "      <td>F</td>\n",
       "      <td>10</td>\n",
       "      <td>A</td>\n",
       "      <td>0</td>\n",
       "      <td>8370</td>\n",
       "      <td>1339.20</td>\n",
       "    </tr>\n",
       "    <tr>\n",
       "      <td>1</td>\n",
       "      <td>F</td>\n",
       "      <td>10</td>\n",
       "      <td>A</td>\n",
       "      <td>0</td>\n",
       "      <td>15200</td>\n",
       "      <td>2432.00</td>\n",
       "    </tr>\n",
       "    <tr>\n",
       "      <td>2</td>\n",
       "      <td>F</td>\n",
       "      <td>10</td>\n",
       "      <td>A</td>\n",
       "      <td>0</td>\n",
       "      <td>1422</td>\n",
       "      <td>227.52</td>\n",
       "    </tr>\n",
       "    <tr>\n",
       "      <td>3</td>\n",
       "      <td>F</td>\n",
       "      <td>10</td>\n",
       "      <td>A</td>\n",
       "      <td>0</td>\n",
       "      <td>1057</td>\n",
       "      <td>169.12</td>\n",
       "    </tr>\n",
       "    <tr>\n",
       "      <td>4</td>\n",
       "      <td>M</td>\n",
       "      <td>16</td>\n",
       "      <td>C</td>\n",
       "      <td>0</td>\n",
       "      <td>7969</td>\n",
       "      <td>1275.04</td>\n",
       "    </tr>\n",
       "  </tbody>\n",
       "</table>\n",
       "</div>"
      ],
      "text/plain": [
       "  Sexo  Occupation Cat_ciudad  Estado_civil  Imp_Compra      IVA\n",
       "0    F          10          A             0        8370  1339.20\n",
       "1    F          10          A             0       15200  2432.00\n",
       "2    F          10          A             0        1422   227.52\n",
       "3    F          10          A             0        1057   169.12\n",
       "4    M          16          C             0        7969  1275.04"
      ]
     },
     "execution_count": 39,
     "metadata": {},
     "output_type": "execute_result"
    }
   ],
   "source": [
    "new_data.head(5)"
   ]
  },
  {
   "cell_type": "code",
   "execution_count": 40,
   "metadata": {},
   "outputs": [
    {
     "data": {
      "text/html": [
       "<div>\n",
       "<style scoped>\n",
       "    .dataframe tbody tr th:only-of-type {\n",
       "        vertical-align: middle;\n",
       "    }\n",
       "\n",
       "    .dataframe tbody tr th {\n",
       "        vertical-align: top;\n",
       "    }\n",
       "\n",
       "    .dataframe thead th {\n",
       "        text-align: right;\n",
       "    }\n",
       "</style>\n",
       "<table border=\"1\" class=\"dataframe\">\n",
       "  <thead>\n",
       "    <tr style=\"text-align: right;\">\n",
       "      <th></th>\n",
       "      <th>Sexo</th>\n",
       "      <th>Occupation</th>\n",
       "      <th>Cat_ciudad</th>\n",
       "      <th>Estado_civil</th>\n",
       "      <th>Imp_Compra</th>\n",
       "      <th>IVA</th>\n",
       "      <th>Importe_Sin_IVA</th>\n",
       "    </tr>\n",
       "  </thead>\n",
       "  <tbody>\n",
       "    <tr>\n",
       "      <td>0</td>\n",
       "      <td>F</td>\n",
       "      <td>10</td>\n",
       "      <td>A</td>\n",
       "      <td>0</td>\n",
       "      <td>8370</td>\n",
       "      <td>1339.20</td>\n",
       "      <td>7030.80</td>\n",
       "    </tr>\n",
       "    <tr>\n",
       "      <td>1</td>\n",
       "      <td>F</td>\n",
       "      <td>10</td>\n",
       "      <td>A</td>\n",
       "      <td>0</td>\n",
       "      <td>15200</td>\n",
       "      <td>2432.00</td>\n",
       "      <td>12768.00</td>\n",
       "    </tr>\n",
       "    <tr>\n",
       "      <td>2</td>\n",
       "      <td>F</td>\n",
       "      <td>10</td>\n",
       "      <td>A</td>\n",
       "      <td>0</td>\n",
       "      <td>1422</td>\n",
       "      <td>227.52</td>\n",
       "      <td>1194.48</td>\n",
       "    </tr>\n",
       "  </tbody>\n",
       "</table>\n",
       "</div>"
      ],
      "text/plain": [
       "  Sexo  Occupation Cat_ciudad  Estado_civil  Imp_Compra      IVA  \\\n",
       "0    F          10          A             0        8370  1339.20   \n",
       "1    F          10          A             0       15200  2432.00   \n",
       "2    F          10          A             0        1422   227.52   \n",
       "\n",
       "   Importe_Sin_IVA  \n",
       "0          7030.80  \n",
       "1         12768.00  \n",
       "2          1194.48  "
      ]
     },
     "execution_count": 40,
     "metadata": {},
     "output_type": "execute_result"
    }
   ],
   "source": [
    "new_data[\"Importe_Sin_IVA\"] = new_data[\"Imp_Compra\"] - new_data[\"IVA\"]\n",
    "\n",
    "new_data.head(3)"
   ]
  },
  {
   "cell_type": "code",
   "execution_count": null,
   "metadata": {},
   "outputs": [],
   "source": []
  },
  {
   "cell_type": "markdown",
   "metadata": {},
   "source": [
    "# Crear Columnas con IF / ELIF  -->>  CON CONDICIONALES"
   ]
  },
  {
   "cell_type": "code",
   "execution_count": 41,
   "metadata": {},
   "outputs": [
    {
     "data": {
      "text/html": [
       "<div>\n",
       "<style scoped>\n",
       "    .dataframe tbody tr th:only-of-type {\n",
       "        vertical-align: middle;\n",
       "    }\n",
       "\n",
       "    .dataframe tbody tr th {\n",
       "        vertical-align: top;\n",
       "    }\n",
       "\n",
       "    .dataframe thead th {\n",
       "        text-align: right;\n",
       "    }\n",
       "</style>\n",
       "<table border=\"1\" class=\"dataframe\">\n",
       "  <thead>\n",
       "    <tr style=\"text-align: right;\">\n",
       "      <th></th>\n",
       "      <th>Sexo</th>\n",
       "      <th>Occupation</th>\n",
       "      <th>Cat_ciudad</th>\n",
       "      <th>Estado_civil</th>\n",
       "      <th>Imp_Compra</th>\n",
       "      <th>IVA</th>\n",
       "      <th>Importe_Sin_IVA</th>\n",
       "      <th>Clase_social</th>\n",
       "    </tr>\n",
       "  </thead>\n",
       "  <tbody>\n",
       "    <tr>\n",
       "      <td>0</td>\n",
       "      <td>F</td>\n",
       "      <td>10</td>\n",
       "      <td>A</td>\n",
       "      <td>0</td>\n",
       "      <td>8370</td>\n",
       "      <td>1339.20</td>\n",
       "      <td>7030.80</td>\n",
       "      <td>Clase Alta</td>\n",
       "    </tr>\n",
       "    <tr>\n",
       "      <td>1</td>\n",
       "      <td>F</td>\n",
       "      <td>10</td>\n",
       "      <td>A</td>\n",
       "      <td>0</td>\n",
       "      <td>15200</td>\n",
       "      <td>2432.00</td>\n",
       "      <td>12768.00</td>\n",
       "      <td>Clase Alta</td>\n",
       "    </tr>\n",
       "    <tr>\n",
       "      <td>2</td>\n",
       "      <td>F</td>\n",
       "      <td>10</td>\n",
       "      <td>A</td>\n",
       "      <td>0</td>\n",
       "      <td>1422</td>\n",
       "      <td>227.52</td>\n",
       "      <td>1194.48</td>\n",
       "      <td>Clase Alta</td>\n",
       "    </tr>\n",
       "    <tr>\n",
       "      <td>3</td>\n",
       "      <td>F</td>\n",
       "      <td>10</td>\n",
       "      <td>A</td>\n",
       "      <td>0</td>\n",
       "      <td>1057</td>\n",
       "      <td>169.12</td>\n",
       "      <td>887.88</td>\n",
       "      <td>Clase Alta</td>\n",
       "    </tr>\n",
       "    <tr>\n",
       "      <td>4</td>\n",
       "      <td>M</td>\n",
       "      <td>16</td>\n",
       "      <td>C</td>\n",
       "      <td>0</td>\n",
       "      <td>7969</td>\n",
       "      <td>1275.04</td>\n",
       "      <td>6693.96</td>\n",
       "      <td>Clase Baja</td>\n",
       "    </tr>\n",
       "    <tr>\n",
       "      <td>5</td>\n",
       "      <td>M</td>\n",
       "      <td>15</td>\n",
       "      <td>A</td>\n",
       "      <td>0</td>\n",
       "      <td>15227</td>\n",
       "      <td>2436.32</td>\n",
       "      <td>12790.68</td>\n",
       "      <td>Clase Alta</td>\n",
       "    </tr>\n",
       "  </tbody>\n",
       "</table>\n",
       "</div>"
      ],
      "text/plain": [
       "  Sexo  Occupation Cat_ciudad  Estado_civil  Imp_Compra      IVA  \\\n",
       "0    F          10          A             0        8370  1339.20   \n",
       "1    F          10          A             0       15200  2432.00   \n",
       "2    F          10          A             0        1422   227.52   \n",
       "3    F          10          A             0        1057   169.12   \n",
       "4    M          16          C             0        7969  1275.04   \n",
       "5    M          15          A             0       15227  2436.32   \n",
       "\n",
       "   Importe_Sin_IVA Clase_social  \n",
       "0          7030.80   Clase Alta  \n",
       "1         12768.00   Clase Alta  \n",
       "2          1194.48   Clase Alta  \n",
       "3           887.88   Clase Alta  \n",
       "4          6693.96   Clase Baja  \n",
       "5         12790.68   Clase Alta  "
      ]
     },
     "execution_count": 41,
     "metadata": {},
     "output_type": "execute_result"
    }
   ],
   "source": [
    "\n",
    "\n",
    "clase = new_data\n",
    "\n",
    "def cambio_nombre(columna):\n",
    "    if columna == \"A\":\n",
    "        return  \"Clase Alta\"\n",
    "    elif columna == \"B\":\n",
    "        return  \"Clase Media\"\n",
    "    elif columna == \"C\":\n",
    "        return \"Clase Baja\"\n",
    "    \n",
    "    \n",
    "clase[\"Clase_social\"] =  clase.Cat_ciudad.apply(cambio_nombre)\n",
    "\n",
    "\n",
    "clase.head(6)\n",
    "\n"
   ]
  },
  {
   "cell_type": "code",
   "execution_count": 42,
   "metadata": {},
   "outputs": [
    {
     "data": {
      "text/html": [
       "<div>\n",
       "<style scoped>\n",
       "    .dataframe tbody tr th:only-of-type {\n",
       "        vertical-align: middle;\n",
       "    }\n",
       "\n",
       "    .dataframe tbody tr th {\n",
       "        vertical-align: top;\n",
       "    }\n",
       "\n",
       "    .dataframe thead th {\n",
       "        text-align: right;\n",
       "    }\n",
       "</style>\n",
       "<table border=\"1\" class=\"dataframe\">\n",
       "  <thead>\n",
       "    <tr style=\"text-align: right;\">\n",
       "      <th></th>\n",
       "      <th>Sexo</th>\n",
       "      <th>Occupation</th>\n",
       "      <th>Cat_ciudad</th>\n",
       "      <th>Estado_civil</th>\n",
       "      <th>Imp_Compra</th>\n",
       "      <th>IVA</th>\n",
       "      <th>Importe_Sin_IVA</th>\n",
       "      <th>Clase_social</th>\n",
       "      <th>Categoria</th>\n",
       "    </tr>\n",
       "  </thead>\n",
       "  <tbody>\n",
       "    <tr>\n",
       "      <td>366138</td>\n",
       "      <td>F</td>\n",
       "      <td>0</td>\n",
       "      <td>C</td>\n",
       "      <td>1</td>\n",
       "      <td>12084</td>\n",
       "      <td>1933.44</td>\n",
       "      <td>10150.56</td>\n",
       "      <td>Clase Baja</td>\n",
       "      <td>Casado</td>\n",
       "    </tr>\n",
       "    <tr>\n",
       "      <td>39678</td>\n",
       "      <td>F</td>\n",
       "      <td>3</td>\n",
       "      <td>C</td>\n",
       "      <td>0</td>\n",
       "      <td>10052</td>\n",
       "      <td>1608.32</td>\n",
       "      <td>8443.68</td>\n",
       "      <td>Clase Baja</td>\n",
       "      <td>Soltero</td>\n",
       "    </tr>\n",
       "    <tr>\n",
       "      <td>234234</td>\n",
       "      <td>M</td>\n",
       "      <td>18</td>\n",
       "      <td>C</td>\n",
       "      <td>0</td>\n",
       "      <td>6055</td>\n",
       "      <td>968.80</td>\n",
       "      <td>5086.20</td>\n",
       "      <td>Clase Baja</td>\n",
       "      <td>Soltero</td>\n",
       "    </tr>\n",
       "    <tr>\n",
       "      <td>160824</td>\n",
       "      <td>M</td>\n",
       "      <td>20</td>\n",
       "      <td>A</td>\n",
       "      <td>0</td>\n",
       "      <td>5202</td>\n",
       "      <td>832.32</td>\n",
       "      <td>4369.68</td>\n",
       "      <td>Clase Alta</td>\n",
       "      <td>Soltero</td>\n",
       "    </tr>\n",
       "    <tr>\n",
       "      <td>504901</td>\n",
       "      <td>M</td>\n",
       "      <td>12</td>\n",
       "      <td>B</td>\n",
       "      <td>1</td>\n",
       "      <td>15564</td>\n",
       "      <td>2490.24</td>\n",
       "      <td>13073.76</td>\n",
       "      <td>Clase Media</td>\n",
       "      <td>Casado</td>\n",
       "    </tr>\n",
       "    <tr>\n",
       "      <td>454558</td>\n",
       "      <td>F</td>\n",
       "      <td>2</td>\n",
       "      <td>C</td>\n",
       "      <td>1</td>\n",
       "      <td>8374</td>\n",
       "      <td>1339.84</td>\n",
       "      <td>7034.16</td>\n",
       "      <td>Clase Baja</td>\n",
       "      <td>Casado</td>\n",
       "    </tr>\n",
       "    <tr>\n",
       "      <td>296408</td>\n",
       "      <td>M</td>\n",
       "      <td>5</td>\n",
       "      <td>C</td>\n",
       "      <td>1</td>\n",
       "      <td>8702</td>\n",
       "      <td>1392.32</td>\n",
       "      <td>7309.68</td>\n",
       "      <td>Clase Baja</td>\n",
       "      <td>Casado</td>\n",
       "    </tr>\n",
       "    <tr>\n",
       "      <td>105344</td>\n",
       "      <td>M</td>\n",
       "      <td>19</td>\n",
       "      <td>A</td>\n",
       "      <td>0</td>\n",
       "      <td>7131</td>\n",
       "      <td>1140.96</td>\n",
       "      <td>5990.04</td>\n",
       "      <td>Clase Alta</td>\n",
       "      <td>Soltero</td>\n",
       "    </tr>\n",
       "    <tr>\n",
       "      <td>192292</td>\n",
       "      <td>M</td>\n",
       "      <td>4</td>\n",
       "      <td>B</td>\n",
       "      <td>0</td>\n",
       "      <td>8673</td>\n",
       "      <td>1387.68</td>\n",
       "      <td>7285.32</td>\n",
       "      <td>Clase Media</td>\n",
       "      <td>Soltero</td>\n",
       "    </tr>\n",
       "    <tr>\n",
       "      <td>481223</td>\n",
       "      <td>F</td>\n",
       "      <td>1</td>\n",
       "      <td>B</td>\n",
       "      <td>0</td>\n",
       "      <td>16154</td>\n",
       "      <td>2584.64</td>\n",
       "      <td>13569.36</td>\n",
       "      <td>Clase Media</td>\n",
       "      <td>Soltero</td>\n",
       "    </tr>\n",
       "  </tbody>\n",
       "</table>\n",
       "</div>"
      ],
      "text/plain": [
       "       Sexo  Occupation Cat_ciudad  Estado_civil  Imp_Compra      IVA  \\\n",
       "366138    F           0          C             1       12084  1933.44   \n",
       "39678     F           3          C             0       10052  1608.32   \n",
       "234234    M          18          C             0        6055   968.80   \n",
       "160824    M          20          A             0        5202   832.32   \n",
       "504901    M          12          B             1       15564  2490.24   \n",
       "454558    F           2          C             1        8374  1339.84   \n",
       "296408    M           5          C             1        8702  1392.32   \n",
       "105344    M          19          A             0        7131  1140.96   \n",
       "192292    M           4          B             0        8673  1387.68   \n",
       "481223    F           1          B             0       16154  2584.64   \n",
       "\n",
       "        Importe_Sin_IVA Clase_social Categoria  \n",
       "366138         10150.56   Clase Baja    Casado  \n",
       "39678           8443.68   Clase Baja   Soltero  \n",
       "234234          5086.20   Clase Baja   Soltero  \n",
       "160824          4369.68   Clase Alta   Soltero  \n",
       "504901         13073.76  Clase Media    Casado  \n",
       "454558          7034.16   Clase Baja    Casado  \n",
       "296408          7309.68   Clase Baja    Casado  \n",
       "105344          5990.04   Clase Alta   Soltero  \n",
       "192292          7285.32  Clase Media   Soltero  \n",
       "481223         13569.36  Clase Media   Soltero  "
      ]
     },
     "execution_count": 42,
     "metadata": {},
     "output_type": "execute_result"
    }
   ],
   "source": [
    "estado = clase\n",
    "\n",
    "\n",
    "def cambio_nombre(columna):\n",
    "    if columna == 0:\n",
    "        return \"Soltero\"\n",
    "    elif columna == 1:\n",
    "        return \"Casado\"\n",
    "    \n",
    "estado[\"Categoria\"]= estado.Estado_civil.apply(cambio_nombre)\n",
    "\n",
    "estado.sample(10)"
   ]
  },
  {
   "cell_type": "markdown",
   "metadata": {},
   "source": [
    "# Grupos y operaciones de agregacion -->>  GROUPBY"
   ]
  },
  {
   "cell_type": "markdown",
   "metadata": {},
   "source": [
    "__Despues de importar datos y procesarlos__, una de las tareas mas habituales el la agrupacion de datos __por alguna caracteristica__ oara realizar operaciones sobre cada uno de los grupos obtenidos. \n",
    "- Se realiza en un unico paso: __GROUPBY__ de DF : similar a group by en SQL\n",
    "\n",
    "#### La operacion GROUP BY\n",
    "1. Los datos se dividen en grupos basados en caracteristicas\n",
    "    - Ej: es posible hacer __grupos por filas__ (axis = 0) o __por columnas__ (axis = 1)\n",
    "2. Tras crear los grupos se puede realizar __alguna operacion__ \n",
    "    - Ej: operaciones __De agregacion__ u\n",
    "    - operaciones de __transformacion__ (a cada uno de los grupos y se __obtiene una SERIE para cada grupo__\n",
    "3. Se aplica la funcion (o predefinida en el paquete o creada por el usuario) a __cada uno de los grupos__\n",
    "4. Resultado: __VALOR__ para __cada uno de los grupos__ \n",
    "\n"
   ]
  },
  {
   "cell_type": "code",
   "execution_count": 43,
   "metadata": {},
   "outputs": [
    {
     "data": {
      "text/plain": [
       "Categoria  Clase_social\n",
       "Casado     Clase Alta       55250\n",
       "           Clase Baja       72230\n",
       "           Clase Media      92280\n",
       "Soltero    Clase Alta       89388\n",
       "           Clase Baja       94216\n",
       "           Clase Media     134213\n",
       "Name: Clase_social, dtype: int64"
      ]
     },
     "execution_count": 43,
     "metadata": {},
     "output_type": "execute_result"
    }
   ],
   "source": [
    "\n",
    "estado.groupby([\"Categoria\",\"Clase_social\"]).Clase_social.count()"
   ]
  },
  {
   "cell_type": "code",
   "execution_count": 44,
   "metadata": {},
   "outputs": [
    {
     "data": {
      "text/plain": [
       "Clase_social  Categoria\n",
       "Clase Alta    Casado        55250\n",
       "              Soltero       89388\n",
       "Clase Baja    Casado        72230\n",
       "              Soltero       94216\n",
       "Clase Media   Casado        92280\n",
       "              Soltero      134213\n",
       "Name: Categoria, dtype: int64"
      ]
     },
     "execution_count": 44,
     "metadata": {},
     "output_type": "execute_result"
    }
   ],
   "source": [
    "estado.groupby([\"Clase_social\",\"Categoria\"]).Categoria.count()"
   ]
  },
  {
   "cell_type": "code",
   "execution_count": null,
   "metadata": {},
   "outputs": [],
   "source": []
  },
  {
   "cell_type": "code",
   "execution_count": 45,
   "metadata": {},
   "outputs": [
    {
     "data": {
      "text/plain": [
       "Categoria  Clase_social\n",
       "Casado     Clase Alta      8855.717756\n",
       "           Clase Baja      9862.775149\n",
       "           Clase Media     9207.978143\n",
       "Soltero    Clase Alta      9021.237649\n",
       "           Clase Baja      9830.386771\n",
       "           Clase Media     9192.249551\n",
       "Name: Imp_Compra, dtype: float64"
      ]
     },
     "execution_count": 45,
     "metadata": {},
     "output_type": "execute_result"
    }
   ],
   "source": [
    "estado.groupby([\"Categoria\", \"Clase_social\"]).Imp_Compra.mean()"
   ]
  },
  {
   "cell_type": "markdown",
   "metadata": {},
   "source": [
    "# Groupby más estetico."
   ]
  },
  {
   "cell_type": "code",
   "execution_count": 46,
   "metadata": {},
   "outputs": [
    {
     "data": {
      "text/html": [
       "<div>\n",
       "<style scoped>\n",
       "    .dataframe tbody tr th:only-of-type {\n",
       "        vertical-align: middle;\n",
       "    }\n",
       "\n",
       "    .dataframe tbody tr th {\n",
       "        vertical-align: top;\n",
       "    }\n",
       "\n",
       "    .dataframe thead th {\n",
       "        text-align: right;\n",
       "    }\n",
       "</style>\n",
       "<table border=\"1\" class=\"dataframe\">\n",
       "  <thead>\n",
       "    <tr style=\"text-align: right;\">\n",
       "      <th>Categoria</th>\n",
       "      <th>Casado</th>\n",
       "      <th>Soltero</th>\n",
       "    </tr>\n",
       "    <tr>\n",
       "      <th>Clase_social</th>\n",
       "      <th></th>\n",
       "      <th></th>\n",
       "    </tr>\n",
       "  </thead>\n",
       "  <tbody>\n",
       "    <tr>\n",
       "      <td>Clase Alta</td>\n",
       "      <td>8855.72</td>\n",
       "      <td>9021.24</td>\n",
       "    </tr>\n",
       "    <tr>\n",
       "      <td>Clase Baja</td>\n",
       "      <td>9862.78</td>\n",
       "      <td>9830.39</td>\n",
       "    </tr>\n",
       "    <tr>\n",
       "      <td>Clase Media</td>\n",
       "      <td>9207.98</td>\n",
       "      <td>9192.25</td>\n",
       "    </tr>\n",
       "  </tbody>\n",
       "</table>\n",
       "</div>"
      ],
      "text/plain": [
       "Categoria      Casado  Soltero\n",
       "Clase_social                  \n",
       "Clase Alta    8855.72  9021.24\n",
       "Clase Baja    9862.78  9830.39\n",
       "Clase Media   9207.98  9192.25"
      ]
     },
     "execution_count": 46,
     "metadata": {},
     "output_type": "execute_result"
    }
   ],
   "source": [
    "round(estado.groupby([ \"Clase_social\",\"Categoria\"]).Imp_Compra.mean().unstack(),2)"
   ]
  },
  {
   "cell_type": "markdown",
   "metadata": {},
   "source": [
    "## Combinar dataframes:  Funcion MERGE"
   ]
  },
  {
   "cell_type": "markdown",
   "metadata": {},
   "source": [
    "Cuando la informacion está distribuida en __VARIOS DF__ antes de analizarlos hay que __COMBINARLOS__ para crear nuevos __DF__ con toda la info necesaria. \n",
    "\n",
    "Herramientas para combinar DF:\n",
    "\n",
    "##### 1. Combinar tablas al estilo del ALGEBRA RELACIONAL"
   ]
  },
  {
   "cell_type": "markdown",
   "metadata": {},
   "source": [
    "Con la funcion (`pd.merge`) se pueden combinar __FILAS__ de 2 DF a partir del valor de __UNA O VARIAS COLUMNAS__\n",
    "(Es como __join__ al estilo algebra relacional__\n",
    "\n",
    "- Las __COLUMNAS DE COMBINACION__ se indican mediante una __LISTA__ en el argumento (`on`) de la funcion.\n",
    "- En el argumento (`how`) de pd.merge indicamos el tipo de combinacion que queremos hacer : (`left, right, outer, inner`) \n",
    " > RESULTADO: NUEVO DATAFRAME (DF)"
   ]
  },
  {
   "cell_type": "code",
   "execution_count": null,
   "metadata": {},
   "outputs": [],
   "source": []
  },
  {
   "cell_type": "code",
   "execution_count": null,
   "metadata": {},
   "outputs": [],
   "source": []
  },
  {
   "cell_type": "code",
   "execution_count": null,
   "metadata": {},
   "outputs": [],
   "source": []
  },
  {
   "cell_type": "code",
   "execution_count": null,
   "metadata": {},
   "outputs": [],
   "source": []
  }
 ],
 "metadata": {
  "kernelspec": {
   "display_name": "Python 3",
   "language": "python",
   "name": "python3"
  },
  "language_info": {
   "codemirror_mode": {
    "name": "ipython",
    "version": 3
   },
   "file_extension": ".py",
   "mimetype": "text/x-python",
   "name": "python",
   "nbconvert_exporter": "python",
   "pygments_lexer": "ipython3",
   "version": "3.7.4"
  }
 },
 "nbformat": 4,
 "nbformat_minor": 2
}
