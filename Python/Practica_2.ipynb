{
 "cells": [
  {
   "cell_type": "markdown",
   "metadata": {},
   "source": [
    "### Realizado por Victor Marinas"
   ]
  },
  {
   "cell_type": "markdown",
   "metadata": {},
   "source": [
    "## Tráfico de Madrid"
   ]
  },
  {
   "cell_type": "markdown",
   "metadata": {},
   "source": [
    "El dataset ['trafico_madrid.csv'](trafico_madrid.csv) contiene datos de tráfico. Distintos sensores de control de tráfico de la Comunidad de Madrid proporcionan datos sobre la intensidad de tráfico cada 15 minutos."
   ]
  },
  {
   "cell_type": "markdown",
   "metadata": {},
   "source": [
    "__Descripción de los datos de tráfico__\n",
    "\n",
    "\n",
    "* `idelem`: Identificación  única  del  Punto  de  Medida  en  los  sistemas  de  control  del tráfico del Ayuntamiento de Madrid. \n",
    "* `fecha`: fecha en formato Año, mes, día, hora, minutos, segundos\n",
    "* `intensidad`: Intensidad   del   Punto   de   Medida   en\n",
    "   el   periodo   de   15   minutos  (vehículos/hora). \n",
    "* `vmed`: Velocidad  media  de  los  vehículos  en  el periodo  de  15  minutos  (Km./h). Sólo para puntos de medida interurbanos M30. \n",
    "* `error`: Indicación de si ha habido al menos una\n",
    " muestra errónea o sustituida en el periodo de 15 minutos. \n",
    "    * `N`: no ha habido errores ni sustituciones \n",
    "    * `E`: los parámetros de calidad de alguna de las muestras integradas no son óptimos. \n",
    "* `periodo_integracion`: Número   de   muestras   recibidas   y   consideradas"
   ]
  },
  {
   "cell_type": "markdown",
   "metadata": {},
   "source": [
    "Crea un dataframe con los datos del fichero  ['trafico_madrid.csv'](trafico_madrid.csv). \n",
    "\n",
    "__1. Seleccionar aquellas filas que cumplen que la `ocupación` sea igual a cero.__"
   ]
  },
  {
   "cell_type": "code",
   "execution_count": 2,
   "metadata": {
    "ExecuteTime": {
     "end_time": "2018-10-17T10:57:27.647813Z",
     "start_time": "2018-10-17T10:57:27.628965Z"
    }
   },
   "outputs": [
    {
     "data": {
      "text/html": [
       "<div>\n",
       "<style scoped>\n",
       "    .dataframe tbody tr th:only-of-type {\n",
       "        vertical-align: middle;\n",
       "    }\n",
       "\n",
       "    .dataframe tbody tr th {\n",
       "        vertical-align: top;\n",
       "    }\n",
       "\n",
       "    .dataframe thead th {\n",
       "        text-align: right;\n",
       "    }\n",
       "</style>\n",
       "<table border=\"1\" class=\"dataframe\">\n",
       "  <thead>\n",
       "    <tr style=\"text-align: right;\">\n",
       "      <th></th>\n",
       "      <th>idelem</th>\n",
       "      <th>fecha</th>\n",
       "      <th>identif</th>\n",
       "      <th>tipo_elem</th>\n",
       "      <th>intensidad</th>\n",
       "      <th>ocupacion</th>\n",
       "      <th>carga</th>\n",
       "      <th>vmed</th>\n",
       "      <th>error</th>\n",
       "      <th>periodo_integracion</th>\n",
       "    </tr>\n",
       "  </thead>\n",
       "  <tbody>\n",
       "    <tr>\n",
       "      <th>0</th>\n",
       "      <td>3621</td>\n",
       "      <td>2017-02-18 07:30:00</td>\n",
       "      <td>17016</td>\n",
       "      <td>PUNTOS MEDIDA URBANOS</td>\n",
       "      <td>207</td>\n",
       "      <td>0</td>\n",
       "      <td>8.0</td>\n",
       "      <td>0</td>\n",
       "      <td>N</td>\n",
       "      <td>15</td>\n",
       "    </tr>\n",
       "    <tr>\n",
       "      <th>15</th>\n",
       "      <td>6274</td>\n",
       "      <td>2017-02-22 06:30:00</td>\n",
       "      <td>55079</td>\n",
       "      <td>PUNTOS MEDIDA URBANOS</td>\n",
       "      <td>55</td>\n",
       "      <td>0</td>\n",
       "      <td>1.0</td>\n",
       "      <td>0</td>\n",
       "      <td>N</td>\n",
       "      <td>14</td>\n",
       "    </tr>\n",
       "    <tr>\n",
       "      <th>17</th>\n",
       "      <td>5477</td>\n",
       "      <td>2017-02-15 04:00:00</td>\n",
       "      <td>60031</td>\n",
       "      <td>PUNTOS MEDIDA URBANOS</td>\n",
       "      <td>43</td>\n",
       "      <td>0</td>\n",
       "      <td>0.0</td>\n",
       "      <td>0</td>\n",
       "      <td>N</td>\n",
       "      <td>12</td>\n",
       "    </tr>\n",
       "    <tr>\n",
       "      <th>18</th>\n",
       "      <td>5416</td>\n",
       "      <td>2017-02-11 04:00:00</td>\n",
       "      <td>43003</td>\n",
       "      <td>PUNTOS MEDIDA URBANOS</td>\n",
       "      <td>51</td>\n",
       "      <td>0</td>\n",
       "      <td>3.0</td>\n",
       "      <td>0</td>\n",
       "      <td>N</td>\n",
       "      <td>13</td>\n",
       "    </tr>\n",
       "    <tr>\n",
       "      <th>29</th>\n",
       "      <td>5910</td>\n",
       "      <td>2017-02-09 04:45:00</td>\n",
       "      <td>44004</td>\n",
       "      <td>PUNTOS MEDIDA URBANOS</td>\n",
       "      <td>99</td>\n",
       "      <td>0</td>\n",
       "      <td>4.0</td>\n",
       "      <td>0</td>\n",
       "      <td>N</td>\n",
       "      <td>15</td>\n",
       "    </tr>\n",
       "  </tbody>\n",
       "</table>\n",
       "</div>"
      ],
      "text/plain": [
       "    idelem                fecha identif              tipo_elem  intensidad  \\\n",
       "0     3621  2017-02-18 07:30:00   17016  PUNTOS MEDIDA URBANOS         207   \n",
       "15    6274  2017-02-22 06:30:00   55079  PUNTOS MEDIDA URBANOS          55   \n",
       "17    5477  2017-02-15 04:00:00   60031  PUNTOS MEDIDA URBANOS          43   \n",
       "18    5416  2017-02-11 04:00:00   43003  PUNTOS MEDIDA URBANOS          51   \n",
       "29    5910  2017-02-09 04:45:00   44004  PUNTOS MEDIDA URBANOS          99   \n",
       "\n",
       "    ocupacion  carga  vmed error  periodo_integracion  \n",
       "0           0    8.0     0     N                   15  \n",
       "15          0    1.0     0     N                   14  \n",
       "17          0    0.0     0     N                   12  \n",
       "18          0    3.0     0     N                   13  \n",
       "29          0    4.0     0     N                   15  "
      ]
     },
     "execution_count": 2,
     "metadata": {},
     "output_type": "execute_result"
    }
   ],
   "source": [
    "# Sol:\n",
    "import pandas as pd\n",
    "datos=pd.read_csv('./datos/trafico_madrid.csv')\n",
    "filas0=datos[datos.ocupacion==0]\n",
    "filas0.head()\n"
   ]
  },
  {
   "cell_type": "markdown",
   "metadata": {},
   "source": [
    "__2. ¿Cuantos valores distintos de `tipo_elem` aparecen en la tabla?__\n"
   ]
  },
  {
   "cell_type": "code",
   "execution_count": 29,
   "metadata": {
    "ExecuteTime": {
     "end_time": "2018-10-17T10:13:35.589761Z",
     "start_time": "2018-10-17T10:13:35.573863Z"
    }
   },
   "outputs": [
    {
     "data": {
      "text/plain": [
       "array(['--', 'PUNTOS MEDIDA M-30', 'PUNTOS MEDIDA URBANOS'], dtype=object)"
      ]
     },
     "execution_count": 29,
     "metadata": {},
     "output_type": "execute_result"
    }
   ],
   "source": [
    "# Sol: \n",
    "import numpy as np\n",
    "unicos=np.unique(datos.tipo_elem)\n",
    "unicos"
   ]
  },
  {
   "cell_type": "markdown",
   "metadata": {},
   "source": [
    "__3. Calcula la intensidad media.__"
   ]
  },
  {
   "cell_type": "code",
   "execution_count": 30,
   "metadata": {
    "ExecuteTime": {
     "end_time": "2018-10-17T10:13:36.589673Z",
     "start_time": "2018-10-17T10:13:36.586202Z"
    }
   },
   "outputs": [
    {
     "data": {
      "text/plain": [
       "490.309525698419"
      ]
     },
     "execution_count": 30,
     "metadata": {},
     "output_type": "execute_result"
    }
   ],
   "source": [
    "# Sol:\n",
    "datos.intensidad.mean()\n"
   ]
  },
  {
   "cell_type": "markdown",
   "metadata": {
    "scrolled": true
   },
   "source": [
    "__4. Calcula la intensidad media de los puntos de medida URBANOS.__"
   ]
  },
  {
   "cell_type": "code",
   "execution_count": 31,
   "metadata": {
    "ExecuteTime": {
     "end_time": "2018-10-17T10:13:38.025096Z",
     "start_time": "2018-10-17T10:13:38.006747Z"
    }
   },
   "outputs": [
    {
     "data": {
      "text/plain": [
       "368.1808910718826"
      ]
     },
     "execution_count": 31,
     "metadata": {},
     "output_type": "execute_result"
    }
   ],
   "source": [
    "# Sol:\n",
    "datos4=datos[datos.tipo_elem=='PUNTOS MEDIDA URBANOS']\n",
    "datos4.intensidad.mean()"
   ]
  },
  {
   "cell_type": "markdown",
   "metadata": {},
   "source": [
    "__5. Crea una nueva columna cuyo valor sea la suma de la `ocupación` y la `carga`.__\n"
   ]
  },
  {
   "cell_type": "code",
   "execution_count": 18,
   "metadata": {
    "ExecuteTime": {
     "end_time": "2018-10-17T10:13:50.492559Z",
     "start_time": "2018-10-17T10:13:50.479165Z"
    }
   },
   "outputs": [
    {
     "data": {
      "text/html": [
       "<div>\n",
       "<style scoped>\n",
       "    .dataframe tbody tr th:only-of-type {\n",
       "        vertical-align: middle;\n",
       "    }\n",
       "\n",
       "    .dataframe tbody tr th {\n",
       "        vertical-align: top;\n",
       "    }\n",
       "\n",
       "    .dataframe thead th {\n",
       "        text-align: right;\n",
       "    }\n",
       "</style>\n",
       "<table border=\"1\" class=\"dataframe\">\n",
       "  <thead>\n",
       "    <tr style=\"text-align: right;\">\n",
       "      <th></th>\n",
       "      <th>idelem</th>\n",
       "      <th>fecha</th>\n",
       "      <th>identif</th>\n",
       "      <th>tipo_elem</th>\n",
       "      <th>intensidad</th>\n",
       "      <th>ocupacion</th>\n",
       "      <th>carga</th>\n",
       "      <th>vmed</th>\n",
       "      <th>error</th>\n",
       "      <th>periodo_integracion</th>\n",
       "      <th>Nueva</th>\n",
       "    </tr>\n",
       "  </thead>\n",
       "  <tbody>\n",
       "    <tr>\n",
       "      <th>0</th>\n",
       "      <td>3621</td>\n",
       "      <td>2017-02-18 07:30:00</td>\n",
       "      <td>17016</td>\n",
       "      <td>PUNTOS MEDIDA URBANOS</td>\n",
       "      <td>207</td>\n",
       "      <td>0</td>\n",
       "      <td>8.0</td>\n",
       "      <td>0</td>\n",
       "      <td>N</td>\n",
       "      <td>15</td>\n",
       "      <td>8.0</td>\n",
       "    </tr>\n",
       "    <tr>\n",
       "      <th>1</th>\n",
       "      <td>3973</td>\n",
       "      <td>2017-02-07 00:00:00</td>\n",
       "      <td>06033</td>\n",
       "      <td>PUNTOS MEDIDA URBANOS</td>\n",
       "      <td>134</td>\n",
       "      <td>1</td>\n",
       "      <td>6.0</td>\n",
       "      <td>0</td>\n",
       "      <td>N</td>\n",
       "      <td>13</td>\n",
       "      <td>7.0</td>\n",
       "    </tr>\n",
       "    <tr>\n",
       "      <th>2</th>\n",
       "      <td>4064</td>\n",
       "      <td>2017-02-11 22:45:00</td>\n",
       "      <td>10018</td>\n",
       "      <td>PUNTOS MEDIDA URBANOS</td>\n",
       "      <td>169</td>\n",
       "      <td>3</td>\n",
       "      <td>0.0</td>\n",
       "      <td>0</td>\n",
       "      <td>NaN</td>\n",
       "      <td>15</td>\n",
       "      <td>3.0</td>\n",
       "    </tr>\n",
       "    <tr>\n",
       "      <th>3</th>\n",
       "      <td>6375</td>\n",
       "      <td>2017-02-08 00:00:00</td>\n",
       "      <td>59021</td>\n",
       "      <td>PUNTOS MEDIDA URBANOS</td>\n",
       "      <td>53</td>\n",
       "      <td>1</td>\n",
       "      <td>7.0</td>\n",
       "      <td>0</td>\n",
       "      <td>N</td>\n",
       "      <td>14</td>\n",
       "      <td>8.0</td>\n",
       "    </tr>\n",
       "    <tr>\n",
       "      <th>4</th>\n",
       "      <td>6691</td>\n",
       "      <td>2017-02-23 20:45:00</td>\n",
       "      <td>PM12121</td>\n",
       "      <td>--</td>\n",
       "      <td>2428</td>\n",
       "      <td>5</td>\n",
       "      <td>37.0</td>\n",
       "      <td>81</td>\n",
       "      <td>NaN</td>\n",
       "      <td>15</td>\n",
       "      <td>42.0</td>\n",
       "    </tr>\n",
       "    <tr>\n",
       "      <th>5</th>\n",
       "      <td>6202</td>\n",
       "      <td>2017-02-03 15:00:00</td>\n",
       "      <td>54010</td>\n",
       "      <td>PUNTOS MEDIDA URBANOS</td>\n",
       "      <td>170</td>\n",
       "      <td>4</td>\n",
       "      <td>27.0</td>\n",
       "      <td>0</td>\n",
       "      <td>N</td>\n",
       "      <td>15</td>\n",
       "      <td>31.0</td>\n",
       "    </tr>\n",
       "    <tr>\n",
       "      <th>6</th>\n",
       "      <td>4047</td>\n",
       "      <td>2017-02-13 07:00:00</td>\n",
       "      <td>09033</td>\n",
       "      <td>PUNTOS MEDIDA URBANOS</td>\n",
       "      <td>65</td>\n",
       "      <td>1</td>\n",
       "      <td>11.0</td>\n",
       "      <td>0</td>\n",
       "      <td>N</td>\n",
       "      <td>15</td>\n",
       "      <td>12.0</td>\n",
       "    </tr>\n",
       "    <tr>\n",
       "      <th>7</th>\n",
       "      <td>6077</td>\n",
       "      <td>2017-02-26 11:30:00</td>\n",
       "      <td>47016</td>\n",
       "      <td>PUNTOS MEDIDA URBANOS</td>\n",
       "      <td>171</td>\n",
       "      <td>1</td>\n",
       "      <td>13.0</td>\n",
       "      <td>0</td>\n",
       "      <td>N</td>\n",
       "      <td>15</td>\n",
       "      <td>14.0</td>\n",
       "    </tr>\n",
       "    <tr>\n",
       "      <th>8</th>\n",
       "      <td>6103</td>\n",
       "      <td>2017-02-17 16:30:00</td>\n",
       "      <td>47044</td>\n",
       "      <td>PUNTOS MEDIDA URBANOS</td>\n",
       "      <td>153</td>\n",
       "      <td>2</td>\n",
       "      <td>27.0</td>\n",
       "      <td>0</td>\n",
       "      <td>N</td>\n",
       "      <td>15</td>\n",
       "      <td>29.0</td>\n",
       "    </tr>\n",
       "    <tr>\n",
       "      <th>9</th>\n",
       "      <td>7111</td>\n",
       "      <td>2017-02-21 22:30:00</td>\n",
       "      <td>62070</td>\n",
       "      <td>PUNTOS MEDIDA URBANOS</td>\n",
       "      <td>395</td>\n",
       "      <td>6</td>\n",
       "      <td>28.0</td>\n",
       "      <td>0</td>\n",
       "      <td>N</td>\n",
       "      <td>15</td>\n",
       "      <td>34.0</td>\n",
       "    </tr>\n",
       "  </tbody>\n",
       "</table>\n",
       "</div>"
      ],
      "text/plain": [
       "   idelem                fecha  identif              tipo_elem  intensidad  \\\n",
       "0    3621  2017-02-18 07:30:00    17016  PUNTOS MEDIDA URBANOS         207   \n",
       "1    3973  2017-02-07 00:00:00    06033  PUNTOS MEDIDA URBANOS         134   \n",
       "2    4064  2017-02-11 22:45:00    10018  PUNTOS MEDIDA URBANOS         169   \n",
       "3    6375  2017-02-08 00:00:00    59021  PUNTOS MEDIDA URBANOS          53   \n",
       "4    6691  2017-02-23 20:45:00  PM12121                     --        2428   \n",
       "5    6202  2017-02-03 15:00:00    54010  PUNTOS MEDIDA URBANOS         170   \n",
       "6    4047  2017-02-13 07:00:00    09033  PUNTOS MEDIDA URBANOS          65   \n",
       "7    6077  2017-02-26 11:30:00    47016  PUNTOS MEDIDA URBANOS         171   \n",
       "8    6103  2017-02-17 16:30:00    47044  PUNTOS MEDIDA URBANOS         153   \n",
       "9    7111  2017-02-21 22:30:00    62070  PUNTOS MEDIDA URBANOS         395   \n",
       "\n",
       "   ocupacion  carga  vmed error  periodo_integracion  Nueva  \n",
       "0          0    8.0     0     N                   15    8.0  \n",
       "1          1    6.0     0     N                   13    7.0  \n",
       "2          3    0.0     0   NaN                   15    3.0  \n",
       "3          1    7.0     0     N                   14    8.0  \n",
       "4          5   37.0    81   NaN                   15   42.0  \n",
       "5          4   27.0     0     N                   15   31.0  \n",
       "6          1   11.0     0     N                   15   12.0  \n",
       "7          1   13.0     0     N                   15   14.0  \n",
       "8          2   27.0     0     N                   15   29.0  \n",
       "9          6   28.0     0     N                   15   34.0  "
      ]
     },
     "execution_count": 18,
     "metadata": {},
     "output_type": "execute_result"
    }
   ],
   "source": [
    "# Sol:\n",
    "datos5=datos\n",
    "datos5.carga=datos5.carga.fillna(0)\n",
    "datos5['Nueva']=datos5.ocupacion+datos5.carga\n",
    "datos5.head(10)"
   ]
  },
  {
   "cell_type": "markdown",
   "metadata": {},
   "source": [
    "__6. Crea una nueva columna llamada `tipo` que sea una transformación de la columna `tipo_elem`, donde el valor `PUNTOS MEDIDA m-30` se sustituye por `M-30` y el valor `PUNTOS MEDIDA URBANOS` se sustituye por `URBANO`. Utiliza el método `apply`.__"
   ]
  },
  {
   "cell_type": "code",
   "execution_count": 4,
   "metadata": {},
   "outputs": [
    {
     "data": {
      "text/html": [
       "<div>\n",
       "<style scoped>\n",
       "    .dataframe tbody tr th:only-of-type {\n",
       "        vertical-align: middle;\n",
       "    }\n",
       "\n",
       "    .dataframe tbody tr th {\n",
       "        vertical-align: top;\n",
       "    }\n",
       "\n",
       "    .dataframe thead th {\n",
       "        text-align: right;\n",
       "    }\n",
       "</style>\n",
       "<table border=\"1\" class=\"dataframe\">\n",
       "  <thead>\n",
       "    <tr style=\"text-align: right;\">\n",
       "      <th></th>\n",
       "      <th>idelem</th>\n",
       "      <th>fecha</th>\n",
       "      <th>identif</th>\n",
       "      <th>tipo_elem</th>\n",
       "      <th>intensidad</th>\n",
       "      <th>ocupacion</th>\n",
       "      <th>carga</th>\n",
       "      <th>vmed</th>\n",
       "      <th>error</th>\n",
       "      <th>periodo_integracion</th>\n",
       "      <th>tipo</th>\n",
       "    </tr>\n",
       "  </thead>\n",
       "  <tbody>\n",
       "    <tr>\n",
       "      <th>0</th>\n",
       "      <td>3621</td>\n",
       "      <td>2017-02-18 07:30:00</td>\n",
       "      <td>17016</td>\n",
       "      <td>PUNTOS MEDIDA URBANOS</td>\n",
       "      <td>207</td>\n",
       "      <td>0</td>\n",
       "      <td>8.0</td>\n",
       "      <td>0</td>\n",
       "      <td>N</td>\n",
       "      <td>15</td>\n",
       "      <td>URBANO</td>\n",
       "    </tr>\n",
       "    <tr>\n",
       "      <th>1</th>\n",
       "      <td>3973</td>\n",
       "      <td>2017-02-07 00:00:00</td>\n",
       "      <td>06033</td>\n",
       "      <td>PUNTOS MEDIDA URBANOS</td>\n",
       "      <td>134</td>\n",
       "      <td>1</td>\n",
       "      <td>6.0</td>\n",
       "      <td>0</td>\n",
       "      <td>N</td>\n",
       "      <td>13</td>\n",
       "      <td>URBANO</td>\n",
       "    </tr>\n",
       "    <tr>\n",
       "      <th>2</th>\n",
       "      <td>4064</td>\n",
       "      <td>2017-02-11 22:45:00</td>\n",
       "      <td>10018</td>\n",
       "      <td>PUNTOS MEDIDA URBANOS</td>\n",
       "      <td>169</td>\n",
       "      <td>3</td>\n",
       "      <td>NaN</td>\n",
       "      <td>0</td>\n",
       "      <td>NaN</td>\n",
       "      <td>15</td>\n",
       "      <td>URBANO</td>\n",
       "    </tr>\n",
       "    <tr>\n",
       "      <th>3</th>\n",
       "      <td>6375</td>\n",
       "      <td>2017-02-08 00:00:00</td>\n",
       "      <td>59021</td>\n",
       "      <td>PUNTOS MEDIDA URBANOS</td>\n",
       "      <td>53</td>\n",
       "      <td>1</td>\n",
       "      <td>7.0</td>\n",
       "      <td>0</td>\n",
       "      <td>N</td>\n",
       "      <td>14</td>\n",
       "      <td>URBANO</td>\n",
       "    </tr>\n",
       "    <tr>\n",
       "      <th>4</th>\n",
       "      <td>6691</td>\n",
       "      <td>2017-02-23 20:45:00</td>\n",
       "      <td>PM12121</td>\n",
       "      <td>--</td>\n",
       "      <td>2428</td>\n",
       "      <td>5</td>\n",
       "      <td>37.0</td>\n",
       "      <td>81</td>\n",
       "      <td>NaN</td>\n",
       "      <td>15</td>\n",
       "      <td>None</td>\n",
       "    </tr>\n",
       "  </tbody>\n",
       "</table>\n",
       "</div>"
      ],
      "text/plain": [
       "   idelem                fecha  identif              tipo_elem  intensidad  \\\n",
       "0    3621  2017-02-18 07:30:00    17016  PUNTOS MEDIDA URBANOS         207   \n",
       "1    3973  2017-02-07 00:00:00    06033  PUNTOS MEDIDA URBANOS         134   \n",
       "2    4064  2017-02-11 22:45:00    10018  PUNTOS MEDIDA URBANOS         169   \n",
       "3    6375  2017-02-08 00:00:00    59021  PUNTOS MEDIDA URBANOS          53   \n",
       "4    6691  2017-02-23 20:45:00  PM12121                     --        2428   \n",
       "\n",
       "   ocupacion  carga  vmed error  periodo_integracion    tipo  \n",
       "0          0    8.0     0     N                   15  URBANO  \n",
       "1          1    6.0     0     N                   13  URBANO  \n",
       "2          3    NaN     0   NaN                   15  URBANO  \n",
       "3          1    7.0     0     N                   14  URBANO  \n",
       "4          5   37.0    81   NaN                   15    None  "
      ]
     },
     "execution_count": 4,
     "metadata": {},
     "output_type": "execute_result"
    }
   ],
   "source": [
    "# Sol:\n",
    "datos6=datos\n",
    "def cambio_nombre(columna):\n",
    "    if columna=='PUNTOS MEDIDA M-30':\n",
    "        return 'M-30'\n",
    "    elif columna=='PUNTOS MEDIDA URBANOS':\n",
    "            return 'URBANO'\n",
    "datos6['tipo']=datos6.tipo_elem.apply(cambio_nombre)\n",
    "datos6.head()"
   ]
  },
  {
   "cell_type": "markdown",
   "metadata": {},
   "source": [
    "__7. Crea una nueva columna llamada `Dia` que describa el día de la semana en la observación.__"
   ]
  },
  {
   "cell_type": "code",
   "execution_count": 35,
   "metadata": {
    "ExecuteTime": {
     "end_time": "2018-10-17T10:54:13.769865Z",
     "start_time": "2018-10-17T10:54:13.753002Z"
    }
   },
   "outputs": [
    {
     "data": {
      "text/html": [
       "<div>\n",
       "<style scoped>\n",
       "    .dataframe tbody tr th:only-of-type {\n",
       "        vertical-align: middle;\n",
       "    }\n",
       "\n",
       "    .dataframe tbody tr th {\n",
       "        vertical-align: top;\n",
       "    }\n",
       "\n",
       "    .dataframe thead th {\n",
       "        text-align: right;\n",
       "    }\n",
       "</style>\n",
       "<table border=\"1\" class=\"dataframe\">\n",
       "  <thead>\n",
       "    <tr style=\"text-align: right;\">\n",
       "      <th></th>\n",
       "      <th>idelem</th>\n",
       "      <th>fecha</th>\n",
       "      <th>identif</th>\n",
       "      <th>tipo_elem</th>\n",
       "      <th>intensidad</th>\n",
       "      <th>ocupacion</th>\n",
       "      <th>carga</th>\n",
       "      <th>vmed</th>\n",
       "      <th>error</th>\n",
       "      <th>periodo_integracion</th>\n",
       "      <th>Fecha</th>\n",
       "      <th>Dia</th>\n",
       "    </tr>\n",
       "  </thead>\n",
       "  <tbody>\n",
       "    <tr>\n",
       "      <th>0</th>\n",
       "      <td>3621</td>\n",
       "      <td>2017-02-18 07:30:00</td>\n",
       "      <td>17016</td>\n",
       "      <td>PUNTOS MEDIDA URBANOS</td>\n",
       "      <td>207</td>\n",
       "      <td>0</td>\n",
       "      <td>8.0</td>\n",
       "      <td>0</td>\n",
       "      <td>N</td>\n",
       "      <td>15</td>\n",
       "      <td>2017-02-18 07:30:00</td>\n",
       "      <td>5</td>\n",
       "    </tr>\n",
       "    <tr>\n",
       "      <th>1</th>\n",
       "      <td>3973</td>\n",
       "      <td>2017-02-07 00:00:00</td>\n",
       "      <td>06033</td>\n",
       "      <td>PUNTOS MEDIDA URBANOS</td>\n",
       "      <td>134</td>\n",
       "      <td>1</td>\n",
       "      <td>6.0</td>\n",
       "      <td>0</td>\n",
       "      <td>N</td>\n",
       "      <td>13</td>\n",
       "      <td>2017-02-07 00:00:00</td>\n",
       "      <td>1</td>\n",
       "    </tr>\n",
       "    <tr>\n",
       "      <th>2</th>\n",
       "      <td>4064</td>\n",
       "      <td>2017-02-11 22:45:00</td>\n",
       "      <td>10018</td>\n",
       "      <td>PUNTOS MEDIDA URBANOS</td>\n",
       "      <td>169</td>\n",
       "      <td>3</td>\n",
       "      <td>NaN</td>\n",
       "      <td>0</td>\n",
       "      <td>NaN</td>\n",
       "      <td>15</td>\n",
       "      <td>2017-02-11 22:45:00</td>\n",
       "      <td>5</td>\n",
       "    </tr>\n",
       "    <tr>\n",
       "      <th>3</th>\n",
       "      <td>6375</td>\n",
       "      <td>2017-02-08 00:00:00</td>\n",
       "      <td>59021</td>\n",
       "      <td>PUNTOS MEDIDA URBANOS</td>\n",
       "      <td>53</td>\n",
       "      <td>1</td>\n",
       "      <td>7.0</td>\n",
       "      <td>0</td>\n",
       "      <td>N</td>\n",
       "      <td>14</td>\n",
       "      <td>2017-02-08 00:00:00</td>\n",
       "      <td>2</td>\n",
       "    </tr>\n",
       "    <tr>\n",
       "      <th>4</th>\n",
       "      <td>6691</td>\n",
       "      <td>2017-02-23 20:45:00</td>\n",
       "      <td>PM12121</td>\n",
       "      <td>--</td>\n",
       "      <td>2428</td>\n",
       "      <td>5</td>\n",
       "      <td>37.0</td>\n",
       "      <td>81</td>\n",
       "      <td>NaN</td>\n",
       "      <td>15</td>\n",
       "      <td>2017-02-23 20:45:00</td>\n",
       "      <td>3</td>\n",
       "    </tr>\n",
       "  </tbody>\n",
       "</table>\n",
       "</div>"
      ],
      "text/plain": [
       "   idelem                fecha  identif              tipo_elem  intensidad  \\\n",
       "0    3621  2017-02-18 07:30:00    17016  PUNTOS MEDIDA URBANOS         207   \n",
       "1    3973  2017-02-07 00:00:00    06033  PUNTOS MEDIDA URBANOS         134   \n",
       "2    4064  2017-02-11 22:45:00    10018  PUNTOS MEDIDA URBANOS         169   \n",
       "3    6375  2017-02-08 00:00:00    59021  PUNTOS MEDIDA URBANOS          53   \n",
       "4    6691  2017-02-23 20:45:00  PM12121                     --        2428   \n",
       "\n",
       "   ocupacion  carga  vmed error  periodo_integracion               Fecha  Dia  \n",
       "0          0    8.0     0     N                   15 2017-02-18 07:30:00    5  \n",
       "1          1    6.0     0     N                   13 2017-02-07 00:00:00    1  \n",
       "2          3    NaN     0   NaN                   15 2017-02-11 22:45:00    5  \n",
       "3          1    7.0     0     N                   14 2017-02-08 00:00:00    2  \n",
       "4          5   37.0    81   NaN                   15 2017-02-23 20:45:00    3  "
      ]
     },
     "execution_count": 35,
     "metadata": {},
     "output_type": "execute_result"
    }
   ],
   "source": [
    "# Sol: \n",
    "import datetime as dt\n",
    "datos7=datos\n",
    "datos7['Fecha']=pd.to_datetime(datos7['fecha'])\n",
    "datos7['Dia']=datos7['Fecha'].dt.weekday\n",
    "datos7.head()\n"
   ]
  }
 ],
 "metadata": {
  "anaconda-cloud": {},
  "kernelspec": {
   "display_name": "Python 3",
   "language": "python",
   "name": "python3"
  },
  "language_info": {
   "codemirror_mode": {
    "name": "ipython",
    "version": 3
   },
   "file_extension": ".py",
   "mimetype": "text/x-python",
   "name": "python",
   "nbconvert_exporter": "python",
   "pygments_lexer": "ipython3",
   "version": "3.7.4"
  },
  "nbTranslate": {
   "displayLangs": [
    "en",
    "es"
   ],
   "hotkey": "alt-t",
   "langInMainMenu": true,
   "sourceLang": "es",
   "targetLang": "en",
   "useGoogleTranslate": true
  },
  "toc": {
   "nav_menu": {
    "height": "12px",
    "width": "252px"
   },
   "number_sections": true,
   "sideBar": true,
   "skip_h1_title": false,
   "title_cell": "Table of Contents",
   "title_sidebar": "Contents",
   "toc_cell": false,
   "toc_position": {
    "height": "428px",
    "left": "0px",
    "right": "907.333px",
    "top": "121px",
    "width": "231px"
   },
   "toc_section_display": "block",
   "toc_window_display": false
  }
 },
 "nbformat": 4,
 "nbformat_minor": 1
}
