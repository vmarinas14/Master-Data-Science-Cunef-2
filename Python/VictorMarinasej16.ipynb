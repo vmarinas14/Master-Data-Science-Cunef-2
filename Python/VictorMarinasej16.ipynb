{
 "cells": [
  {
   "cell_type": "markdown",
   "metadata": {},
   "source": [
    "#  Datos abiertos\n",
    "\n",
    "En los últimos años, muchos gobiernos e instituciones públicas y privadas se han encargado de construir los llamados portales de datos abiertos. Estos portales tienen como objetivo final el almacenamiento de datos y la compartición de éstos con terceros\n",
    "(investigadores, desarrolladores de aplicaciones, ciudadanos, empresas, etc.). Estos portales son de acceso libre y roporcionan gran variedad de conjuntos de datos aptos para el desarrollo de procesos relacionados con tareas análisis y de aprendizaje.\n",
    "\n",
    "Proponemos explorar el portal de datos abiertos de la Comunidad de Madrid http://www.comunidad.madrid/gobierno/datos-abiertos\n",
    "\n",
    "En particular se pide la descarga los datos de Nacimientos en la Comunidad de Madrid por grupos de edad de la madre (Opción CM y formato JSON)\n",
    "\n",
    "http://datos.comunidad.madrid/catalogo/dataset/nacimientos_por_grupos_edad_de_la_madre\n",
    "\n",
    "El enlace de descarga es:\n",
    "\n",
    "http://datos.comunidad.madrid/catalogo/dataset/nacimientos_por_grupos_edad_de_la_madre/resource/1c9d0b82-1b43-4624-b0f4-4d1cd763b873\n",
    "\n",
    "Como se puede observar, se trata de un fichero en formato JSON (similar a los diccionarios de Python). Contiene información de las personas nacidas en alguno de los municipios de la Comunidad de Madrid por grupos de edad y sexo. En el caso del Municipio de Madrid, la información está desagregada por distrito y barrio. Los grupos de edad son quinquenales salvo en el primer grupo que son menores de 15 años, y el último grupo de 100 y más años que es abierto. Los datos proceden de la última explotación del Movimiento Natural de la Población. La explotación completa y de años anteriores se puede consultar en www.madrid.org/iestadis."
   ]
  },
  {
   "cell_type": "markdown",
   "metadata": {},
   "source": [
    "####  Lectura del fichero en Python\n",
    "\n",
    "Una vez descargado el fichero, ejecuta la siguiente celda para leer los datos. Ten en cuenta que la ruta es importante y has de ponerla bien para que Python encuentre el fichero. "
   ]
  },
  {
   "cell_type": "code",
   "execution_count": 12,
   "metadata": {},
   "outputs": [],
   "source": [
    "import json\n",
    "l = open(\"DATOS COMUNIDAD MADRID.json\", encoding=\"utf8\")\n",
    "data = json.load(l)\n",
    "#data"
   ]
  },
  {
   "cell_type": "markdown",
   "metadata": {},
   "source": [
    "#### 1\n",
    "\n",
    "Diseña una función llamada `municipios` cuyo dato de entrada sea el contenido del fichero y la salida sea la lista de municipios contenidos en el fichero. ¿Cuantos municipios hay? "
   ]
  },
  {
   "cell_type": "code",
   "execution_count": 15,
   "metadata": {},
   "outputs": [],
   "source": [
    "# Sol: \n",
    "def municipios(documento):\n",
    "    municipios.datos = []  # creo una lista para adjuntar los municipios\n",
    "    i = 0\n",
    "    while i < len(documento[\"data\"]):\n",
    "        nombre = documento[\"data\"][i][\"municipio_nombre\"]  # nombre de cada municipio\n",
    "        if nombre in municipios.datos : #si el municipio aparece suma 1 a i \n",
    "            i = i + 1\n",
    "        else:         \n",
    "            i = i + 1    # si no esta en la lista  suma 1 a i y añadimos el nombre a la lista\n",
    "            municipios.datos.append(nombre)\n",
    "    print(len(municipios.datos )) \n",
    "    return municipios.datos \n"
   ]
  },
  {
   "cell_type": "code",
   "execution_count": 16,
   "metadata": {},
   "outputs": [
    {
     "name": "stdout",
     "output_type": "stream",
     "text": [
      "179\n"
     ]
    },
    {
     "data": {
      "text/plain": [
       "[' Acebeda (La)',\n",
       " ' Ajalvir',\n",
       " ' Alameda del Valle',\n",
       " ' Álamo (El)',\n",
       " ' Alcalá de Henares',\n",
       " ' Alcobendas',\n",
       " ' Alcorcón',\n",
       " ' Aldea del Fresno',\n",
       " ' Algete',\n",
       " ' Alpedrete',\n",
       " ' Ambite',\n",
       " ' Anchuelo',\n",
       " ' Aranjuez',\n",
       " ' Arganda del Rey',\n",
       " ' Arroyomolinos',\n",
       " ' Atazar (El)',\n",
       " ' Batres',\n",
       " ' Becerril de la Sierra',\n",
       " ' Belmonte de Tajo',\n",
       " ' Berrueco (El)',\n",
       " ' Berzosa del Lozoya',\n",
       " ' Boadilla del Monte',\n",
       " ' Boalo (El)',\n",
       " ' Braojos',\n",
       " ' Brea de Tajo',\n",
       " ' Brunete',\n",
       " ' Buitrago del Lozoya',\n",
       " ' Bustarviejo',\n",
       " ' Cabanillas de la Sierra',\n",
       " ' Cabrera (La)',\n",
       " ' Cadalso de los Vidrios',\n",
       " ' Camarma de Esteruelas',\n",
       " ' Campo Real',\n",
       " ' Canencia',\n",
       " ' Carabaña',\n",
       " ' Casarrubuelos',\n",
       " ' Cenicientos',\n",
       " ' Cercedilla',\n",
       " ' Cervera de Buitrago',\n",
       " ' Chapinería',\n",
       " ' Chinchón',\n",
       " ' Ciempozuelos',\n",
       " ' Cobeña',\n",
       " ' Collado Mediano',\n",
       " ' Collado Villalba',\n",
       " ' Colmenar de Oreja',\n",
       " ' Colmenar del Arroyo',\n",
       " ' Colmenar Viejo',\n",
       " ' Colmenarejo',\n",
       " ' Corpa',\n",
       " ' Coslada',\n",
       " ' Cubas de la Sagra',\n",
       " ' Daganzo de Arriba',\n",
       " ' Escorial (El)',\n",
       " ' Estremera',\n",
       " ' Fresnedillas de la Oliva',\n",
       " ' Fresno de Torote',\n",
       " ' Fuenlabrada',\n",
       " ' Fuente el Saz de Jarama',\n",
       " ' Fuentidueña de Tajo',\n",
       " ' Galapagar',\n",
       " ' Garganta de los Montes',\n",
       " ' Gargantilla del Lozoya y Pinilla de Buitrago',\n",
       " ' Gascones',\n",
       " ' Getafe',\n",
       " ' Griñón',\n",
       " ' Guadalix de la Sierra',\n",
       " ' Guadarrama',\n",
       " ' Hiruela (La)',\n",
       " ' Horcajo de la Sierra',\n",
       " ' Horcajuelo de la Sierra',\n",
       " ' Hoyo de Manzanares',\n",
       " ' Humanes de Madrid',\n",
       " ' Leganés',\n",
       " ' Loeches',\n",
       " ' Lozoya',\n",
       " ' Lozoyuela-Navas-Sieteiglesias',\n",
       " ' Madarcos',\n",
       " ' Madrid',\n",
       " ' Majadahonda',\n",
       " ' Manzanares el Real',\n",
       " ' Meco',\n",
       " ' Mejorada del Campo',\n",
       " ' Miraflores de la Sierra',\n",
       " ' Molar (El)',\n",
       " ' Molinos (Los)',\n",
       " ' Montejo de la Sierra',\n",
       " ' Moraleja de Enmedio',\n",
       " ' Moralzarzal',\n",
       " ' Morata de Tajuña',\n",
       " ' Móstoles',\n",
       " ' Navacerrada',\n",
       " ' Navalafuente',\n",
       " ' Navalagamella',\n",
       " ' Navalcarnero',\n",
       " ' Navarredonda y San Mamés',\n",
       " ' Navas del Rey',\n",
       " ' Nuevo Baztán',\n",
       " ' Olmeda de las Fuentes',\n",
       " ' Orusco de Tajuña',\n",
       " ' Paracuellos de Jarama',\n",
       " ' Parla',\n",
       " ' Patones',\n",
       " ' Pedrezuela',\n",
       " ' Pelayos de la Presa',\n",
       " ' Perales de Tajuña',\n",
       " ' Pezuela de las Torres',\n",
       " ' Pinilla del Valle',\n",
       " ' Pinto',\n",
       " ' Piñuécar',\n",
       " ' Pozuelo de Alarcón',\n",
       " ' Pozuelo del Rey',\n",
       " ' Prádena del Rincón',\n",
       " ' Puebla de la Sierra',\n",
       " ' Puentes Viejas',\n",
       " ' Quijorna',\n",
       " ' Rascafría',\n",
       " ' Redueña',\n",
       " ' Ribatejada',\n",
       " ' Rivas-Vaciamadrid',\n",
       " ' Robledillo de la Jara',\n",
       " ' Robledo de Chavela',\n",
       " ' Robregordo',\n",
       " ' Rozas de Madrid (Las)',\n",
       " ' Rozas de Puerto Real',\n",
       " ' San Agustín del Guadalix',\n",
       " ' San Fernando de Henares',\n",
       " ' San Lorenzo de El Escorial',\n",
       " ' San Martín de la Vega',\n",
       " ' San Martín de Valdeiglesias',\n",
       " ' San Sebastián de los Reyes',\n",
       " ' Santa María de la Alameda',\n",
       " ' Santorcaz',\n",
       " ' Santos de la Humosa (Los)',\n",
       " ' Serna del Monte (La)',\n",
       " ' Serranillos del Valle',\n",
       " ' Sevilla la Nueva',\n",
       " ' Somosierra',\n",
       " ' Soto del Real',\n",
       " ' Talamanca de Jarama',\n",
       " ' Tielmes',\n",
       " ' Titulcia',\n",
       " ' Torrejón de Ardoz',\n",
       " ' Torrejón de la Calzada',\n",
       " ' Torrejón de Velasco',\n",
       " ' Torrelaguna',\n",
       " ' Torrelodones',\n",
       " ' Torremocha de Jarama',\n",
       " ' Torres de la Alameda',\n",
       " ' Tres Cantos',\n",
       " ' Valdaracete',\n",
       " ' Valdeavero',\n",
       " ' Valdelaguna',\n",
       " ' Valdemanco',\n",
       " ' Valdemaqueda',\n",
       " ' Valdemorillo',\n",
       " ' Valdemoro',\n",
       " ' Valdeolmos-Alalpardo',\n",
       " ' Valdepiélagos',\n",
       " ' Valdetorres de Jarama',\n",
       " ' Valdilecha',\n",
       " ' Valverde de Alcalá',\n",
       " ' Velilla de San Antonio',\n",
       " ' Vellón (El)',\n",
       " ' Venturada',\n",
       " ' Villa del Prado',\n",
       " ' Villaconejos',\n",
       " ' Villalbilla',\n",
       " ' Villamanrique de Tajo',\n",
       " ' Villamanta',\n",
       " ' Villamantilla',\n",
       " ' Villanueva de la Cañada',\n",
       " ' Villanueva de Perales',\n",
       " ' Villanueva del Pardillo',\n",
       " ' Villar del Olmo',\n",
       " ' Villarejo de Salvanés',\n",
       " ' Villaviciosa de Odón',\n",
       " ' Villavieja del Lozoya',\n",
       " ' Zarzalejo']"
      ]
     },
     "execution_count": 16,
     "metadata": {},
     "output_type": "execute_result"
    }
   ],
   "source": [
    "municipios (data)  #total municipios"
   ]
  },
  {
   "cell_type": "markdown",
   "metadata": {},
   "source": [
    "#### 2\n",
    "\n",
    "Diseña una función llamada `nacimientos` cuyo dato de entrada sea el contenido del fichero y la salida sea el número total de nacimientos registrados en el fichero. "
   ]
  },
  {
   "cell_type": "code",
   "execution_count": 23,
   "metadata": {},
   "outputs": [],
   "source": [
    "# Sol: \n",
    "def nacimientos(documento):\n",
    "    nacimientos_lista = []  # creo una lista para adjuntar los municipios\n",
    "    i = 0\n",
    "    while i < len(documento[\"data\"]):\n",
    "        total_nacimientos = documento[\"data\"][i][\"numero_nacimientos\"]\n",
    "        nacimientos_lista.append(total_nacimientos)\n",
    "        i = i + 1\n",
    "    return sum(nacimientos_lista)\n",
    "    "
   ]
  },
  {
   "cell_type": "code",
   "execution_count": 24,
   "metadata": {},
   "outputs": [
    {
     "data": {
      "text/plain": [
       "60555"
      ]
     },
     "execution_count": 24,
     "metadata": {},
     "output_type": "execute_result"
    }
   ],
   "source": [
    "nacimientos(data)"
   ]
  },
  {
   "cell_type": "markdown",
   "metadata": {},
   "source": [
    "#### 3\n",
    "\n",
    "Diseña una función llamada `nacimientos_mujeres` cuyo dato de entrada sea el contenido del fichero y la salida sea el número total de niñas nacidas registradas en el fichero. "
   ]
  },
  {
   "cell_type": "code",
   "execution_count": 25,
   "metadata": {},
   "outputs": [],
   "source": [
    "# Sol: \n",
    "def nacimientos_mujeres(fichero):\n",
    "    lista_nacimientos_mujeres = []\n",
    "    i = 0\n",
    "    while i < len(fichero['data']):\n",
    "        numero_nacimientos_mujer = fichero['data'][i]['numero_nacimientos']\n",
    "        if fichero['data'][i]['sexo'] == 'Mujer':\n",
    "            lista_nacimientos_mujeres.append(numero_nacimientos_mujer)\n",
    "            i = i + 1\n",
    "        else:\n",
    "            i = i + 1\n",
    "    return sum(lista_nacimientos_mujeres)\n",
    "\n",
    "\n"
   ]
  },
  {
   "cell_type": "code",
   "execution_count": 26,
   "metadata": {},
   "outputs": [
    {
     "data": {
      "text/plain": [
       "29419"
      ]
     },
     "execution_count": 26,
     "metadata": {},
     "output_type": "execute_result"
    }
   ],
   "source": [
    "nacimientos_mujeres(data)"
   ]
  },
  {
   "cell_type": "markdown",
   "metadata": {},
   "source": [
    "#### 4\n",
    "\n",
    "Diseña una función llamada `rangos_edad` cuyo dato de entrada sea el contenido del fichero y la salida sea la lista de los distintos rangos de edad contenidos en el fichero. "
   ]
  },
  {
   "cell_type": "code",
   "execution_count": 29,
   "metadata": {},
   "outputs": [],
   "source": [
    "# Sol: \n",
    "def rangos_de_edad(documento):\n",
    "    lista_rango_edad = []   #añadimos cada rango a la lista (vacia)\n",
    "    i = 0\n",
    "    while i < len(documento[\"data\"]):\n",
    "        rango = documento[\"data\"][i][\"rango_edad_de_la_madre\"]\n",
    "        if rango in lista_rango_edad:   #si ya esta el rango solo suma 1 a i\n",
    "            i = i + 1\n",
    "        else: \n",
    "            lista_rango_edad.append(rango)  #  si no esta en la lista suma 1 a i y añadimos el rango a la lista\n",
    "            i = i + 1\n",
    "    return lista_rango_edad\n",
    "\n"
   ]
  },
  {
   "cell_type": "code",
   "execution_count": 30,
   "metadata": {},
   "outputs": [
    {
     "data": {
      "text/plain": [
       "['Menores de 15 años',\n",
       " 'De 15 a 19 años',\n",
       " 'De 20 a 24 años',\n",
       " 'De 25 a 29 años',\n",
       " 'De 30 a 34 años',\n",
       " 'De 35 a 39 años',\n",
       " 'De 40 a 44 años',\n",
       " 'De 45 a 49 años',\n",
       " 'De 50 años y más']"
      ]
     },
     "execution_count": 30,
     "metadata": {},
     "output_type": "execute_result"
    }
   ],
   "source": [
    "rangos_de_edad(data)"
   ]
  },
  {
   "cell_type": "markdown",
   "metadata": {},
   "source": [
    "#### 5\n",
    "\n",
    "Diseña una función llamada `nacimientos_mujeres_15` cuyo dato de entrada sea el contenido del fichero y la salida sea el número total de nacimientos cuyas madres tengan menos de 15 años. "
   ]
  },
  {
   "cell_type": "code",
   "execution_count": 39,
   "metadata": {},
   "outputs": [],
   "source": [
    "# Sol :\n",
    "def nacimientos_mujeres_menores15(documento):\n",
    "    i = 0\n",
    "    datos_nacimientos_mujeres_menores15 = []\n",
    "    while i < len(documento[\"data\"]):\n",
    "        nacimientos_mujeres_menos_15 = documento[\"data\"][i][\"numero_nacimientos\"] \n",
    "        if documento[\"data\"][i][\"rango_edad_de_la_madre\"] == \"Menores de 15 años\": \n",
    "            datos_nacimientos_mujeres_menores15.append(nacimientos_mujeres_menos_15)\n",
    "            i = i + 1\n",
    "        else: \n",
    "            i = i + 1\n",
    "    return sum(datos_nacimientos_mujeres_menores15)\n"
   ]
  },
  {
   "cell_type": "code",
   "execution_count": 40,
   "metadata": {},
   "outputs": [
    {
     "data": {
      "text/plain": [
       "12"
      ]
     },
     "execution_count": 40,
     "metadata": {},
     "output_type": "execute_result"
    }
   ],
   "source": [
    "nacimientos_mujeres_menores15(data)"
   ]
  },
  {
   "cell_type": "markdown",
   "metadata": {},
   "source": [
    "#### 6\n",
    "\n",
    "Diseña una función llamada `nacimientos_por_localidad` cuyo dato de entrada sea el contenido del fichero y la salida sea un nuevo diccionario donde las claves sean la localidad y el valor sea el número total de nacimientos en dicha localidad."
   ]
  },
  {
   "cell_type": "code",
   "execution_count": 41,
   "metadata": {},
   "outputs": [
    {
     "ename": "SyntaxError",
     "evalue": "invalid syntax (<ipython-input-41-cf596c189a21>, line 5)",
     "output_type": "error",
     "traceback": [
      "\u001b[0;36m  File \u001b[0;32m\"<ipython-input-41-cf596c189a21>\"\u001b[0;36m, line \u001b[0;32m5\u001b[0m\n\u001b[0;31m    while i < len(fichero['data'])  # nuevo diccionario (vacio)\u001b[0m\n\u001b[0m                                                               ^\u001b[0m\n\u001b[0;31mSyntaxError\u001b[0m\u001b[0;31m:\u001b[0m invalid syntax\n"
     ]
    }
   ],
   "source": [
    "# Sol :\n",
    "def nacimientos_por_localidad(fichero):\n",
    "    nacimientos_por_municipio = {} \n",
    "    i = 0\n",
    "    while i < len(fichero['data'])  # nuevo diccionario (vacio)\n",
    "  \n",
    "      ..................................\n",
    "    #no me sale.... :(\n"
   ]
  },
  {
   "cell_type": "code",
   "execution_count": null,
   "metadata": {},
   "outputs": [],
   "source": []
  },
  {
   "cell_type": "code",
   "execution_count": null,
   "metadata": {},
   "outputs": [],
   "source": []
  }
 ],
 "metadata": {
  "anaconda-cloud": {},
  "kernelspec": {
   "display_name": "Python 3",
   "language": "python",
   "name": "python3"
  },
  "language_info": {
   "codemirror_mode": {
    "name": "ipython",
    "version": 3
   },
   "file_extension": ".py",
   "mimetype": "text/x-python",
   "name": "python",
   "nbconvert_exporter": "python",
   "pygments_lexer": "ipython3",
   "version": "3.7.3"
  },
  "nbTranslate": {
   "displayLangs": [
    "en",
    "es"
   ],
   "hotkey": "alt-t",
   "langInMainMenu": true,
   "sourceLang": "es",
   "targetLang": "en",
   "useGoogleTranslate": true
  },
  "toc": {
   "base_numbering": 1,
   "nav_menu": {
    "height": "161px",
    "width": "252px"
   },
   "number_sections": true,
   "sideBar": true,
   "skip_h1_title": false,
   "title_cell": "Table of Contents",
   "title_sidebar": "Contents",
   "toc_cell": false,
   "toc_position": {},
   "toc_section_display": "block",
   "toc_window_display": false
  }
 },
 "nbformat": 4,
 "nbformat_minor": 1
}
